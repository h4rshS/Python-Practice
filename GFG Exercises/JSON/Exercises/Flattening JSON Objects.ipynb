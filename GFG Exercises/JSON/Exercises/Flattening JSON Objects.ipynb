{
 "cells": [
  {
   "cell_type": "markdown",
   "metadata": {},
   "source": [
    "# Flattening JSON Objects"
   ]
  },
  {
   "cell_type": "markdown",
   "metadata": {},
   "source": [
    "### Program for Flattening JSON objects"
   ]
  },
  {
   "cell_type": "code",
   "execution_count": 1,
   "metadata": {},
   "outputs": [],
   "source": [
    "def flatten_json(unflatten: dict):\n",
    "    out = {}\n",
    "    \n",
    "    def flatten(x: any, name=''):\n",
    "        if type(x) is dict:\n",
    "            for a in x:\n",
    "                flatten(x[a], name + a + '_')\n",
    "        elif type(x) is list:\n",
    "            i = 0\n",
    "            \n",
    "            for a in x:\n",
    "                flatten(a, name + str(i) + '_')\n",
    "                i += 1\n",
    "        else:\n",
    "            out[name[:-1]] = x\n",
    "            \n",
    "    flatten(unflatten)\n",
    "    return out"
   ]
  },
  {
   "cell_type": "code",
   "execution_count": 2,
   "metadata": {},
   "outputs": [
    {
     "data": {
      "text/plain": [
       "{'user_Rachel_UserID': 1717171717,\n",
       " 'user_Rachel_Email': 'rachel1999@gmail.com',\n",
       " 'user_Rachel_friends_0': 'John',\n",
       " 'user_Rachel_friends_1': 'Jeremy',\n",
       " 'user_Rachel_friends_2': 'Emily'}"
      ]
     },
     "execution_count": 2,
     "metadata": {},
     "output_type": "execute_result"
    }
   ],
   "source": [
    "flatten_json({'user':\n",
    "               {'Rachel':\n",
    "                {'UserID': 1717171717,\n",
    "                 'Email': 'rachel1999@gmail.com',\n",
    "                 'friends': ['John', 'Jeremy', 'Emily']\n",
    "                 }\n",
    "                }\n",
    "               })"
   ]
  },
  {
   "cell_type": "code",
   "execution_count": 4,
   "metadata": {},
   "outputs": [],
   "source": [
    "from flatten_json import flatten"
   ]
  },
  {
   "cell_type": "code",
   "execution_count": 5,
   "metadata": {},
   "outputs": [],
   "source": [
    "def flatten_json(unflatten: dict):\n",
    "    return flatten(unflatten)"
   ]
  },
  {
   "cell_type": "code",
   "execution_count": 6,
   "metadata": {},
   "outputs": [
    {
     "data": {
      "text/plain": [
       "{'user_Rachel_UserID': 1717171717,\n",
       " 'user_Rachel_Email': 'rachel1999@gmail.com',\n",
       " 'user_Rachel_friends_0': 'John',\n",
       " 'user_Rachel_friends_1': 'Jeremy',\n",
       " 'user_Rachel_friends_2': 'Emily'}"
      ]
     },
     "execution_count": 6,
     "metadata": {},
     "output_type": "execute_result"
    }
   ],
   "source": [
    "flatten_json({'user':\n",
    "               {'Rachel':\n",
    "                {'UserID': 1717171717,\n",
    "                 'Email': 'rachel1999@gmail.com',\n",
    "                 'friends': ['John', 'Jeremy', 'Emily']\n",
    "                 }\n",
    "                }\n",
    "               })"
   ]
  }
 ],
 "metadata": {
  "kernelspec": {
   "display_name": "Python 3",
   "language": "python",
   "name": "python3"
  },
  "language_info": {
   "codemirror_mode": {
    "name": "ipython",
    "version": 3
   },
   "file_extension": ".py",
   "mimetype": "text/x-python",
   "name": "python",
   "nbconvert_exporter": "python",
   "pygments_lexer": "ipython3",
   "version": "3.13.1"
  }
 },
 "nbformat": 4,
 "nbformat_minor": 2
}
