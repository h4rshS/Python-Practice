{
 "cells": [
  {
   "cell_type": "markdown",
   "metadata": {},
   "source": [
    "# JSON to Python Object"
   ]
  },
  {
   "cell_type": "markdown",
   "metadata": {},
   "source": [
    "### Program to Convert JSON data Into a Custom Python Object"
   ]
  },
  {
   "cell_type": "code",
   "execution_count": 2,
   "metadata": {},
   "outputs": [],
   "source": [
    "import json\n",
    "from collections import namedtuple"
   ]
  },
  {
   "cell_type": "code",
   "execution_count": 11,
   "metadata": {},
   "outputs": [],
   "source": [
    "def json_to_obj(json_data: str):\n",
    "    x = json.loads(json_data, object_hook=lambda d: namedtuple('X', d.keys())(*d.values()))\n",
    "    return x.name, x.id, x.location"
   ]
  },
  {
   "cell_type": "code",
   "execution_count": 12,
   "metadata": {},
   "outputs": [
    {
     "data": {
      "text/plain": [
       "('Geek', 1, 'Mumbai')"
      ]
     },
     "execution_count": 12,
     "metadata": {},
     "output_type": "execute_result"
    }
   ],
   "source": [
    "json_to_obj('{\"name\" : \"Geek\", \"id\" : 1, \"location\" : \"Mumbai\"}')"
   ]
  },
  {
   "cell_type": "code",
   "execution_count": 13,
   "metadata": {},
   "outputs": [],
   "source": [
    "def decoder(d: dict):\n",
    "    return namedtuple('X', d.keys())(*d.values())\n",
    "\n",
    "def json_to_obj(json_data: str):\n",
    "    x = json.loads(json_data, object_hook=decoder)\n",
    "    return x.name, x.id, x.location"
   ]
  },
  {
   "cell_type": "code",
   "execution_count": 14,
   "metadata": {},
   "outputs": [
    {
     "data": {
      "text/plain": [
       "('Geek', 1, 'Mumbai')"
      ]
     },
     "execution_count": 14,
     "metadata": {},
     "output_type": "execute_result"
    }
   ],
   "source": [
    "json_to_obj('{\"name\" : \"Geek\", \"id\" : 1, \"location\" : \"Mumbai\"}')"
   ]
  },
  {
   "cell_type": "code",
   "execution_count": 15,
   "metadata": {},
   "outputs": [],
   "source": [
    "try:\n",
    "    from types import SimpleNamespace as Namespace\n",
    "except ImportError:\n",
    "    from argparse import Namespace"
   ]
  },
  {
   "cell_type": "code",
   "execution_count": 16,
   "metadata": {},
   "outputs": [],
   "source": [
    "def json_to_obj(json_data: str):\n",
    "    x = json.loads(json_data, object_hook=lambda d: Namespace(**d))\n",
    "    return x.name, x.id, x.location"
   ]
  },
  {
   "cell_type": "code",
   "execution_count": 17,
   "metadata": {},
   "outputs": [
    {
     "data": {
      "text/plain": [
       "('Geek', 1, 'Mumbai')"
      ]
     },
     "execution_count": 17,
     "metadata": {},
     "output_type": "execute_result"
    }
   ],
   "source": [
    "json_to_obj('{\"name\" : \"Geek\", \"id\" : 1, \"location\" : \"Mumbai\"}')"
   ]
  }
 ],
 "metadata": {
  "kernelspec": {
   "display_name": "Python 3",
   "language": "python",
   "name": "python3"
  },
  "language_info": {
   "codemirror_mode": {
    "name": "ipython",
    "version": 3
   },
   "file_extension": ".py",
   "mimetype": "text/x-python",
   "name": "python",
   "nbconvert_exporter": "python",
   "pygments_lexer": "ipython3",
   "version": "3.13.1"
  }
 },
 "nbformat": 4,
 "nbformat_minor": 2
}
