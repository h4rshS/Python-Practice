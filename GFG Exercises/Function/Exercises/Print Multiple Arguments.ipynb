{
 "cells": [
  {
   "cell_type": "markdown",
   "metadata": {},
   "source": [
    "# Print Multiple Arguments"
   ]
  },
  {
   "cell_type": "markdown",
   "metadata": {},
   "source": [
    "### Program to Print Multiple Arguments"
   ]
  },
  {
   "cell_type": "code",
   "execution_count": 1,
   "metadata": {},
   "outputs": [],
   "source": [
    "def print_args(name: str, num: str):\n",
    "    print('Hello From', name, ',', num)"
   ]
  },
  {
   "cell_type": "code",
   "execution_count": 2,
   "metadata": {},
   "outputs": [
    {
     "name": "stdout",
     "output_type": "stream",
     "text": [
      "Hello From geeks for geeks , 25\n"
     ]
    }
   ],
   "source": [
    "print_args('geeks for geeks', '25')"
   ]
  },
  {
   "cell_type": "code",
   "execution_count": 3,
   "metadata": {},
   "outputs": [],
   "source": [
    "def print_args(name: str, num: str = '25'):\n",
    "    print('Hello From', name, ',', num)"
   ]
  },
  {
   "cell_type": "code",
   "execution_count": 4,
   "metadata": {},
   "outputs": [
    {
     "name": "stdout",
     "output_type": "stream",
     "text": [
      "Hello From geeks for geeks , 25\n",
      "Hello From geeks for geeks , 25\n"
     ]
    }
   ],
   "source": [
    "print_args('geeks for geeks')\n",
    "print_args('geeks for geeks', '25')"
   ]
  },
  {
   "cell_type": "code",
   "execution_count": 5,
   "metadata": {},
   "outputs": [],
   "source": [
    "def print_args(name: str, num: str):\n",
    "    print('Hello From %s , %s' %(name, num))"
   ]
  },
  {
   "cell_type": "code",
   "execution_count": 6,
   "metadata": {},
   "outputs": [
    {
     "name": "stdout",
     "output_type": "stream",
     "text": [
      "Hello From geeks for geeks , 25\n"
     ]
    }
   ],
   "source": [
    "print_args('geeks for geeks', '25')"
   ]
  },
  {
   "cell_type": "code",
   "execution_count": 7,
   "metadata": {},
   "outputs": [],
   "source": [
    "def print_args(name: str, num: str):\n",
    "    print('Hello From %(n)s , %(s)s' %{'n': name, 's': num})"
   ]
  },
  {
   "cell_type": "code",
   "execution_count": 8,
   "metadata": {},
   "outputs": [
    {
     "name": "stdout",
     "output_type": "stream",
     "text": [
      "Hello From geeks for geeks , 25\n"
     ]
    }
   ],
   "source": [
    "print_args('geeks for geeks', '25')"
   ]
  },
  {
   "cell_type": "code",
   "execution_count": 9,
   "metadata": {},
   "outputs": [],
   "source": [
    "def print_args(name: str, num: str):\n",
    "    print('Hello From {0} , {1}'.format(name, num))"
   ]
  },
  {
   "cell_type": "code",
   "execution_count": 10,
   "metadata": {},
   "outputs": [
    {
     "name": "stdout",
     "output_type": "stream",
     "text": [
      "Hello From gfg , 25\n"
     ]
    }
   ],
   "source": [
    "print_args('gfg', '25')"
   ]
  },
  {
   "cell_type": "code",
   "execution_count": 11,
   "metadata": {},
   "outputs": [],
   "source": [
    "def print_args(name: str, num: str):\n",
    "    print('Hello From {n} , {r}'.format(n = name, r = num))"
   ]
  },
  {
   "cell_type": "code",
   "execution_count": 12,
   "metadata": {},
   "outputs": [
    {
     "name": "stdout",
     "output_type": "stream",
     "text": [
      "Hello From gfg , 25\n"
     ]
    }
   ],
   "source": [
    "print_args('gfg', '25')"
   ]
  },
  {
   "cell_type": "code",
   "execution_count": 15,
   "metadata": {},
   "outputs": [],
   "source": [
    "def print_args(name: str, num: str):\n",
    "    print('Hello From ' + str(name) + ' , ' + str(num))"
   ]
  },
  {
   "cell_type": "code",
   "execution_count": 16,
   "metadata": {},
   "outputs": [
    {
     "name": "stdout",
     "output_type": "stream",
     "text": [
      "Hello From gfg , 25\n"
     ]
    }
   ],
   "source": [
    "print_args('gfg', '25')"
   ]
  },
  {
   "cell_type": "code",
   "execution_count": 17,
   "metadata": {},
   "outputs": [],
   "source": [
    "def print_args(name: str, num: str):\n",
    "    print(f'Hello From {name} , {num}')"
   ]
  },
  {
   "cell_type": "code",
   "execution_count": 18,
   "metadata": {},
   "outputs": [
    {
     "name": "stdout",
     "output_type": "stream",
     "text": [
      "Hello From gfg , 25\n"
     ]
    }
   ],
   "source": [
    "print_args('gfg', '25')"
   ]
  },
  {
   "cell_type": "code",
   "execution_count": 19,
   "metadata": {},
   "outputs": [],
   "source": [
    "def print_args(*args):\n",
    "    for arg in args:\n",
    "        print(arg)"
   ]
  },
  {
   "cell_type": "code",
   "execution_count": 20,
   "metadata": {},
   "outputs": [
    {
     "name": "stdout",
     "output_type": "stream",
     "text": [
      "['Hello from', 'geeks', 25]\n",
      "['Hello', 'gfg', 26]\n"
     ]
    }
   ],
   "source": [
    "print_args([\"Hello from\", \"geeks\", 25], [\"Hello\", \"gfg\", 26])"
   ]
  },
  {
   "cell_type": "code",
   "execution_count": 23,
   "metadata": {},
   "outputs": [],
   "source": [
    "def print_args(**kwargs):\n",
    "    for (key, value) in kwargs.items():\n",
    "        print(key, '->', value)"
   ]
  },
  {
   "cell_type": "code",
   "execution_count": 24,
   "metadata": {},
   "outputs": [
    {
     "name": "stdout",
     "output_type": "stream",
     "text": [
      "name -> geeks\n",
      "n -> 25\n"
     ]
    }
   ],
   "source": [
    "print_args(name='geeks', n='25')"
   ]
  }
 ],
 "metadata": {
  "kernelspec": {
   "display_name": "Python 3",
   "language": "python",
   "name": "python3"
  },
  "language_info": {
   "codemirror_mode": {
    "name": "ipython",
    "version": 3
   },
   "file_extension": ".py",
   "mimetype": "text/x-python",
   "name": "python",
   "nbconvert_exporter": "python",
   "pygments_lexer": "ipython3",
   "version": "3.13.1"
  }
 },
 "nbformat": 4,
 "nbformat_minor": 2
}
