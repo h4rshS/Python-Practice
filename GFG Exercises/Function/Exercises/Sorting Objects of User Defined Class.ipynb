{
 "cells": [
  {
   "cell_type": "markdown",
   "metadata": {},
   "source": [
    "# Sorting Objects of User Defined Class"
   ]
  },
  {
   "cell_type": "markdown",
   "metadata": {},
   "source": [
    "### Program for Sorting objects of user defined class"
   ]
  },
  {
   "cell_type": "code",
   "execution_count": 1,
   "metadata": {},
   "outputs": [],
   "source": [
    "class GFG:\n",
    "    \n",
    "    def __init__(self, a, b):\n",
    "        self.a = a\n",
    "        self.b = b\n",
    "        \n",
    "    def __repr__(self):\n",
    "        return str((self.a, self.b))"
   ]
  },
  {
   "cell_type": "code",
   "execution_count": 2,
   "metadata": {},
   "outputs": [],
   "source": [
    "def sort_objects(obj: any):\n",
    "    return sorted(obj, key=lambda x: x.b)"
   ]
  },
  {
   "cell_type": "code",
   "execution_count": 3,
   "metadata": {},
   "outputs": [
    {
     "data": {
      "text/plain": [
       "[('geeks', 1), ('for', 2), ('computer', 3), ('science', 3), ('geeks', 4)]"
      ]
     },
     "execution_count": 3,
     "metadata": {},
     "output_type": "execute_result"
    }
   ],
   "source": [
    "sort_objects([GFG(\"geeks\", 1),\n",
    "            GFG(\"computer\", 3),\n",
    "            GFG(\"for\", 2),\n",
    "            GFG(\"geeks\", 4),\n",
    "            GFG(\"science\", 3)])"
   ]
  },
  {
   "cell_type": "code",
   "execution_count": 4,
   "metadata": {},
   "outputs": [],
   "source": [
    "def sort_objects(obj: any):\n",
    "    return sorted(obj, key=lambda x: x.a.lower())"
   ]
  },
  {
   "cell_type": "code",
   "execution_count": 5,
   "metadata": {},
   "outputs": [
    {
     "data": {
      "text/plain": [
       "[('computer', 3), ('for', 2), ('geeks', 1), ('geeks', 4), ('science', 3)]"
      ]
     },
     "execution_count": 5,
     "metadata": {},
     "output_type": "execute_result"
    }
   ],
   "source": [
    "sort_objects([GFG(\"geeks\", 1),\n",
    "            GFG(\"computer\", 3),\n",
    "            GFG(\"for\", 2),\n",
    "            GFG(\"geeks\", 4),\n",
    "            GFG(\"science\", 3)])"
   ]
  },
  {
   "cell_type": "code",
   "execution_count": 6,
   "metadata": {},
   "outputs": [],
   "source": [
    "from functools import total_ordering"
   ]
  },
  {
   "cell_type": "code",
   "execution_count": 7,
   "metadata": {},
   "outputs": [],
   "source": [
    "@total_ordering\n",
    "class GFG:\n",
    "    \n",
    "    def __init__(self, a, b):\n",
    "        self.a = a\n",
    "        self.b = b\n",
    "        \n",
    "    def __lt__(self, obj):\n",
    "        return self.b < obj.b\n",
    "\n",
    "    def __gt__(self, obj):\n",
    "        return self.b > obj.b\n",
    "    \n",
    "    def __le__(self, obj):\n",
    "        return self.b <= obj.b\n",
    "\n",
    "    def __ge__(self, obj):\n",
    "        return self.b >= obj.b\n",
    "    \n",
    "    def __eq__(self, obj):\n",
    "        return self.b == obj.b\n",
    "\n",
    "    def __repr__(self):\n",
    "        return str((self.a, self.b))\n"
   ]
  },
  {
   "cell_type": "code",
   "execution_count": 8,
   "metadata": {},
   "outputs": [],
   "source": [
    "def sort_objects(obj: any):\n",
    "    return sorted(obj)"
   ]
  },
  {
   "cell_type": "code",
   "execution_count": 9,
   "metadata": {},
   "outputs": [
    {
     "data": {
      "text/plain": [
       "[('geeks', 1), ('for', 2), ('computer', 3), ('science', 3), ('geeks', 4)]"
      ]
     },
     "execution_count": 9,
     "metadata": {},
     "output_type": "execute_result"
    }
   ],
   "source": [
    "sort_objects([GFG(\"geeks\", 1),\n",
    "            GFG(\"computer\", 3),\n",
    "            GFG(\"for\", 2),\n",
    "            GFG(\"geeks\", 4),\n",
    "            GFG(\"science\", 3)])"
   ]
  }
 ],
 "metadata": {
  "kernelspec": {
   "display_name": "Python 3",
   "language": "python",
   "name": "python3"
  },
  "language_info": {
   "codemirror_mode": {
    "name": "ipython",
    "version": 3
   },
   "file_extension": ".py",
   "mimetype": "text/x-python",
   "name": "python",
   "nbconvert_exporter": "python",
   "pygments_lexer": "ipython3",
   "version": "3.13.1"
  }
 },
 "nbformat": 4,
 "nbformat_minor": 2
}
