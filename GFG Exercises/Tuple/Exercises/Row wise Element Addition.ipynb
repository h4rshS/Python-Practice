{
 "cells": [
  {
   "cell_type": "markdown",
   "metadata": {},
   "source": [
    "# Row wise Element Addition"
   ]
  },
  {
   "cell_type": "markdown",
   "metadata": {},
   "source": [
    "### Program for Row-wise element Addition in Tuple Matrix"
   ]
  },
  {
   "cell_type": "code",
   "execution_count": 1,
   "metadata": {},
   "outputs": [],
   "source": [
    "def row_addition(l: list[list[tuple]], custom: list):\n",
    "    return [[item + (custom[idx],) for item in row] for (idx, row) in enumerate(l)]"
   ]
  },
  {
   "cell_type": "code",
   "execution_count": 3,
   "metadata": {},
   "outputs": [
    {
     "data": {
      "text/plain": [
       "[[('Gfg', 3, 6), ('is', 3, 6)],\n",
       " [('best', 1, 7)],\n",
       " [('for', 5, 8), ('geeks', 1, 8)]]"
      ]
     },
     "execution_count": 3,
     "metadata": {},
     "output_type": "execute_result"
    }
   ],
   "source": [
    "row_addition([[('Gfg', 3), ('is', 3)], [('best', 1)], [('for', 5), ('geeks', 1)]], [6, 7, 8])"
   ]
  },
  {
   "cell_type": "code",
   "execution_count": 4,
   "metadata": {},
   "outputs": [],
   "source": [
    "def row_addition(l: list[list[tuple]], custom: list):\n",
    "    return [[item + (val,) for item in key] for (key, val) in zip(l, custom)]"
   ]
  },
  {
   "cell_type": "code",
   "execution_count": 5,
   "metadata": {},
   "outputs": [
    {
     "data": {
      "text/plain": [
       "[[('Gfg', 3, 6), ('is', 3, 6)],\n",
       " [('best', 1, 7)],\n",
       " [('for', 5, 8), ('geeks', 1, 8)]]"
      ]
     },
     "execution_count": 5,
     "metadata": {},
     "output_type": "execute_result"
    }
   ],
   "source": [
    "row_addition([[('Gfg', 3), ('is', 3)], [('best', 1)], [('for', 5), ('geeks', 1)]], [6, 7, 8])"
   ]
  },
  {
   "cell_type": "code",
   "execution_count": 10,
   "metadata": {},
   "outputs": [],
   "source": [
    "def row_addition(l: list[list[tuple]], custom: list):\n",
    "    result = []\n",
    "    \n",
    "    for (idx, row) in enumerate(l):\n",
    "        result.append(list(map(lambda x: x + (custom[idx],), row)))\n",
    "\n",
    "    return result"
   ]
  },
  {
   "cell_type": "code",
   "execution_count": 11,
   "metadata": {},
   "outputs": [
    {
     "data": {
      "text/plain": [
       "[[('Gfg', 3, 6), ('is', 3, 6)],\n",
       " [('best', 1, 7)],\n",
       " [('for', 5, 8), ('geeks', 1, 8)]]"
      ]
     },
     "execution_count": 11,
     "metadata": {},
     "output_type": "execute_result"
    }
   ],
   "source": [
    "row_addition([[('Gfg', 3), ('is', 3)], [('best', 1)], [('for', 5), ('geeks', 1)]], [6, 7, 8])"
   ]
  }
 ],
 "metadata": {
  "kernelspec": {
   "display_name": "Python 3",
   "language": "python",
   "name": "python3"
  },
  "language_info": {
   "codemirror_mode": {
    "name": "ipython",
    "version": 3
   },
   "file_extension": ".py",
   "mimetype": "text/x-python",
   "name": "python",
   "nbconvert_exporter": "python",
   "pygments_lexer": "ipython3",
   "version": "3.13.1"
  }
 },
 "nbformat": 4,
 "nbformat_minor": 2
}
