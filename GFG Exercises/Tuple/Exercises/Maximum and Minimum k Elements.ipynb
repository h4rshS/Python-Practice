{
 "cells": [
  {
   "cell_type": "markdown",
   "metadata": {},
   "source": [
    "# Maximum and Minimum k Elements"
   ]
  },
  {
   "cell_type": "markdown",
   "metadata": {},
   "source": [
    "### Program to find Maximum and Minimum K elements in Tuple"
   ]
  },
  {
   "cell_type": "code",
   "execution_count": 1,
   "metadata": {},
   "outputs": [],
   "source": [
    "def max_min_k_elements(tup: tuple, k: int):\n",
    "    sorted_tup = list(sorted(tup))\n",
    "    res = []\n",
    "    \n",
    "    for (idx, val) in enumerate(sorted_tup):\n",
    "        if idx < k or idx >= len(sorted_tup) - k:\n",
    "            res.append(val)\n",
    "            \n",
    "    return tuple(res)"
   ]
  },
  {
   "cell_type": "code",
   "execution_count": 3,
   "metadata": {},
   "outputs": [
    {
     "data": {
      "text/plain": [
       "(3, 5, 8, 20)"
      ]
     },
     "execution_count": 3,
     "metadata": {},
     "output_type": "execute_result"
    }
   ],
   "source": [
    "max_min_k_elements((5, 20, 3, 7, 6, 8), 2)"
   ]
  },
  {
   "cell_type": "code",
   "execution_count": 5,
   "metadata": {},
   "outputs": [],
   "source": [
    "def max_min_k_elements(tup: tuple, k: int):\n",
    "    tup_list = list(tup)\n",
    "    \n",
    "    tup_list = sorted(tup_list)\n",
    "    \n",
    "    return tuple(tup_list[:k] + tup_list[-k:])"
   ]
  },
  {
   "cell_type": "code",
   "execution_count": 6,
   "metadata": {},
   "outputs": [
    {
     "data": {
      "text/plain": [
       "(3, 5, 6, 7, 8, 20)"
      ]
     },
     "execution_count": 6,
     "metadata": {},
     "output_type": "execute_result"
    }
   ],
   "source": [
    "max_min_k_elements((5, 20, 3, 7, 6, 8), 3)"
   ]
  },
  {
   "cell_type": "code",
   "execution_count": 7,
   "metadata": {},
   "outputs": [],
   "source": [
    "import heapq"
   ]
  },
  {
   "cell_type": "code",
   "execution_count": 10,
   "metadata": {},
   "outputs": [],
   "source": [
    "def max_min_k_elements(tup: tuple, k: int):\n",
    "    smallest = heapq.nsmallest(k, tup)\n",
    "    largest = heapq.nlargest(k, tup)\n",
    "    \n",
    "    return tuple(sorted(smallest + largest))"
   ]
  },
  {
   "cell_type": "code",
   "execution_count": 11,
   "metadata": {},
   "outputs": [
    {
     "data": {
      "text/plain": [
       "(3, 5, 8, 20)"
      ]
     },
     "execution_count": 11,
     "metadata": {},
     "output_type": "execute_result"
    }
   ],
   "source": [
    "max_min_k_elements((5, 20, 3, 7, 6, 8), 2)"
   ]
  },
  {
   "cell_type": "code",
   "execution_count": 20,
   "metadata": {},
   "outputs": [],
   "source": [
    "def max_min_k_elements(tup: tuple, k: int):\n",
    "    max_val = max(tup)\n",
    "    min_val = min(tup)\n",
    "    \n",
    "    max_list = []\n",
    "    min_list = []\n",
    "    \n",
    "    for i in tup:\n",
    "        if i <= max_val:\n",
    "            if len(max_list) < k:\n",
    "                max_list.append(i)\n",
    "            else:\n",
    "                if i > min(max_list):\n",
    "                    max_list.remove(min(max_list))\n",
    "                    max_list.append(i)\n",
    "        if i >= min_val:\n",
    "            if len(min_list) < k:\n",
    "                min_list.append(i)\n",
    "            else:\n",
    "                if i < max(min_list):\n",
    "                    min_list.remove(max(min_list))\n",
    "                    min_list.append(i)\n",
    "                \n",
    "    return tuple(sorted(min_list + max_list))"
   ]
  },
  {
   "cell_type": "code",
   "execution_count": 23,
   "metadata": {},
   "outputs": [
    {
     "data": {
      "text/plain": [
       "(3, 5, 6, 7, 8, 20)"
      ]
     },
     "execution_count": 23,
     "metadata": {},
     "output_type": "execute_result"
    }
   ],
   "source": [
    "max_min_k_elements((5, 20, 3, 7, 6, 8), 3)"
   ]
  },
  {
   "cell_type": "code",
   "execution_count": 26,
   "metadata": {},
   "outputs": [],
   "source": [
    "def max_min_k_elements(tup: tuple, k: int):\n",
    "    min_list = []\n",
    "    max_list = []\n",
    "    \n",
    "    tup_list = list(tup)\n",
    "    \n",
    "    i = 0\n",
    "    while(i < k):\n",
    "        min_list.append(min(tup_list))\n",
    "        max_list.append(max(tup_list))\n",
    "        \n",
    "        tup_list.remove(min(tup_list))\n",
    "        tup_list.remove(max(tup_list))\n",
    "        \n",
    "        i += 1\n",
    "        \n",
    "    return tuple(sorted(min_list + max_list))"
   ]
  },
  {
   "cell_type": "code",
   "execution_count": 28,
   "metadata": {},
   "outputs": [
    {
     "data": {
      "text/plain": [
       "(3, 5, 8, 20)"
      ]
     },
     "execution_count": 28,
     "metadata": {},
     "output_type": "execute_result"
    }
   ],
   "source": [
    "max_min_k_elements((5, 20, 3, 7, 6, 8), 2)"
   ]
  },
  {
   "cell_type": "code",
   "execution_count": 32,
   "metadata": {},
   "outputs": [],
   "source": [
    "def max_min_k_elements(tup: tuple, k: int):\n",
    "    min_list = []\n",
    "    max_list = []\n",
    "    \n",
    "    for el in tup:\n",
    "        min_list.append(el)\n",
    "        min_list.sort()\n",
    "        \n",
    "        if len(min_list) > k:\n",
    "            min_list.pop()\n",
    "            \n",
    "        max_list.append(el)\n",
    "        max_list.sort(reverse=True)\n",
    "        \n",
    "        if len(max_list) > k:\n",
    "            max_list.pop()\n",
    "            \n",
    "    return tuple(sorted(min_list + max_list))"
   ]
  },
  {
   "cell_type": "code",
   "execution_count": 33,
   "metadata": {},
   "outputs": [
    {
     "data": {
      "text/plain": [
       "(3, 5, 8, 20)"
      ]
     },
     "execution_count": 33,
     "metadata": {},
     "output_type": "execute_result"
    }
   ],
   "source": [
    "max_min_k_elements((5, 20, 3, 7, 6, 8), 2)"
   ]
  }
 ],
 "metadata": {
  "kernelspec": {
   "display_name": "Python 3",
   "language": "python",
   "name": "python3"
  },
  "language_info": {
   "codemirror_mode": {
    "name": "ipython",
    "version": 3
   },
   "file_extension": ".py",
   "mimetype": "text/x-python",
   "name": "python",
   "nbconvert_exporter": "python",
   "pygments_lexer": "ipython3",
   "version": "3.13.1"
  }
 },
 "nbformat": 4,
 "nbformat_minor": 2
}
