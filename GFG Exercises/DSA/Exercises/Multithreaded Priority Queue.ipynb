{
 "cells": [
  {
   "cell_type": "markdown",
   "metadata": {},
   "source": [
    "# Multithreaded Priority Queue"
   ]
  },
  {
   "cell_type": "markdown",
   "metadata": {},
   "source": [
    "### Program to implement Multithreaded Priority Queue"
   ]
  },
  {
   "cell_type": "code",
   "execution_count": 6,
   "metadata": {},
   "outputs": [],
   "source": [
    "import queue\n",
    "import time\n",
    "import threading"
   ]
  },
  {
   "cell_type": "code",
   "execution_count": 7,
   "metadata": {},
   "outputs": [],
   "source": [
    "thread_list = [\"Thread-1\", \"Thread-2\", \"Thread-3\"]\n",
    "name_list = [\"A\", \"B\", \"C\", \"D\", \"E\"]\n",
    "queueLock = threading.Lock()\n",
    "workQueue = queue.Queue(10)\n",
    "threads = []\n",
    "threadid = 1"
   ]
  },
  {
   "cell_type": "code",
   "execution_count": 8,
   "metadata": {},
   "outputs": [],
   "source": [
    "thread_exit_flag = 0\n",
    "\n",
    "class sample_Thread(threading.Thread):\n",
    "    \n",
    "    def __init__(self, threadid: int, name: str, q: queue.Queue):\n",
    "        threading.Thread.__init__(self)\n",
    "        self.threadid = threadid\n",
    "        self.name = name\n",
    "        self.q = q\n",
    "        \n",
    "    def run(self):\n",
    "        print(\"Initializing\", self.name)\n",
    "        process_data(self.name, self.q)\n",
    "        print(\"Exiting\", self.name)\n",
    "        \n",
    "def process_data(name: str, q: queue.Queue):\n",
    "    while not thread_exit_flag:\n",
    "        queueLock.acquire()\n",
    "        \n",
    "        if not workQueue.empty():\n",
    "            data = q.get()\n",
    "            queueLock.release()\n",
    "            print(f'{name} processing {data}')\n",
    "        else:\n",
    "            queueLock.release()\n",
    "            time.sleep(1)"
   ]
  },
  {
   "cell_type": "code",
   "execution_count": 9,
   "metadata": {},
   "outputs": [
    {
     "name": "stdout",
     "output_type": "stream",
     "text": [
      "InitializingInitializing Thread-2\n",
      " Thread-1\n",
      "Initializing Thread-3\n",
      "Thread-1 processing AThread-3 processing B\n",
      "Thread-3 processing C\n",
      "Thread-3 processing D\n",
      "Thread-3 processing E\n",
      "Exiting Thread-2\n",
      "\n",
      "Exiting Thread-1\n",
      "Exiting Thread-3\n",
      "Exiting Main Thread\n"
     ]
    }
   ],
   "source": [
    "for thread_name in thread_list:\n",
    "    thread = sample_Thread(threadid, thread_name, workQueue)\n",
    "    thread.start()\n",
    "    threads.append(thread)\n",
    "    threadid += 1\n",
    "    \n",
    "queueLock.acquire()\n",
    "for data in name_list:\n",
    "    workQueue.put(data)\n",
    "queueLock.release()\n",
    "\n",
    "while not workQueue.empty():\n",
    "    pass\n",
    "\n",
    "thread_exit_flag = 1\n",
    "\n",
    "for t in threads:\n",
    "    t.join()\n",
    "    \n",
    "print(\"Exiting Main Thread\")"
   ]
  }
 ],
 "metadata": {
  "kernelspec": {
   "display_name": "Python 3",
   "language": "python",
   "name": "python3"
  },
  "language_info": {
   "codemirror_mode": {
    "name": "ipython",
    "version": 3
   },
   "file_extension": ".py",
   "mimetype": "text/x-python",
   "name": "python",
   "nbconvert_exporter": "python",
   "pygments_lexer": "ipython3",
   "version": "3.13.1"
  }
 },
 "nbformat": 4,
 "nbformat_minor": 2
}
