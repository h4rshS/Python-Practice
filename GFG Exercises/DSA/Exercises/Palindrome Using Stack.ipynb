{
 "cells": [
  {
   "cell_type": "markdown",
   "metadata": {},
   "source": [
    "# Palindrome Using Stack"
   ]
  },
  {
   "cell_type": "markdown",
   "metadata": {},
   "source": [
    "### Program to Check whether the given string is Palindrome using Stack"
   ]
  },
  {
   "cell_type": "code",
   "execution_count": 16,
   "metadata": {},
   "outputs": [],
   "source": [
    "stack = []\n",
    "top = -1\n",
    "\n",
    "def push(el: str):\n",
    "    global top\n",
    "    top += 1\n",
    "    stack[top] = el\n",
    "    \n",
    "def pop():\n",
    "    global top\n",
    "    el = stack[top]\n",
    "    top -= 1\n",
    "    return el"
   ]
  },
  {
   "cell_type": "code",
   "execution_count": 17,
   "metadata": {},
   "outputs": [],
   "source": [
    "def ispalindrome(s: str):\n",
    "    length = len(s)\n",
    "    \n",
    "    global stack\n",
    "    stack = ['0'] * length\n",
    "    \n",
    "    mid = length // 2\n",
    "    \n",
    "    i = 0\n",
    "    while i < mid:\n",
    "        push(s[i])\n",
    "        i += 1\n",
    "        \n",
    "    if length & 1:\n",
    "        i += 1\n",
    "        \n",
    "    while i < length:\n",
    "        if pop() != s[i]:\n",
    "            return False\n",
    "        \n",
    "        i += 1\n",
    "    \n",
    "    return True"
   ]
  },
  {
   "cell_type": "code",
   "execution_count": 18,
   "metadata": {},
   "outputs": [
    {
     "data": {
      "text/plain": [
       "True"
      ]
     },
     "execution_count": 18,
     "metadata": {},
     "output_type": "execute_result"
    }
   ],
   "source": [
    "ispalindrome(\"madam\")"
   ]
  },
  {
   "cell_type": "code",
   "execution_count": 12,
   "metadata": {},
   "outputs": [
    {
     "data": {
      "text/plain": [
       "False"
      ]
     },
     "execution_count": 12,
     "metadata": {},
     "output_type": "execute_result"
    }
   ],
   "source": [
    "ispalindrome(\"not a palindrome\")"
   ]
  }
 ],
 "metadata": {
  "kernelspec": {
   "display_name": "Python 3",
   "language": "python",
   "name": "python3"
  },
  "language_info": {
   "codemirror_mode": {
    "name": "ipython",
    "version": 3
   },
   "file_extension": ".py",
   "mimetype": "text/x-python",
   "name": "python",
   "nbconvert_exporter": "python",
   "pygments_lexer": "ipython3",
   "version": "3.13.1"
  }
 },
 "nbformat": 4,
 "nbformat_minor": 2
}
