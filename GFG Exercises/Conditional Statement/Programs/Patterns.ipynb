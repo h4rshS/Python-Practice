{
 "cells": [
  {
   "cell_type": "markdown",
   "metadata": {},
   "source": [
    "# Patterns"
   ]
  },
  {
   "cell_type": "markdown",
   "metadata": {},
   "source": [
    "## Full Pyramids"
   ]
  },
  {
   "cell_type": "code",
   "execution_count": 1,
   "metadata": {},
   "outputs": [],
   "source": [
    "def pyramid(n: int):\n",
    "    for i in range(1, n + 1):\n",
    "        for space in range(n - i):\n",
    "            print(\" \", end=\"\")\n",
    "            \n",
    "        for j in range(1, 2 * i):\n",
    "            print(\"*\", end=\"\")\n",
    "            \n",
    "        print()"
   ]
  },
  {
   "cell_type": "code",
   "execution_count": 2,
   "metadata": {},
   "outputs": [
    {
     "name": "stdout",
     "output_type": "stream",
     "text": [
      "    *\n",
      "   ***\n",
      "  *****\n",
      " *******\n",
      "*********\n"
     ]
    }
   ],
   "source": [
    "pyramid(5)"
   ]
  },
  {
   "cell_type": "code",
   "execution_count": 3,
   "metadata": {},
   "outputs": [],
   "source": [
    "def spaces(space):\n",
    "    if space > 0:\n",
    "        print(\" \", end=\"\")\n",
    "        spaces(space - 1)\n",
    "        \n",
    "def stars(star):\n",
    "    if star > 0:\n",
    "        print(\"*\", end=\"\")\n",
    "        stars(star - 1)\n",
    "        \n",
    "def pyramid(n: int, curr_row: int = 1):\n",
    "    if curr_row > n:\n",
    "        return\n",
    "    \n",
    "    spaces(n - curr_row)\n",
    "    \n",
    "    stars(2 * curr_row - 1)\n",
    "    \n",
    "    print()\n",
    "    \n",
    "    pyramid(n, curr_row + 1)"
   ]
  },
  {
   "cell_type": "code",
   "execution_count": 4,
   "metadata": {},
   "outputs": [
    {
     "name": "stdout",
     "output_type": "stream",
     "text": [
      "      *\n",
      "     ***\n",
      "    *****\n",
      "   *******\n",
      "  *********\n",
      " ***********\n",
      "*************\n"
     ]
    }
   ],
   "source": [
    "pyramid(7)"
   ]
  },
  {
   "cell_type": "code",
   "execution_count": 11,
   "metadata": {},
   "outputs": [],
   "source": [
    "def alpha_pyramid(n: int):\n",
    "    alph = 65\n",
    "    \n",
    "    for i in range(n):\n",
    "        print(\" \" * (n - i - 1), end=\" \")\n",
    "        \n",
    "        for j in range(i + 1):\n",
    "            print(chr(alph), end=\" \")\n",
    "            alph += 1\n",
    "        \n",
    "        alph = 65\n",
    "        print()"
   ]
  },
  {
   "cell_type": "code",
   "execution_count": 12,
   "metadata": {},
   "outputs": [
    {
     "name": "stdout",
     "output_type": "stream",
     "text": [
      "      A \n",
      "     A B \n",
      "    A B C \n",
      "   A B C D \n",
      "  A B C D E \n",
      " A B C D E F \n"
     ]
    }
   ],
   "source": [
    "alpha_pyramid(6)"
   ]
  },
  {
   "cell_type": "code",
   "execution_count": 19,
   "metadata": {},
   "outputs": [],
   "source": [
    "def num_pyramid(n: int):\n",
    "    for i in range(1, n + 1):\n",
    "        print(\" \" * (n - i), end=\"\")\n",
    "    \n",
    "        for j in range(2 * i - 1):\n",
    "            print(j + 1, end=\"\")\n",
    "            \n",
    "        print()"
   ]
  },
  {
   "cell_type": "code",
   "execution_count": 20,
   "metadata": {},
   "outputs": [
    {
     "name": "stdout",
     "output_type": "stream",
     "text": [
      "   1\n",
      "  123\n",
      " 12345\n",
      "1234567\n"
     ]
    }
   ],
   "source": [
    "num_pyramid(4)"
   ]
  },
  {
   "cell_type": "code",
   "execution_count": 21,
   "metadata": {},
   "outputs": [],
   "source": [
    "def inverted_pyramid(n: int):\n",
    "    for i in range(n, 0, -1):\n",
    "        print(\" \" * (n - i), end=\"\")\n",
    "        \n",
    "        for j in range(2 * i - 1):\n",
    "            print(\"*\", end=\"\")\n",
    "            \n",
    "        print()"
   ]
  },
  {
   "cell_type": "code",
   "execution_count": 22,
   "metadata": {},
   "outputs": [
    {
     "name": "stdout",
     "output_type": "stream",
     "text": [
      "*********\n",
      " *******\n",
      "  *****\n",
      "   ***\n",
      "    *\n"
     ]
    }
   ],
   "source": [
    "inverted_pyramid(5)"
   ]
  },
  {
   "cell_type": "code",
   "execution_count": 23,
   "metadata": {},
   "outputs": [],
   "source": [
    "def hollow_pyramid(n: int):\n",
    "    for i in range(1, n + 1):\n",
    "        for j in range(1, 2 * n):\n",
    "            if j == n - i + 1 or j == n + i - 1 or i == n:\n",
    "                print(\"*\", end=\"\")\n",
    "            else:\n",
    "                print(\" \", end=\"\")\n",
    "                \n",
    "        print()"
   ]
  },
  {
   "cell_type": "code",
   "execution_count": 24,
   "metadata": {},
   "outputs": [
    {
     "name": "stdout",
     "output_type": "stream",
     "text": [
      "    *    \n",
      "   * *   \n",
      "  *   *  \n",
      " *     * \n",
      "*********\n"
     ]
    }
   ],
   "source": [
    "hollow_pyramid(5)"
   ]
  },
  {
   "cell_type": "markdown",
   "metadata": {},
   "source": [
    "## Half Pyramids"
   ]
  },
  {
   "cell_type": "code",
   "execution_count": 25,
   "metadata": {},
   "outputs": [],
   "source": [
    "def half_pyramid(n: int):\n",
    "    for i in range(1, n + 1):\n",
    "        for j in range(1, i + 1):\n",
    "            print(\"*\", end=\"\")\n",
    "            \n",
    "        print()"
   ]
  },
  {
   "cell_type": "code",
   "execution_count": 26,
   "metadata": {},
   "outputs": [
    {
     "name": "stdout",
     "output_type": "stream",
     "text": [
      "*\n",
      "**\n",
      "***\n",
      "****\n",
      "*****\n",
      "******\n",
      "*******\n",
      "********\n"
     ]
    }
   ],
   "source": [
    "half_pyramid(8)"
   ]
  },
  {
   "cell_type": "code",
   "execution_count": 27,
   "metadata": {},
   "outputs": [],
   "source": [
    "def half_pyramid(n: int):\n",
    "    if n > 0:\n",
    "        half_pyramid(n - 1)\n",
    "        \n",
    "        print(\"*\" * n)"
   ]
  },
  {
   "cell_type": "code",
   "execution_count": 28,
   "metadata": {},
   "outputs": [
    {
     "name": "stdout",
     "output_type": "stream",
     "text": [
      "*\n",
      "**\n",
      "***\n",
      "****\n",
      "*****\n"
     ]
    }
   ],
   "source": [
    "half_pyramid(5)"
   ]
  },
  {
   "cell_type": "code",
   "execution_count": 29,
   "metadata": {},
   "outputs": [],
   "source": [
    "def num_half_pyramid(n: int):\n",
    "    for i in range(1, n + 1):\n",
    "        for j in range(1, i + 1):\n",
    "            print(j, end=\"\")\n",
    "            \n",
    "        print()"
   ]
  },
  {
   "cell_type": "code",
   "execution_count": 30,
   "metadata": {},
   "outputs": [
    {
     "name": "stdout",
     "output_type": "stream",
     "text": [
      "1\n",
      "12\n",
      "123\n",
      "1234\n",
      "12345\n",
      "123456\n"
     ]
    }
   ],
   "source": [
    "num_half_pyramid(6)"
   ]
  },
  {
   "cell_type": "code",
   "execution_count": 33,
   "metadata": {},
   "outputs": [],
   "source": [
    "def alpha_half_pyramid(n: int):\n",
    "    alpha = 65\n",
    "    for i in range(1, n + 1):\n",
    "        for j in range(1, i + 1):\n",
    "            print(chr(alpha), end=\"\")\n",
    "            \n",
    "        print()\n",
    "        alpha += 1"
   ]
  },
  {
   "cell_type": "code",
   "execution_count": 34,
   "metadata": {},
   "outputs": [
    {
     "name": "stdout",
     "output_type": "stream",
     "text": [
      "A\n",
      "BB\n",
      "CCC\n",
      "DDDD\n",
      "EEEEE\n"
     ]
    }
   ],
   "source": [
    "alpha_half_pyramid(5)"
   ]
  },
  {
   "cell_type": "code",
   "execution_count": 35,
   "metadata": {},
   "outputs": [],
   "source": [
    "def inverted_half_pyramid(n: int):\n",
    "    for i in range(n, 0, -1):\n",
    "        for j in range(1, i + 1):\n",
    "            print(\"*\", end=\"\")\n",
    "            \n",
    "        print()"
   ]
  },
  {
   "cell_type": "code",
   "execution_count": 36,
   "metadata": {},
   "outputs": [
    {
     "name": "stdout",
     "output_type": "stream",
     "text": [
      "****\n",
      "***\n",
      "**\n",
      "*\n"
     ]
    }
   ],
   "source": [
    "inverted_half_pyramid(4)"
   ]
  },
  {
   "cell_type": "code",
   "execution_count": 38,
   "metadata": {},
   "outputs": [],
   "source": [
    "def hollow_inverted_half_pyramid(n: int):\n",
    "    for i in range(n, 0, -1):\n",
    "        for j in range(1, n + 1):\n",
    "            if j == n - i + 1 or j == n or i == n:\n",
    "                print(\"*\", end=\"\")\n",
    "            else:\n",
    "                print(\" \", end=\"\")\n",
    "                \n",
    "        print()"
   ]
  },
  {
   "cell_type": "code",
   "execution_count": 39,
   "metadata": {},
   "outputs": [
    {
     "name": "stdout",
     "output_type": "stream",
     "text": [
      "*****\n",
      " *  *\n",
      "  * *\n",
      "   **\n",
      "    *\n"
     ]
    }
   ],
   "source": [
    "hollow_inverted_half_pyramid(5)"
   ]
  }
 ],
 "metadata": {
  "kernelspec": {
   "display_name": "Python 3",
   "language": "python",
   "name": "python3"
  },
  "language_info": {
   "codemirror_mode": {
    "name": "ipython",
    "version": 3
   },
   "file_extension": ".py",
   "mimetype": "text/x-python",
   "name": "python",
   "nbconvert_exporter": "python",
   "pygments_lexer": "ipython3",
   "version": "3.13.1"
  }
 },
 "nbformat": 4,
 "nbformat_minor": 2
}
