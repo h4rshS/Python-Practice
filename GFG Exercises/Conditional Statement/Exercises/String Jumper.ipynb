{
 "cells": [
  {
   "cell_type": "markdown",
   "metadata": {},
   "source": [
    "# String Jumper"
   ]
  },
  {
   "cell_type": "markdown",
   "metadata": {},
   "source": [
    "### You are given a string str, you need to print its characters at even indices(index starts at 0)."
   ]
  },
  {
   "cell_type": "code",
   "execution_count": 1,
   "metadata": {},
   "outputs": [],
   "source": [
    "def stringJumper(str: str):\n",
    "    for i in range(0,len(str), 2):\n",
    "        print(str[i], end=\"\")"
   ]
  },
  {
   "cell_type": "code",
   "execution_count": 2,
   "metadata": {},
   "outputs": [
    {
     "name": "stdout",
     "output_type": "stream",
     "text": [
      "DcoPeoea"
     ]
    }
   ],
   "source": [
    "stringJumper('DoctorPhenomenal')"
   ]
  },
  {
   "cell_type": "code",
   "execution_count": 3,
   "metadata": {},
   "outputs": [
    {
     "name": "stdout",
     "output_type": "stream",
     "text": [
      "Ges"
     ]
    }
   ],
   "source": [
    "stringJumper('Geeks')"
   ]
  },
  {
   "cell_type": "code",
   "execution_count": 4,
   "metadata": {},
   "outputs": [
    {
     "name": "stdout",
     "output_type": "stream",
     "text": [
      "EAXIchpVeNKtvjpkkwagkIqReSmylHaYgxwYGlXIyJyvjLWzdR"
     ]
    }
   ],
   "source": [
    "stringJumper('EBAHXuIocNhypBVEeKNaKPtBvIjHpRkAkCwcaZgqkIIvqlRJelSCmQyFljHAawYNgyxnwVYuGOlgXRIayYJFyMvPjdLaWuzwdDRh')"
   ]
  }
 ],
 "metadata": {
  "kernelspec": {
   "display_name": "Python 3",
   "language": "python",
   "name": "python3"
  },
  "language_info": {
   "codemirror_mode": {
    "name": "ipython",
    "version": 3
   },
   "file_extension": ".py",
   "mimetype": "text/x-python",
   "name": "python",
   "nbconvert_exporter": "python",
   "pygments_lexer": "ipython3",
   "version": "3.13.1"
  }
 },
 "nbformat": 4,
 "nbformat_minor": 2
}
