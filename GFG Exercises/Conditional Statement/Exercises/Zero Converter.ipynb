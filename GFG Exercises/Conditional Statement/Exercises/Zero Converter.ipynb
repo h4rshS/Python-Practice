{
 "cells": [
  {
   "cell_type": "markdown",
   "metadata": {},
   "source": [
    "# Zero Converter"
   ]
  },
  {
   "cell_type": "markdown",
   "metadata": {},
   "source": [
    "### You are given a number n. The number n can be negative or positive. \n",
    "If n is negative, print numbers from n to 0 by adding 1 to n in the neg function. <br>\n",
    "If positive, print numbers from n-1 to 0 by subtracting 1 from n in the pos function."
   ]
  },
  {
   "cell_type": "code",
   "execution_count": 1,
   "metadata": {},
   "outputs": [],
   "source": [
    "def pos(n: int):\n",
    "    if n-1 < 0:\n",
    "        return\n",
    "    \n",
    "    print(n-1, end=\" \")\n",
    "    pos(n-1)\n",
    "        \n",
    "    \n",
    "def neg(n: int):\n",
    "    if n > 0:\n",
    "        return\n",
    "    \n",
    "    print(n, end=\" \")\n",
    "    neg(n+1)"
   ]
  },
  {
   "cell_type": "code",
   "execution_count": 4,
   "metadata": {},
   "outputs": [],
   "source": [
    "def pos(n: int):\n",
    "    for i in range(n-1, -1, -1):\n",
    "        print(i, end=\" \")\n",
    "        \n",
    "def neg(n: int):\n",
    "    for i in range(n, 1):\n",
    "        print(i, end=\" \")"
   ]
  },
  {
   "cell_type": "code",
   "execution_count": 5,
   "metadata": {},
   "outputs": [
    {
     "name": "stdout",
     "output_type": "stream",
     "text": [
      "6 5 4 3 2 1 0 "
     ]
    }
   ],
   "source": [
    "pos(7)"
   ]
  },
  {
   "cell_type": "code",
   "execution_count": 6,
   "metadata": {},
   "outputs": [
    {
     "name": "stdout",
     "output_type": "stream",
     "text": [
      "-11 -10 -9 -8 -7 -6 -5 -4 -3 -2 -1 0 "
     ]
    }
   ],
   "source": [
    "neg(-11)"
   ]
  },
  {
   "cell_type": "code",
   "execution_count": 7,
   "metadata": {},
   "outputs": [],
   "source": [
    "neg(5)"
   ]
  }
 ],
 "metadata": {
  "kernelspec": {
   "display_name": "Python 3",
   "language": "python",
   "name": "python3"
  },
  "language_info": {
   "codemirror_mode": {
    "name": "ipython",
    "version": 3
   },
   "file_extension": ".py",
   "mimetype": "text/x-python",
   "name": "python",
   "nbconvert_exporter": "python",
   "pygments_lexer": "ipython3",
   "version": "3.13.1"
  }
 },
 "nbformat": 4,
 "nbformat_minor": 2
}
