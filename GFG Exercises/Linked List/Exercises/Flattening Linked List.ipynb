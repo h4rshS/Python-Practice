{
 "cells": [
  {
   "cell_type": "markdown",
   "metadata": {},
   "source": [
    "# Flattening Linked List"
   ]
  },
  {
   "cell_type": "markdown",
   "metadata": {},
   "source": [
    "### Given a Linked List, where every node represents a sub-linked-list and contains two pointers:\n",
    "(i) a next pointer to the next node, <br>\n",
    "(ii) a bottom pointer to a linked list where this node is head. <br>\n",
    "Each of the sub-linked lists is in sorted order. <br>\n",
    "Flatten the Link List so all the nodes appear in a single level while maintaining the sorted order."
   ]
  },
  {
   "cell_type": "code",
   "execution_count": 1,
   "metadata": {},
   "outputs": [],
   "source": [
    "class Node:\n",
    "    \n",
    "    def __init__(self, data: int):\n",
    "        self.data = data\n",
    "        self.next = None\n",
    "        self.bottom = None"
   ]
  },
  {
   "cell_type": "code",
   "execution_count": 30,
   "metadata": {},
   "outputs": [],
   "source": [
    "def flatten(root: Node):\n",
    "    data = []\n",
    "        \n",
    "    head = root\n",
    "        \n",
    "    while head != None:\n",
    "            \n",
    "        bottomhead = head\n",
    "            \n",
    "        while bottomhead != None:\n",
    "            data.append(bottomhead.data)\n",
    "            bottomhead = bottomhead.bottom\n",
    "                \n",
    "        head = head.next\n",
    "            \n",
    "    data.sort()\n",
    "        \n",
    "    head = Node(data[0])\n",
    "    curr = head\n",
    "        \n",
    "    for i in range(1, len(data)):\n",
    "        curr.bottom = Node(data[i])\n",
    "        curr = curr.bottom\n",
    "            \n",
    "    return head.data"
   ]
  },
  {
   "cell_type": "code",
   "execution_count": 12,
   "metadata": {},
   "outputs": [
    {
     "data": {
      "text/plain": [
       "5"
      ]
     },
     "execution_count": 12,
     "metadata": {},
     "output_type": "execute_result"
    }
   ],
   "source": [
    "node1 = Node(5)\n",
    "node2 = Node(7)\n",
    "node3 = Node(8)\n",
    "node4 = Node(30)\n",
    "node5 = Node(10)\n",
    "node6 = Node(20)\n",
    "node7 = Node(19)\n",
    "node8 = Node(22)\n",
    "node9 = Node(50)\n",
    "node10 = Node(28)\n",
    "node11 = Node(35)\n",
    "node12 = Node(40)\n",
    "node13 = Node(45)\n",
    "\n",
    "node1.bottom = node2\n",
    "node2.bottom = node3\n",
    "node3.bottom = node4\n",
    "node1.next = node5\n",
    "node5.bottom = node6\n",
    "node5.next = node7\n",
    "node7.bottom = node8\n",
    "node8.bottom = node9\n",
    "node7.next = node10\n",
    "node10.bottom = node11\n",
    "node11.bottom = node12\n",
    "node12.bottom = node13\n",
    "\n",
    "flatten(node1)"
   ]
  },
  {
   "cell_type": "code",
   "execution_count": 8,
   "metadata": {},
   "outputs": [
    {
     "data": {
      "text/plain": [
       "5"
      ]
     },
     "execution_count": 8,
     "metadata": {},
     "output_type": "execute_result"
    }
   ],
   "source": [
    "node1 = Node(5)\n",
    "node2 = Node(7)\n",
    "node3 = Node(8)\n",
    "node4 = Node(30)\n",
    "node5 = Node(10)\n",
    "node6 = Node(19)\n",
    "node7 = Node(22)\n",
    "node8 = Node(50)\n",
    "node9 = Node(28)\n",
    "\n",
    "node1.bottom = node2\n",
    "node2.bottom = node3\n",
    "node3.bottom = node4\n",
    "node1.next = node5\n",
    "node5.next = node6\n",
    "node6.bottom = node7\n",
    "node7.bottom = node8\n",
    "node6.next = node9\n",
    "\n",
    "flatten(node1)"
   ]
  },
  {
   "cell_type": "code",
   "execution_count": 28,
   "metadata": {},
   "outputs": [],
   "source": [
    "def merge(a: Node, b: Node):\n",
    "    if a is None:\n",
    "        return b\n",
    "        \n",
    "    if b is None:\n",
    "        return a\n",
    "            \n",
    "    result = None\n",
    "        \n",
    "    if a.data < b.data:\n",
    "        result = a\n",
    "        result.bottom = merge(a.bottom, b)\n",
    "    else:\n",
    "        result = b\n",
    "        result.bottom = merge(a, b.bottom)\n",
    "        \n",
    "    return result\n",
    "    \n",
    "def flatten(root: Node):\n",
    "    if root is None or root.next is None:\n",
    "        return root\n",
    "            \n",
    "    root.next = flatten(root.next)\n",
    "        \n",
    "    root = merge(root, root.next)\n",
    "    return root.data"
   ]
  },
  {
   "cell_type": "code",
   "execution_count": 31,
   "metadata": {},
   "outputs": [
    {
     "data": {
      "text/plain": [
       "5"
      ]
     },
     "execution_count": 31,
     "metadata": {},
     "output_type": "execute_result"
    }
   ],
   "source": [
    "node1 = Node(5)\n",
    "node2 = Node(7)\n",
    "node3 = Node(8)\n",
    "node4 = Node(30)\n",
    "node5 = Node(10)\n",
    "node6 = Node(20)\n",
    "node7 = Node(19)\n",
    "node8 = Node(22)\n",
    "node9 = Node(50)\n",
    "node10 = Node(28)\n",
    "node11 = Node(35)\n",
    "node12 = Node(40)\n",
    "node13 = Node(45)\n",
    "\n",
    "node1.bottom = node2\n",
    "node2.bottom = node3\n",
    "node3.bottom = node4\n",
    "node1.next = node5\n",
    "node5.bottom = node6\n",
    "node5.next = node7\n",
    "node7.bottom = node8\n",
    "node8.bottom = node9\n",
    "node7.next = node10\n",
    "node10.bottom = node11\n",
    "node11.bottom = node12\n",
    "node12.bottom = node13\n",
    "\n",
    "flatten(node1)"
   ]
  },
  {
   "cell_type": "code",
   "execution_count": 27,
   "metadata": {},
   "outputs": [
    {
     "data": {
      "text/plain": [
       "5"
      ]
     },
     "execution_count": 27,
     "metadata": {},
     "output_type": "execute_result"
    }
   ],
   "source": [
    "node1 = Node(5)\n",
    "node2 = Node(7)\n",
    "node3 = Node(8)\n",
    "node4 = Node(30)\n",
    "node5 = Node(10)\n",
    "node6 = Node(19)\n",
    "node7 = Node(22)\n",
    "node8 = Node(50)\n",
    "node9 = Node(28)\n",
    "\n",
    "node1.bottom = node2\n",
    "node2.bottom = node3\n",
    "node3.bottom = node4\n",
    "node1.next = node5\n",
    "node5.next = node6\n",
    "node6.bottom = node7\n",
    "node7.bottom = node8\n",
    "node6.next = node9\n",
    "\n",
    "flatten(node1)"
   ]
  }
 ],
 "metadata": {
  "kernelspec": {
   "display_name": "Python 3",
   "language": "python",
   "name": "python3"
  },
  "language_info": {
   "codemirror_mode": {
    "name": "ipython",
    "version": 3
   },
   "file_extension": ".py",
   "mimetype": "text/x-python",
   "name": "python",
   "nbconvert_exporter": "python",
   "pygments_lexer": "ipython3",
   "version": "3.13.1"
  }
 },
 "nbformat": 4,
 "nbformat_minor": 2
}
