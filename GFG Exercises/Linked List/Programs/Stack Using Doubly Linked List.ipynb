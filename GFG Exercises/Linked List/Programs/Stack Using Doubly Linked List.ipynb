{
 "cells": [
  {
   "cell_type": "markdown",
   "metadata": {},
   "source": [
    "# Stack Using Doubly Linked List"
   ]
  },
  {
   "cell_type": "markdown",
   "metadata": {},
   "source": [
    "### Program to implement Stack using Doubly Linked List\n",
    "\n",
    "Stack Operations:\n",
    "\n",
    "1. push() : Insert the element into Stack and assign the top pointer to the element.\n",
    "2. pop() : Return top element from the Stack and move the top pointer to the second element of the Stack.\n",
    "3. top() : Return the top element.\n",
    "4. size() : Return the Size of the Stack.\n",
    "5. isEmpty() : Return True if Stack is Empty else return False.\n",
    "6. printstack() : Print all elements of the stack."
   ]
  },
  {
   "cell_type": "code",
   "execution_count": 1,
   "metadata": {},
   "outputs": [],
   "source": [
    "class Node:\n",
    "    \n",
    "    def __init__(self, data: int):\n",
    "        self.val = data\n",
    "        self.prev = None\n",
    "        self.next = None"
   ]
  },
  {
   "cell_type": "code",
   "execution_count": 6,
   "metadata": {},
   "outputs": [],
   "source": [
    "class Stack:\n",
    "    \n",
    "    def __init__(self, head: Node = None):\n",
    "        self.head = head\n",
    "        \n",
    "    def push(self, data: int):\n",
    "        node = Node(data)\n",
    "        \n",
    "        if self.head is None:\n",
    "            self.head = node\n",
    "        else:\n",
    "            self.head.prev = node\n",
    "            node.next = self.head\n",
    "            self.head = node\n",
    "        \n",
    "        print(\"Element Inserted\")\n",
    "        \n",
    "    def pop(self):\n",
    "        if self.head is None:\n",
    "            return None\n",
    "        elif self.head.next is None:\n",
    "            temp = self.head.val\n",
    "            self.head = None\n",
    "            return temp\n",
    "        else:\n",
    "            temp = self.head.val\n",
    "            self.head = self.head.next\n",
    "            self.head.prev = None\n",
    "            return temp\n",
    "        \n",
    "    def top(self):\n",
    "        if self.head is None:\n",
    "            return None\n",
    "        \n",
    "        return self.head.val\n",
    "    \n",
    "    def size(self):\n",
    "        cnt = 0\n",
    "        \n",
    "        curr = self.head\n",
    "        \n",
    "        while curr is not None:\n",
    "            cnt += 1\n",
    "            curr = curr.next\n",
    "        \n",
    "        return cnt\n",
    "    \n",
    "    def isEmpty(self):\n",
    "        if self.head is None:\n",
    "            return True\n",
    "        else:\n",
    "            return False\n",
    "        \n",
    "    def printStack(self):\n",
    "        curr = self.head\n",
    "        \n",
    "        while curr is not None:\n",
    "            print(curr.val, end=\"->\")\n",
    "            curr = curr.next"
   ]
  },
  {
   "cell_type": "code",
   "execution_count": 7,
   "metadata": {},
   "outputs": [],
   "source": [
    "stack = Stack()"
   ]
  },
  {
   "cell_type": "code",
   "execution_count": 9,
   "metadata": {},
   "outputs": [
    {
     "name": "stdout",
     "output_type": "stream",
     "text": [
      "Element Inserted\n",
      "Element Inserted\n",
      "Element Inserted\n",
      "Element Inserted\n"
     ]
    }
   ],
   "source": [
    "stack.push(4)\n",
    "stack.push(5)\n",
    "stack.push(6)\n",
    "stack.push(7)"
   ]
  },
  {
   "cell_type": "code",
   "execution_count": 10,
   "metadata": {},
   "outputs": [
    {
     "name": "stdout",
     "output_type": "stream",
     "text": [
      "7->6->5->4->"
     ]
    }
   ],
   "source": [
    "stack.printStack()"
   ]
  },
  {
   "cell_type": "code",
   "execution_count": 11,
   "metadata": {},
   "outputs": [
    {
     "data": {
      "text/plain": [
       "7"
      ]
     },
     "execution_count": 11,
     "metadata": {},
     "output_type": "execute_result"
    }
   ],
   "source": [
    "stack.top()"
   ]
  },
  {
   "cell_type": "code",
   "execution_count": 12,
   "metadata": {},
   "outputs": [
    {
     "data": {
      "text/plain": [
       "4"
      ]
     },
     "execution_count": 12,
     "metadata": {},
     "output_type": "execute_result"
    }
   ],
   "source": [
    "stack.size()"
   ]
  },
  {
   "cell_type": "code",
   "execution_count": 13,
   "metadata": {},
   "outputs": [
    {
     "data": {
      "text/plain": [
       "7"
      ]
     },
     "execution_count": 13,
     "metadata": {},
     "output_type": "execute_result"
    }
   ],
   "source": [
    "stack.pop()"
   ]
  },
  {
   "cell_type": "code",
   "execution_count": 14,
   "metadata": {},
   "outputs": [
    {
     "data": {
      "text/plain": [
       "6"
      ]
     },
     "execution_count": 14,
     "metadata": {},
     "output_type": "execute_result"
    }
   ],
   "source": [
    "stack.pop()"
   ]
  },
  {
   "cell_type": "code",
   "execution_count": 15,
   "metadata": {},
   "outputs": [
    {
     "data": {
      "text/plain": [
       "False"
      ]
     },
     "execution_count": 15,
     "metadata": {},
     "output_type": "execute_result"
    }
   ],
   "source": [
    "stack.isEmpty()"
   ]
  }
 ],
 "metadata": {
  "kernelspec": {
   "display_name": "Python 3",
   "language": "python",
   "name": "python3"
  },
  "language_info": {
   "codemirror_mode": {
    "name": "ipython",
    "version": 3
   },
   "file_extension": ".py",
   "mimetype": "text/x-python",
   "name": "python",
   "nbconvert_exporter": "python",
   "pygments_lexer": "ipython3",
   "version": "3.13.1"
  }
 },
 "nbformat": 4,
 "nbformat_minor": 2
}
