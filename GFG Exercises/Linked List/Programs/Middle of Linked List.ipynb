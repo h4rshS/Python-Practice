{
 "cells": [
  {
   "cell_type": "markdown",
   "metadata": {},
   "source": [
    "# Middle of Linked List"
   ]
  },
  {
   "cell_type": "markdown",
   "metadata": {},
   "source": [
    "### Program to find middle of a linked list using one traversal"
   ]
  },
  {
   "cell_type": "code",
   "execution_count": 1,
   "metadata": {},
   "outputs": [],
   "source": [
    "class Node:\n",
    "    \n",
    "    def __init__(self, data: int):\n",
    "        self.data = data\n",
    "        self.next = None"
   ]
  },
  {
   "cell_type": "code",
   "execution_count": 25,
   "metadata": {},
   "outputs": [],
   "source": [
    "class NodeOperation:\n",
    "    \n",
    "    def pushNode(self, head: Node, data: int):\n",
    "        node = Node(data)  \n",
    "        node.next = head\n",
    "\n",
    "        print(\"Element Inserted\")\n",
    "        \n",
    "        return node\n",
    "    \n",
    "    def printNode(self, head: Node):\n",
    "        while head is not None:\n",
    "            print(head.data, end=\"->\")\n",
    "            head = head.next\n",
    "        \n",
    "        print(\"None\")\n",
    "    \n",
    "    def getLen(self, head: Node):\n",
    "        cnt = 0\n",
    "        \n",
    "        while head is not None:\n",
    "            cnt += 1\n",
    "            head = head.next\n",
    "            \n",
    "        return cnt\n",
    "    \n",
    "    def printMiddle(self, head: Node):\n",
    "        if head is not None:\n",
    "            mid_idx = (self.getLen(head) - 1) // 2\n",
    "        \n",
    "            while mid_idx != 0:\n",
    "                head = head.next\n",
    "                mid_idx -= 1\n",
    "            \n",
    "            return head.data\n",
    "        else:\n",
    "            return None"
   ]
  },
  {
   "cell_type": "code",
   "execution_count": 26,
   "metadata": {},
   "outputs": [],
   "source": [
    "operation = NodeOperation()"
   ]
  },
  {
   "cell_type": "code",
   "execution_count": 27,
   "metadata": {},
   "outputs": [
    {
     "name": "stdout",
     "output_type": "stream",
     "text": [
      "Element Inserted\n",
      "Element Inserted\n",
      "Element Inserted\n",
      "Element Inserted\n",
      "Element Inserted\n"
     ]
    }
   ],
   "source": [
    "head = None\n",
    "\n",
    "head = operation.pushNode(head, 5)\n",
    "head = operation.pushNode(head, 4)\n",
    "head = operation.pushNode(head, 3)\n",
    "head = operation.pushNode(head, 2)\n",
    "head = operation.pushNode(head, 1)"
   ]
  },
  {
   "cell_type": "code",
   "execution_count": 28,
   "metadata": {},
   "outputs": [
    {
     "name": "stdout",
     "output_type": "stream",
     "text": [
      "1->2->3->4->5->None\n"
     ]
    }
   ],
   "source": [
    "operation.printNode(head)"
   ]
  },
  {
   "cell_type": "code",
   "execution_count": 29,
   "metadata": {},
   "outputs": [
    {
     "data": {
      "text/plain": [
       "3"
      ]
     },
     "execution_count": 29,
     "metadata": {},
     "output_type": "execute_result"
    }
   ],
   "source": [
    "operation.printMiddle(head)"
   ]
  },
  {
   "cell_type": "code",
   "execution_count": 36,
   "metadata": {},
   "outputs": [],
   "source": [
    "class LinkedList:\n",
    "    \n",
    "    def __init__(self, head: Node = None):\n",
    "        self.head = head\n",
    "    \n",
    "    def push(self, data: int):\n",
    "        node = Node(data)\n",
    "        node.next = self.head\n",
    "        self.head = node\n",
    "        \n",
    "        print(\"Element Inserted\")\n",
    "        \n",
    "    def printMiddle(self):\n",
    "        fast = slow = self.head\n",
    "        \n",
    "        if self.head is not None:\n",
    "            while fast is not None and fast.next is not None:\n",
    "                fast = fast.next.next\n",
    "                slow = slow.next\n",
    "                \n",
    "            return slow.data\n",
    "        else:\n",
    "            return None"
   ]
  },
  {
   "cell_type": "code",
   "execution_count": 39,
   "metadata": {},
   "outputs": [],
   "source": [
    "linkedList = LinkedList()"
   ]
  },
  {
   "cell_type": "code",
   "execution_count": 40,
   "metadata": {},
   "outputs": [
    {
     "name": "stdout",
     "output_type": "stream",
     "text": [
      "Element Inserted\n",
      "Element Inserted\n",
      "Element Inserted\n",
      "Element Inserted\n",
      "Element Inserted\n"
     ]
    }
   ],
   "source": [
    "linkedList.push(5)\n",
    "linkedList.push(4)\n",
    "linkedList.push(2)\n",
    "linkedList.push(3)\n",
    "linkedList.push(1)"
   ]
  },
  {
   "cell_type": "code",
   "execution_count": 41,
   "metadata": {},
   "outputs": [
    {
     "data": {
      "text/plain": [
       "2"
      ]
     },
     "execution_count": 41,
     "metadata": {},
     "output_type": "execute_result"
    }
   ],
   "source": [
    "linkedList.printMiddle()"
   ]
  },
  {
   "cell_type": "code",
   "execution_count": 42,
   "metadata": {},
   "outputs": [],
   "source": [
    "class LinkedList:\n",
    "    \n",
    "    def __init__(self, head: Node = None):\n",
    "        self.head = head\n",
    "    \n",
    "    def push(self, data: int):\n",
    "        node = Node(data)\n",
    "        node.next = self.head\n",
    "        self.head = node\n",
    "        \n",
    "        print(\"Element Inserted\")\n",
    "        \n",
    "    def printMiddle(self):\n",
    "        mid = self.head\n",
    "        cnt = 0\n",
    "        \n",
    "        if self.head is not None:\n",
    "            while self.head:\n",
    "                if cnt & 1:\n",
    "                    mid = mid.next\n",
    "                \n",
    "                self.head = self.head.next\n",
    "                cnt += 1\n",
    "                \n",
    "            return mid.data\n",
    "        else:\n",
    "            return None"
   ]
  },
  {
   "cell_type": "code",
   "execution_count": 43,
   "metadata": {},
   "outputs": [],
   "source": [
    "linkedList = LinkedList()"
   ]
  },
  {
   "cell_type": "code",
   "execution_count": 44,
   "metadata": {},
   "outputs": [
    {
     "name": "stdout",
     "output_type": "stream",
     "text": [
      "Element Inserted\n",
      "Element Inserted\n",
      "Element Inserted\n",
      "Element Inserted\n",
      "Element Inserted\n"
     ]
    }
   ],
   "source": [
    "linkedList.push(5)\n",
    "linkedList.push(4)\n",
    "linkedList.push(2)\n",
    "linkedList.push(3)\n",
    "linkedList.push(1)"
   ]
  },
  {
   "cell_type": "code",
   "execution_count": 45,
   "metadata": {},
   "outputs": [
    {
     "data": {
      "text/plain": [
       "2"
      ]
     },
     "execution_count": 45,
     "metadata": {},
     "output_type": "execute_result"
    }
   ],
   "source": [
    "linkedList.printMiddle()"
   ]
  },
  {
   "cell_type": "code",
   "execution_count": 46,
   "metadata": {},
   "outputs": [],
   "source": [
    "class LinkedList:\n",
    "    \n",
    "    def __init__(self, head: Node = None):\n",
    "        self.head = head\n",
    "    \n",
    "    def push(self, data: int):\n",
    "        node = Node(data)\n",
    "        node.next = self.head\n",
    "        self.head = node\n",
    "        \n",
    "        print(\"Element Inserted\")\n",
    "        \n",
    "    def printNode(self):\n",
    "        curr = self.head\n",
    "        \n",
    "        while curr:\n",
    "            print(curr.data, end=\"->\")\n",
    "            curr = curr.next\n",
    "            \n",
    "        print(\"None\")\n",
    "        \n",
    "    def printMiddle(self):\n",
    "        curr = self.head\n",
    "        values = []\n",
    "        \n",
    "        if self.head is not None:\n",
    "            while curr:\n",
    "                values.append(curr.data)\n",
    "                curr = curr.next\n",
    "                \n",
    "            return values[(len(values) - 1) // 2]\n",
    "        else:\n",
    "            return None"
   ]
  },
  {
   "cell_type": "code",
   "execution_count": 57,
   "metadata": {},
   "outputs": [],
   "source": [
    "linkedList = LinkedList()"
   ]
  },
  {
   "cell_type": "code",
   "execution_count": 58,
   "metadata": {},
   "outputs": [
    {
     "name": "stdout",
     "output_type": "stream",
     "text": [
      "Element Inserted\n",
      "Element Inserted\n",
      "Element Inserted\n",
      "Element Inserted\n",
      "Element Inserted\n"
     ]
    }
   ],
   "source": [
    "linkedList.push(5)\n",
    "linkedList.push(4)\n",
    "linkedList.push(2)\n",
    "linkedList.push(3)\n",
    "linkedList.push(1)"
   ]
  },
  {
   "cell_type": "code",
   "execution_count": 59,
   "metadata": {},
   "outputs": [
    {
     "name": "stdout",
     "output_type": "stream",
     "text": [
      "1->3->2->4->5->None\n"
     ]
    }
   ],
   "source": [
    "linkedList.printNode()"
   ]
  },
  {
   "cell_type": "code",
   "execution_count": 56,
   "metadata": {},
   "outputs": [
    {
     "data": {
      "text/plain": [
       "4"
      ]
     },
     "execution_count": 56,
     "metadata": {},
     "output_type": "execute_result"
    }
   ],
   "source": [
    "linkedList.printMiddle()"
   ]
  }
 ],
 "metadata": {
  "kernelspec": {
   "display_name": "Python 3",
   "language": "python",
   "name": "python3"
  },
  "language_info": {
   "codemirror_mode": {
    "name": "ipython",
    "version": 3
   },
   "file_extension": ".py",
   "mimetype": "text/x-python",
   "name": "python",
   "nbconvert_exporter": "python",
   "pygments_lexer": "ipython3",
   "version": "3.13.1"
  }
 },
 "nbformat": 4,
 "nbformat_minor": 2
}
