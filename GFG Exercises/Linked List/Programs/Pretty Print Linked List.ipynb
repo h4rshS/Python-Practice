{
 "cells": [
  {
   "cell_type": "markdown",
   "metadata": {},
   "source": [
    "# Pretty Print Linked List"
   ]
  },
  {
   "cell_type": "markdown",
   "metadata": {},
   "source": [
    "### Program to Pretty print Linked List"
   ]
  },
  {
   "cell_type": "code",
   "execution_count": 1,
   "metadata": {},
   "outputs": [],
   "source": [
    "class Node:\n",
    "    \n",
    "    def __init__(self, data: int):\n",
    "        self.value = data\n",
    "        self.next = None"
   ]
  },
  {
   "cell_type": "code",
   "execution_count": 12,
   "metadata": {},
   "outputs": [],
   "source": [
    "class LinkedList:\n",
    "    \n",
    "    def __init__(self, head: Node = None):\n",
    "        self.head = head\n",
    "        \n",
    "    def addNode(self, val: int):\n",
    "        node = Node(val)\n",
    "        \n",
    "        if self.head is None:\n",
    "            self.head = node\n",
    "        else:\n",
    "            curr = self.head\n",
    "            \n",
    "            while curr.next is not None:\n",
    "                curr = curr.next\n",
    "                \n",
    "            curr.next = node\n",
    "        \n",
    "        print(\"Node Inserted\")\n",
    "        \n",
    "    def __str__(self):\n",
    "        curr = self.head\n",
    "        \n",
    "        res = []\n",
    "        \n",
    "        while curr:\n",
    "            res.append(curr.value)\n",
    "            curr = curr.next\n",
    "            \n",
    "        return str(res)"
   ]
  },
  {
   "cell_type": "code",
   "execution_count": 13,
   "metadata": {},
   "outputs": [],
   "source": [
    "linkedList = LinkedList()"
   ]
  },
  {
   "cell_type": "code",
   "execution_count": 14,
   "metadata": {},
   "outputs": [
    {
     "name": "stdout",
     "output_type": "stream",
     "text": [
      "Node Inserted\n",
      "Node Inserted\n",
      "Node Inserted\n",
      "Node Inserted\n"
     ]
    }
   ],
   "source": [
    "linkedList.addNode(1)\n",
    "linkedList.addNode(2)\n",
    "linkedList.addNode(5)\n",
    "linkedList.addNode(10)"
   ]
  },
  {
   "cell_type": "code",
   "execution_count": 15,
   "metadata": {},
   "outputs": [
    {
     "name": "stdout",
     "output_type": "stream",
     "text": [
      "[1, 2, 5, 10]\n"
     ]
    }
   ],
   "source": [
    "print(linkedList)"
   ]
  }
 ],
 "metadata": {
  "kernelspec": {
   "display_name": "Python 3",
   "language": "python",
   "name": "python3"
  },
  "language_info": {
   "codemirror_mode": {
    "name": "ipython",
    "version": 3
   },
   "file_extension": ".py",
   "mimetype": "text/x-python",
   "name": "python",
   "nbconvert_exporter": "python",
   "pygments_lexer": "ipython3",
   "version": "3.13.1"
  }
 },
 "nbformat": 4,
 "nbformat_minor": 2
}
