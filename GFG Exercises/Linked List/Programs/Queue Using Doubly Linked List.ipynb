{
 "cells": [
  {
   "cell_type": "markdown",
   "metadata": {},
   "source": [
    "# Queue Using Doubly Linked List"
   ]
  },
  {
   "cell_type": "markdown",
   "metadata": {},
   "source": [
    "### Program to implement Stack using Doubly Linked List\n",
    "\n",
    "Queue Operations:\n",
    "\n",
    "1. enqueue()     : Adds element to the back of Queue.\n",
    "2. dequeue()     : Removes and returns the first element from the queue.\n",
    "3. first()       : Returns the first element of the queue without removing it.\n",
    "4. size()        : returns the number of elements in the Queue.\n",
    "5. isEmpty()     : Return True if Queue is Empty else return False.\n",
    "6. printqueue()  : Print all elements of the Queue."
   ]
  },
  {
   "cell_type": "code",
   "execution_count": 1,
   "metadata": {},
   "outputs": [],
   "source": [
    "class Node:\n",
    "    \n",
    "    def __init__(self, data: int):\n",
    "        self.data = data\n",
    "        self.next = None\n",
    "        self.prev = None"
   ]
  },
  {
   "cell_type": "code",
   "execution_count": 4,
   "metadata": {},
   "outputs": [],
   "source": [
    "class Queue:\n",
    "    \n",
    "    def __init__(self, head: Node = None):\n",
    "        self.head = head\n",
    "        self.tail = self.head\n",
    "        \n",
    "    def enqueue(self, data: int):\n",
    "        node = Node(data)\n",
    "        \n",
    "        if self.tail is None:\n",
    "            self.head = node\n",
    "            self.tail = self.head\n",
    "        else:\n",
    "            self.tail.next = node\n",
    "            node.prev = self.tail\n",
    "            self.tail = node\n",
    "            \n",
    "        print(\"Element Inserted\")\n",
    "        \n",
    "    def dequeue(self):\n",
    "        if self.head is None:\n",
    "            return None\n",
    "        elif self.head.next is None:\n",
    "            temp = self.head.data\n",
    "            self.head = None\n",
    "            self.tail = None\n",
    "            return temp\n",
    "        else:\n",
    "            temp = self.head.data\n",
    "            self.head = self.head.next\n",
    "            self.head.prev = None\n",
    "            return temp\n",
    "        \n",
    "    def first(self):\n",
    "        if self.head is None:\n",
    "            return None\n",
    "        else:\n",
    "            return self.head.data\n",
    "        \n",
    "    def size(self):\n",
    "        cnt = 0\n",
    "        \n",
    "        curr = self.head\n",
    "        \n",
    "        while curr is not None:\n",
    "            cnt += 1\n",
    "            curr = curr.next\n",
    "        \n",
    "        return cnt\n",
    "    \n",
    "    def isEmpty(self):\n",
    "        if self.head is None:\n",
    "            return True\n",
    "        else:\n",
    "            return False\n",
    "        \n",
    "    def printQueue(self):\n",
    "        curr = self.head\n",
    "        \n",
    "        while curr is not None:\n",
    "            print(curr.data, end=\"->\")\n",
    "            curr = curr.next"
   ]
  },
  {
   "cell_type": "code",
   "execution_count": 5,
   "metadata": {},
   "outputs": [],
   "source": [
    "queue = Queue()"
   ]
  },
  {
   "cell_type": "code",
   "execution_count": 6,
   "metadata": {},
   "outputs": [
    {
     "name": "stdout",
     "output_type": "stream",
     "text": [
      "Element Inserted\n",
      "Element Inserted\n",
      "Element Inserted\n",
      "Element Inserted\n"
     ]
    }
   ],
   "source": [
    "queue.enqueue(4)\n",
    "queue.enqueue(5)\n",
    "queue.enqueue(6)\n",
    "queue.enqueue(7)"
   ]
  },
  {
   "cell_type": "code",
   "execution_count": 7,
   "metadata": {},
   "outputs": [
    {
     "name": "stdout",
     "output_type": "stream",
     "text": [
      "4->5->6->7->"
     ]
    }
   ],
   "source": [
    "queue.printQueue()"
   ]
  },
  {
   "cell_type": "code",
   "execution_count": 8,
   "metadata": {},
   "outputs": [
    {
     "data": {
      "text/plain": [
       "4"
      ]
     },
     "execution_count": 8,
     "metadata": {},
     "output_type": "execute_result"
    }
   ],
   "source": [
    "queue.first()"
   ]
  },
  {
   "cell_type": "code",
   "execution_count": 9,
   "metadata": {},
   "outputs": [
    {
     "data": {
      "text/plain": [
       "4"
      ]
     },
     "execution_count": 9,
     "metadata": {},
     "output_type": "execute_result"
    }
   ],
   "source": [
    "queue.size()"
   ]
  },
  {
   "cell_type": "code",
   "execution_count": 10,
   "metadata": {},
   "outputs": [
    {
     "data": {
      "text/plain": [
       "4"
      ]
     },
     "execution_count": 10,
     "metadata": {},
     "output_type": "execute_result"
    }
   ],
   "source": [
    "queue.dequeue()"
   ]
  },
  {
   "cell_type": "code",
   "execution_count": 11,
   "metadata": {},
   "outputs": [
    {
     "data": {
      "text/plain": [
       "5"
      ]
     },
     "execution_count": 11,
     "metadata": {},
     "output_type": "execute_result"
    }
   ],
   "source": [
    "queue.dequeue()"
   ]
  },
  {
   "cell_type": "code",
   "execution_count": 12,
   "metadata": {},
   "outputs": [
    {
     "data": {
      "text/plain": [
       "False"
      ]
     },
     "execution_count": 12,
     "metadata": {},
     "output_type": "execute_result"
    }
   ],
   "source": [
    "queue.isEmpty()"
   ]
  }
 ],
 "metadata": {
  "kernelspec": {
   "display_name": "Python 3",
   "language": "python",
   "name": "python3"
  },
  "language_info": {
   "codemirror_mode": {
    "name": "ipython",
    "version": 3
   },
   "file_extension": ".py",
   "mimetype": "text/x-python",
   "name": "python",
   "nbconvert_exporter": "python",
   "pygments_lexer": "ipython3",
   "version": "3.13.1"
  }
 },
 "nbformat": 4,
 "nbformat_minor": 2
}
