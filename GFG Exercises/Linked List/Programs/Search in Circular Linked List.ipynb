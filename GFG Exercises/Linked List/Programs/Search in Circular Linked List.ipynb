{
 "cells": [
  {
   "cell_type": "markdown",
   "metadata": {},
   "source": [
    "# Search in Circular Linked List"
   ]
  },
  {
   "cell_type": "markdown",
   "metadata": {},
   "source": [
    "### Program to Search an Element in a Circular Linked List"
   ]
  },
  {
   "cell_type": "code",
   "execution_count": 1,
   "metadata": {},
   "outputs": [],
   "source": [
    "class Node:\n",
    "    \n",
    "    def __init__(self, data: int):\n",
    "        self.data = data\n",
    "        self.next = None"
   ]
  },
  {
   "cell_type": "code",
   "execution_count": 2,
   "metadata": {},
   "outputs": [],
   "source": [
    "class CircularLinkedList:\n",
    "    \n",
    "    def __init__(self):\n",
    "        self.head = Node(None)\n",
    "        self.tail = self.head\n",
    "        self.tail.next = self.head\n",
    "        \n",
    "    def addNode(self, data: int):\n",
    "        node = Node(data)\n",
    "        \n",
    "        if self.head.data is None:\n",
    "            self.head = node\n",
    "            self.tail = self.head\n",
    "            self.tail.next = self.head\n",
    "            \n",
    "        else:\n",
    "            self.tail.next = node\n",
    "            self.tail = node\n",
    "            self.tail.next = self.head\n",
    "            \n",
    "        print(\"Node Inserted\")\n",
    "        \n",
    "    def searchNode(self, data: int):\n",
    "        curr = self.head\n",
    "        \n",
    "        present = False\n",
    "        \n",
    "        while True:\n",
    "            if curr.data == data:\n",
    "                present = True\n",
    "                break\n",
    "            \n",
    "            curr = curr.next\n",
    "            \n",
    "            if curr == self.head:\n",
    "                break\n",
    "            \n",
    "        if present:\n",
    "            print(\"Element is present\")\n",
    "        else:\n",
    "            print(\"Element is not present\")"
   ]
  },
  {
   "cell_type": "code",
   "execution_count": 3,
   "metadata": {},
   "outputs": [],
   "source": [
    "circularLinkedList = CircularLinkedList()"
   ]
  },
  {
   "cell_type": "code",
   "execution_count": 4,
   "metadata": {},
   "outputs": [
    {
     "name": "stdout",
     "output_type": "stream",
     "text": [
      "Node Inserted\n",
      "Node Inserted\n",
      "Node Inserted\n",
      "Node Inserted\n",
      "Node Inserted\n",
      "Node Inserted\n"
     ]
    }
   ],
   "source": [
    "circularLinkedList.addNode(1)\n",
    "circularLinkedList.addNode(2)\n",
    "circularLinkedList.addNode(3)\n",
    "circularLinkedList.addNode(4)\n",
    "circularLinkedList.addNode(5)\n",
    "circularLinkedList.addNode(6)"
   ]
  },
  {
   "cell_type": "code",
   "execution_count": 5,
   "metadata": {},
   "outputs": [
    {
     "name": "stdout",
     "output_type": "stream",
     "text": [
      "Element is present\n"
     ]
    }
   ],
   "source": [
    "circularLinkedList.searchNode(2)"
   ]
  },
  {
   "cell_type": "code",
   "execution_count": 6,
   "metadata": {},
   "outputs": [
    {
     "name": "stdout",
     "output_type": "stream",
     "text": [
      "Element is not present\n"
     ]
    }
   ],
   "source": [
    "circularLinkedList.searchNode(7)"
   ]
  }
 ],
 "metadata": {
  "kernelspec": {
   "display_name": "Python 3",
   "language": "python",
   "name": "python3"
  },
  "language_info": {
   "codemirror_mode": {
    "name": "ipython",
    "version": 3
   },
   "file_extension": ".py",
   "mimetype": "text/x-python",
   "name": "python",
   "nbconvert_exporter": "python",
   "pygments_lexer": "ipython3",
   "version": "3.13.1"
  }
 },
 "nbformat": 4,
 "nbformat_minor": 2
}
