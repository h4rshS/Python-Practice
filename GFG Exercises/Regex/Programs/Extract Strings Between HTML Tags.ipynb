{
 "cells": [
  {
   "cell_type": "markdown",
   "metadata": {},
   "source": [
    "# Extract Strings Between HTML Tags"
   ]
  },
  {
   "cell_type": "markdown",
   "metadata": {},
   "source": [
    "### Program to extract Strings between HTML Tags"
   ]
  },
  {
   "cell_type": "code",
   "execution_count": 1,
   "metadata": {},
   "outputs": [],
   "source": [
    "import re"
   ]
  },
  {
   "cell_type": "code",
   "execution_count": 11,
   "metadata": {},
   "outputs": [],
   "source": [
    "def extract_strings(s: str, tag: str):\n",
    "    pattern = \"<\" + tag + \">(.*?)</\" + tag + \">\"\n",
    "    \n",
    "    return re.findall(pattern, s)"
   ]
  },
  {
   "cell_type": "code",
   "execution_count": 12,
   "metadata": {},
   "outputs": [
    {
     "data": {
      "text/plain": [
       "['Gfg', 'Best', 'Reading CS']"
      ]
     },
     "execution_count": 12,
     "metadata": {},
     "output_type": "execute_result"
    }
   ],
   "source": [
    "extract_strings(\"<b>Gfg</b> is <b>Best</b>. I love <b>Reading CS</b> from it.\", \"b\")"
   ]
  },
  {
   "cell_type": "code",
   "execution_count": 14,
   "metadata": {},
   "outputs": [],
   "source": [
    "def extract_strings(s: str, tag: str):\n",
    "    res = []\n",
    "    \n",
    "    start_idx = s.find(\"<\" + tag + \">\")\n",
    "    \n",
    "    while start_idx != -1:\n",
    "        end_idx = s.find(\"</\" + tag + \">\", start_idx)\n",
    "        \n",
    "        if end_idx == -1:\n",
    "            break\n",
    "        \n",
    "        res.append(s[start_idx + len(tag) + 2 : end_idx])\n",
    "        \n",
    "        start_idx = s.find(\"<\" + tag + \">\", end_idx)\n",
    "        \n",
    "    return res"
   ]
  },
  {
   "cell_type": "code",
   "execution_count": 16,
   "metadata": {},
   "outputs": [
    {
     "data": {
      "text/plain": [
       "['Gfg', 'Best', 'Reading CS']"
      ]
     },
     "execution_count": 16,
     "metadata": {},
     "output_type": "execute_result"
    }
   ],
   "source": [
    "extract_strings(\"<b>Gfg</b> is <b>Best</b>. I love <b>Reading CS</b> from it.\", \"b\")\n"
   ]
  },
  {
   "cell_type": "code",
   "execution_count": 17,
   "metadata": {},
   "outputs": [],
   "source": [
    "def extract_strings(s: str, tag: str):\n",
    "    start_idx = s.find(\"<\" + tag + \">\")\n",
    "    \n",
    "    if start_idx == -1:\n",
    "        return []\n",
    "    \n",
    "    end_idx = s.find(\"</\" + tag + \">\", start_idx)\n",
    "    \n",
    "    return [s[start_idx + len(tag) + 2 : end_idx]] + extract_strings(s[end_idx + len(tag) + 3:], tag)"
   ]
  },
  {
   "cell_type": "code",
   "execution_count": 19,
   "metadata": {},
   "outputs": [
    {
     "data": {
      "text/plain": [
       "['Gfg', 'Best', 'Reading CS']"
      ]
     },
     "execution_count": 19,
     "metadata": {},
     "output_type": "execute_result"
    }
   ],
   "source": [
    "extract_strings(\"<b>Gfg</b> is <b>Best</b>. I love <b>Reading CS</b> from it.\", \"b\")"
   ]
  }
 ],
 "metadata": {
  "kernelspec": {
   "display_name": "Python 3",
   "language": "python",
   "name": "python3"
  },
  "language_info": {
   "codemirror_mode": {
    "name": "ipython",
    "version": 3
   },
   "file_extension": ".py",
   "mimetype": "text/x-python",
   "name": "python",
   "nbconvert_exporter": "python",
   "pygments_lexer": "ipython3",
   "version": "3.13.1"
  }
 },
 "nbformat": 4,
 "nbformat_minor": 2
}
