{
 "cells": [
  {
   "cell_type": "markdown",
   "metadata": {},
   "source": [
    "# Counting Sort"
   ]
  },
  {
   "cell_type": "markdown",
   "metadata": {},
   "source": [
    "### Given a string arr consisting of lowercase english letters, arrange all its letters in lexicographical order using Counting Sort"
   ]
  },
  {
   "cell_type": "code",
   "execution_count": 3,
   "metadata": {},
   "outputs": [],
   "source": [
    "def countSort(arr: str):\n",
    "    count = [0] * 256\n",
    "        \n",
    "    for i in arr:\n",
    "        count[ord(i)] += 1\n",
    "            \n",
    "    for idx in range(1, len(count)):\n",
    "        count[idx] += count[idx - 1]\n",
    "            \n",
    "    sorted_arr = [0] * len(arr)\n",
    "        \n",
    "    for i in arr:\n",
    "        sorted_arr[count[ord(i)] - 1] = i\n",
    "        count[ord(i)] -= 1\n",
    "            \n",
    "    return ''.join(sorted_arr)"
   ]
  },
  {
   "cell_type": "code",
   "execution_count": 4,
   "metadata": {},
   "outputs": [
    {
     "data": {
      "text/plain": [
       "'abdes'"
      ]
     },
     "execution_count": 4,
     "metadata": {},
     "output_type": "execute_result"
    }
   ],
   "source": [
    "countSort(\"edsab\")"
   ]
  },
  {
   "cell_type": "code",
   "execution_count": 5,
   "metadata": {},
   "outputs": [
    {
     "data": {
      "text/plain": [
       "'eeeefggkkorss'"
      ]
     },
     "execution_count": 5,
     "metadata": {},
     "output_type": "execute_result"
    }
   ],
   "source": [
    "countSort(\"geeksforgeeks\")"
   ]
  }
 ],
 "metadata": {
  "kernelspec": {
   "display_name": "Python 3",
   "language": "python",
   "name": "python3"
  },
  "language_info": {
   "codemirror_mode": {
    "name": "ipython",
    "version": 3
   },
   "file_extension": ".py",
   "mimetype": "text/x-python",
   "name": "python",
   "nbconvert_exporter": "python",
   "pygments_lexer": "ipython3",
   "version": "3.13.1"
  }
 },
 "nbformat": 4,
 "nbformat_minor": 2
}
