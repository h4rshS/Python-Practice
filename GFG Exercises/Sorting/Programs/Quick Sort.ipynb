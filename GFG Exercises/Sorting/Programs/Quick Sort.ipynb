{
 "cells": [
  {
   "cell_type": "markdown",
   "metadata": {},
   "source": [
    "# Quick Sort"
   ]
  },
  {
   "cell_type": "markdown",
   "metadata": {},
   "source": [
    "### Program for QuickSort\n",
    "\n",
    "QuickSort is a divide and conquer algorithm. It picks an element as a pivot and partitions the given array around the picked pivot"
   ]
  },
  {
   "cell_type": "code",
   "execution_count": 20,
   "metadata": {},
   "outputs": [],
   "source": [
    "def partition(arr: list, low: int, high: int):\n",
    "    pivot = arr[low]\n",
    "    st = low\n",
    "    low = low + 1\n",
    "    \n",
    "    while low < high:\n",
    "        while low < high and arr[low] < pivot:\n",
    "            low += 1\n",
    "            \n",
    "        while high > low and arr[high] > pivot:\n",
    "            high -= 1\n",
    "            \n",
    "        if low < high:\n",
    "            arr[low], arr[high] = arr[high], arr[low]\n",
    "            low += 1\n",
    "            high -= 1\n",
    "        \n",
    "    arr[st], arr[high] = arr[high], arr[st]\n",
    "    \n",
    "    return high\n",
    "    \n",
    "\n",
    "def quick_sort(arr: list, low: int, high: int):\n",
    "    if low >= high:\n",
    "        return\n",
    "    \n",
    "    pivot = partition(arr, low, high)\n",
    "    quick_sort(arr, low, pivot - 1)\n",
    "    quick_sort(arr, pivot + 1, high)"
   ]
  },
  {
   "cell_type": "code",
   "execution_count": 21,
   "metadata": {},
   "outputs": [],
   "source": [
    "arr = [1, 7, 4, 1, 10, 9, -2]"
   ]
  },
  {
   "cell_type": "code",
   "execution_count": 22,
   "metadata": {},
   "outputs": [],
   "source": [
    "quick_sort(arr, 0, 6)"
   ]
  },
  {
   "cell_type": "code",
   "execution_count": 23,
   "metadata": {},
   "outputs": [
    {
     "data": {
      "text/plain": [
       "[-2, 1, 1, 10, 4, 7, 9]"
      ]
     },
     "execution_count": 23,
     "metadata": {},
     "output_type": "execute_result"
    }
   ],
   "source": [
    "arr"
   ]
  },
  {
   "cell_type": "code",
   "execution_count": 24,
   "metadata": {},
   "outputs": [],
   "source": [
    "def quick_sort(arr: list):\n",
    "    if len(arr) <= 1:\n",
    "        return arr\n",
    "    \n",
    "    pivot = arr[0]\n",
    "    \n",
    "    left = [x for x in arr[1:] if x < pivot]\n",
    "    right = [x for x in arr[1:] if x >= pivot]\n",
    "    \n",
    "    return quick_sort(left) + [pivot] + quick_sort(right)"
   ]
  },
  {
   "cell_type": "code",
   "execution_count": 25,
   "metadata": {},
   "outputs": [
    {
     "data": {
      "text/plain": [
       "[-2, 1, 1, 4, 7, 9, 10]"
      ]
     },
     "execution_count": 25,
     "metadata": {},
     "output_type": "execute_result"
    }
   ],
   "source": [
    "quick_sort([1, 7, 4, 1, 10, 9, -2])"
   ]
  }
 ],
 "metadata": {
  "kernelspec": {
   "display_name": "Python 3",
   "language": "python",
   "name": "python3"
  },
  "language_info": {
   "codemirror_mode": {
    "name": "ipython",
    "version": 3
   },
   "file_extension": ".py",
   "mimetype": "text/x-python",
   "name": "python",
   "nbconvert_exporter": "python",
   "pygments_lexer": "ipython3",
   "version": "3.13.1"
  }
 },
 "nbformat": 4,
 "nbformat_minor": 2
}
