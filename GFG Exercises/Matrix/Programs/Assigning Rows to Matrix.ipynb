{
 "cells": [
  {
   "cell_type": "markdown",
   "metadata": {},
   "source": [
    "# Assigning Rows to Matrix"
   ]
  },
  {
   "cell_type": "markdown",
   "metadata": {},
   "source": [
    "### Program for Assigning Subsequent Rows to Matrix first row elements"
   ]
  },
  {
   "cell_type": "code",
   "execution_count": 1,
   "metadata": {},
   "outputs": [],
   "source": [
    "def assign_rows(matrix: list[list], m: int, n: int):\n",
    "    return {matrix[0][idx] : matrix[idx + 1] for idx in range(n)}"
   ]
  },
  {
   "cell_type": "code",
   "execution_count": 2,
   "metadata": {},
   "outputs": [
    {
     "data": {
      "text/plain": [
       "{5: [2, 0, 9], 8: [5, 4, 2], 9: [2, 3, 9]}"
      ]
     },
     "execution_count": 2,
     "metadata": {},
     "output_type": "execute_result"
    }
   ],
   "source": [
    "assign_rows([[5, 8, 9], \n",
    "            [2, 0, 9], \n",
    "            [5, 4, 2],\n",
    "            [2, 3, 9]], 4, 3)"
   ]
  },
  {
   "cell_type": "code",
   "execution_count": 3,
   "metadata": {},
   "outputs": [],
   "source": [
    "def assign_rows(matrix: list[list], m: int, n: int):\n",
    "    return dict(zip(matrix[0], matrix[1:]))"
   ]
  },
  {
   "cell_type": "code",
   "execution_count": 4,
   "metadata": {},
   "outputs": [
    {
     "data": {
      "text/plain": [
       "{5: [2, 0, 9], 8: [5, 4, 2], 9: [2, 3, 9]}"
      ]
     },
     "execution_count": 4,
     "metadata": {},
     "output_type": "execute_result"
    }
   ],
   "source": [
    "assign_rows([[5, 8, 9], \n",
    "            [2, 0, 9], \n",
    "            [5, 4, 2],\n",
    "            [2, 3, 9]], 4, 3)"
   ]
  },
  {
   "cell_type": "code",
   "execution_count": 5,
   "metadata": {},
   "outputs": [],
   "source": [
    "def assign_rows(matrix: list[list], m: int, n: int):\n",
    "    d = {}\n",
    "    \n",
    "    for idx in range(n):\n",
    "        d[matrix[0][idx]] = matrix[idx + 1]\n",
    "    \n",
    "    return d"
   ]
  },
  {
   "cell_type": "code",
   "execution_count": 6,
   "metadata": {},
   "outputs": [
    {
     "data": {
      "text/plain": [
       "{5: [2, 0, 9], 8: [5, 4, 2], 9: [2, 3, 9]}"
      ]
     },
     "execution_count": 6,
     "metadata": {},
     "output_type": "execute_result"
    }
   ],
   "source": [
    "assign_rows([[5, 8, 9], \n",
    "            [2, 0, 9], \n",
    "            [5, 4, 2],\n",
    "            [2, 3, 9]], 4, 3)"
   ]
  }
 ],
 "metadata": {
  "kernelspec": {
   "display_name": "Python 3",
   "language": "python",
   "name": "python3"
  },
  "language_info": {
   "codemirror_mode": {
    "name": "ipython",
    "version": 3
   },
   "file_extension": ".py",
   "mimetype": "text/x-python",
   "name": "python",
   "nbconvert_exporter": "python",
   "pygments_lexer": "ipython3",
   "version": "3.13.1"
  }
 },
 "nbformat": 4,
 "nbformat_minor": 2
}
