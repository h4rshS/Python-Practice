{
 "cells": [
  {
   "cell_type": "markdown",
   "metadata": {},
   "source": [
    "# Matrix Operations"
   ]
  },
  {
   "cell_type": "markdown",
   "metadata": {},
   "source": [
    "### Given a binary matrix of dimensions M * N. One can perform the given operation in the matrix.\n",
    "\n",
    "If the value of matrix[i][j] is 0, then traverse in the same direction and check the next value. <br>\n",
    "If the value of matrix[i][j] is 1, then update matrix[i][j] to 0 and change the current direction from up, right, down, or left to the directions right, down, left, and up respectively."
   ]
  },
  {
   "cell_type": "code",
   "execution_count": 1,
   "metadata": {},
   "outputs": [],
   "source": [
    "def endPoints(matrix: list[list], m: int, n: int):\n",
    "        i, j = 0, 0\n",
    "        \n",
    "        curr_d = 'r'\n",
    "        \n",
    "        dc = {'u':'r',\n",
    "            'r':'d',\n",
    "            'd':'l',\n",
    "            'l':'u'}\n",
    "            \n",
    "        while i >= 0 and i < m and j >= 0 and j < n:\n",
    "            curr_i = i\n",
    "            curr_j = j\n",
    "            \n",
    "            if matrix[i][j] == 1:\n",
    "                curr_d = dc[curr_d]\n",
    "                \n",
    "                matrix[i][j] = 0\n",
    "                    \n",
    "            if curr_d == 'u':\n",
    "                i -= 1\n",
    "            elif curr_d == 'r':\n",
    "                j += 1\n",
    "            elif curr_d == 'd':\n",
    "                i += 1\n",
    "            elif curr_d == 'l':\n",
    "                j -= 1\n",
    "                    \n",
    "        return (curr_i, curr_j)"
   ]
  },
  {
   "cell_type": "code",
   "execution_count": 3,
   "metadata": {},
   "outputs": [
    {
     "data": {
      "text/plain": [
       "(1, 1)"
      ]
     },
     "execution_count": 3,
     "metadata": {},
     "output_type": "execute_result"
    }
   ],
   "source": [
    "endPoints([[0,1],\n",
    "            [1,0]], 2, 2)"
   ]
  },
  {
   "cell_type": "code",
   "execution_count": 4,
   "metadata": {},
   "outputs": [
    {
     "data": {
      "text/plain": [
       "(2, 0)"
      ]
     },
     "execution_count": 4,
     "metadata": {},
     "output_type": "execute_result"
    }
   ],
   "source": [
    "endPoints([[0, 1, 1, 1, 0],\n",
    "            [1, 0, 1, 0, 1],\n",
    "            [1, 1, 1, 0, 0]], 3, 5)"
   ]
  }
 ],
 "metadata": {
  "kernelspec": {
   "display_name": "Python 3",
   "language": "python",
   "name": "python3"
  },
  "language_info": {
   "codemirror_mode": {
    "name": "ipython",
    "version": 3
   },
   "file_extension": ".py",
   "mimetype": "text/x-python",
   "name": "python",
   "nbconvert_exporter": "python",
   "pygments_lexer": "ipython3",
   "version": "3.13.1"
  }
 },
 "nbformat": 4,
 "nbformat_minor": 2
}
