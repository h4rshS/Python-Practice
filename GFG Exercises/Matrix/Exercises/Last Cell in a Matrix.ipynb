{
 "cells": [
  {
   "cell_type": "markdown",
   "metadata": {},
   "source": [
    "# Last Cell in a Matrix"
   ]
  },
  {
   "cell_type": "markdown",
   "metadata": {},
   "source": [
    "### Given a binary matrix of dimensions  with R rows and C columns. Start from cell(0, 0), moving in the right direction. Perform the following operations: \n",
    "\n",
    "If the value of matrix[i][j] is 0, then traverse in the same direction and check the next value. <br>\n",
    "If the value of matrix[i][j] is 1, then update matrix[i][j] to 0 and change the current direction clockwise. ie - up, right, down, or left directions change to right, down, left, and up respectively."
   ]
  },
  {
   "cell_type": "code",
   "execution_count": 2,
   "metadata": {},
   "outputs": [],
   "source": [
    "def isvalid(x: int, y: int, n: int, m: int):\n",
    "        if x < 0 or y < 0 or x >= n or y >= m:\n",
    "            return False\n",
    "            \n",
    "        return True\n",
    "    \n",
    "def endPoints(matrix: list[list], R: int, C: int):\n",
    "    dx = [0, 1, 0, -1]\n",
    "    dy = [1, 0, -1, 0]\n",
    "        \n",
    "    curr_x, curr_y, d = 0, 0, 0\n",
    "            \n",
    "    while True:\n",
    "            \n",
    "        if matrix[curr_x][curr_y] == 0:\n",
    "            if isvalid(curr_x + dx[d], curr_y + dy[d], R, C):\n",
    "                curr_x += dx[d]\n",
    "                curr_y += dy[d]\n",
    "                \n",
    "            else:\n",
    "                return (curr_x, curr_y)\n",
    "                \n",
    "        else:\n",
    "            matrix[curr_x][curr_y] = 0\n",
    "            d += 1\n",
    "            d %= 4"
   ]
  },
  {
   "cell_type": "code",
   "execution_count": 3,
   "metadata": {},
   "outputs": [
    {
     "data": {
      "text/plain": [
       "(1, 1)"
      ]
     },
     "execution_count": 3,
     "metadata": {},
     "output_type": "execute_result"
    }
   ],
   "source": [
    "endPoints([[0,1],\n",
    "        [1,0]], 2, 2)"
   ]
  },
  {
   "cell_type": "code",
   "execution_count": 4,
   "metadata": {},
   "outputs": [
    {
     "data": {
      "text/plain": [
       "(2, 0)"
      ]
     },
     "execution_count": 4,
     "metadata": {},
     "output_type": "execute_result"
    }
   ],
   "source": [
    "endPoints([[0, 1, 1, 1, 0],\n",
    "        [1, 0, 1, 0, 1],\n",
    "        [1, 1, 1, 0, 0]], 3, 5)"
   ]
  }
 ],
 "metadata": {
  "kernelspec": {
   "display_name": "Python 3",
   "language": "python",
   "name": "python3"
  },
  "language_info": {
   "codemirror_mode": {
    "name": "ipython",
    "version": 3
   },
   "file_extension": ".py",
   "mimetype": "text/x-python",
   "name": "python",
   "nbconvert_exporter": "python",
   "pygments_lexer": "ipython3",
   "version": "3.13.1"
  }
 },
 "nbformat": 4,
 "nbformat_minor": 2
}
