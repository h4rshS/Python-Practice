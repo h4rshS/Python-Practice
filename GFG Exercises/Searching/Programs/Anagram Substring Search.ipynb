{
 "cells": [
  {
   "cell_type": "markdown",
   "metadata": {},
   "source": [
    "# Anagram Substring Search"
   ]
  },
  {
   "cell_type": "markdown",
   "metadata": {},
   "source": [
    "### Program for Anagram Substring Search (Or Search for all permutations)"
   ]
  },
  {
   "cell_type": "code",
   "execution_count": 1,
   "metadata": {},
   "outputs": [],
   "source": [
    "from collections import Counter"
   ]
  },
  {
   "cell_type": "code",
   "execution_count": 2,
   "metadata": {},
   "outputs": [],
   "source": [
    "def search(pat: str, txt: str):\n",
    "    cnt = 0\n",
    "    \n",
    "    pat_counter = Counter(pat)\n",
    "    \n",
    "    for idx in range(len(txt) - len(pat) + 1):\n",
    "        if Counter(txt[idx : idx + len(pat)]) == pat_counter:\n",
    "            cnt += 1\n",
    "            \n",
    "    return cnt"
   ]
  },
  {
   "cell_type": "code",
   "execution_count": 3,
   "metadata": {},
   "outputs": [
    {
     "data": {
      "text/plain": [
       "3"
      ]
     },
     "execution_count": 3,
     "metadata": {},
     "output_type": "execute_result"
    }
   ],
   "source": [
    "search(\"for\",\"forxxorfxdofr\")"
   ]
  },
  {
   "cell_type": "code",
   "execution_count": 4,
   "metadata": {},
   "outputs": [
    {
     "data": {
      "text/plain": [
       "4"
      ]
     },
     "execution_count": 4,
     "metadata": {},
     "output_type": "execute_result"
    }
   ],
   "source": [
    "search(\"aaba\",\"aabaabaa\")"
   ]
  },
  {
   "cell_type": "code",
   "execution_count": 5,
   "metadata": {},
   "outputs": [],
   "source": [
    "def search(pat: str, txt: str):\n",
    "    cnt = 0\n",
    "    \n",
    "    sorted_pat = sorted(pat)\n",
    "    \n",
    "    for idx in range(len(txt) - len(pat) + 1):\n",
    "        if sorted(txt[idx : idx + len(pat)]) == sorted_pat:\n",
    "            cnt += 1\n",
    "            \n",
    "    return cnt"
   ]
  },
  {
   "cell_type": "code",
   "execution_count": 6,
   "metadata": {},
   "outputs": [
    {
     "data": {
      "text/plain": [
       "3"
      ]
     },
     "execution_count": 6,
     "metadata": {},
     "output_type": "execute_result"
    }
   ],
   "source": [
    "search(\"for\",\"forxxorfxdofr\")"
   ]
  },
  {
   "cell_type": "code",
   "execution_count": 7,
   "metadata": {},
   "outputs": [
    {
     "data": {
      "text/plain": [
       "4"
      ]
     },
     "execution_count": 7,
     "metadata": {},
     "output_type": "execute_result"
    }
   ],
   "source": [
    "search(\"aaba\",\"aabaabaa\")"
   ]
  },
  {
   "cell_type": "code",
   "execution_count": 12,
   "metadata": {},
   "outputs": [],
   "source": [
    "def search(pat: str, txt: str):\n",
    "    cnt = 0\n",
    "    \n",
    "    substr = txt[0 : len(pat)]\n",
    "    \n",
    "    sorted_pat = sorted(pat)\n",
    "    \n",
    "    for idx in range(len(pat), len(txt)):\n",
    "        if sorted(substr) == sorted_pat:\n",
    "            cnt += 1\n",
    "            \n",
    "        substr = substr[1:] + txt[idx]\n",
    "        \n",
    "    if sorted(substr) == sorted_pat:\n",
    "        cnt += 1\n",
    "        \n",
    "    return cnt"
   ]
  },
  {
   "cell_type": "code",
   "execution_count": 13,
   "metadata": {},
   "outputs": [
    {
     "data": {
      "text/plain": [
       "3"
      ]
     },
     "execution_count": 13,
     "metadata": {},
     "output_type": "execute_result"
    }
   ],
   "source": [
    "search(\"for\",\"forxxorfxdofr\")"
   ]
  },
  {
   "cell_type": "code",
   "execution_count": 14,
   "metadata": {},
   "outputs": [
    {
     "data": {
      "text/plain": [
       "4"
      ]
     },
     "execution_count": 14,
     "metadata": {},
     "output_type": "execute_result"
    }
   ],
   "source": [
    "search(\"aaba\",\"aabaabaa\")"
   ]
  },
  {
   "cell_type": "code",
   "execution_count": 15,
   "metadata": {},
   "outputs": [],
   "source": [
    "MAX = 256\n",
    "\n",
    "def compare(arr1: list, arr2: list):\n",
    "    for i in range(MAX):\n",
    "        if arr1[i] != arr2[i]:\n",
    "            return False\n",
    "    \n",
    "    return True\n",
    "\n",
    "def search(pat: str, txt: str):\n",
    "    m = len(pat)\n",
    "    n = len(txt)\n",
    "    \n",
    "    count_p = [0] * MAX\n",
    "    count_t = [0] * MAX\n",
    "    \n",
    "    for i in range(m):\n",
    "        count_p[ord(pat[i])] += 1\n",
    "        count_t[ord(txt[i])] += 1\n",
    "        \n",
    "    cnt = 0 \n",
    "        \n",
    "    for idx in range(m, n):\n",
    "        if compare(count_p, count_t):\n",
    "            cnt += 1\n",
    "        \n",
    "        count_t[ord(txt[idx - m])] -= 1\n",
    "        count_t[ord(txt[idx])] += 1\n",
    "        \n",
    "    if compare(count_p, count_t):\n",
    "        cnt += 1\n",
    "        \n",
    "    return cnt"
   ]
  },
  {
   "cell_type": "code",
   "execution_count": 16,
   "metadata": {},
   "outputs": [
    {
     "data": {
      "text/plain": [
       "3"
      ]
     },
     "execution_count": 16,
     "metadata": {},
     "output_type": "execute_result"
    }
   ],
   "source": [
    "search(\"for\",\"forxxorfxdofr\")"
   ]
  },
  {
   "cell_type": "code",
   "execution_count": 17,
   "metadata": {},
   "outputs": [
    {
     "data": {
      "text/plain": [
       "4"
      ]
     },
     "execution_count": 17,
     "metadata": {},
     "output_type": "execute_result"
    }
   ],
   "source": [
    "search(\"aaba\",\"aabaabaa\")"
   ]
  }
 ],
 "metadata": {
  "kernelspec": {
   "display_name": "Python 3",
   "language": "python",
   "name": "python3"
  },
  "language_info": {
   "codemirror_mode": {
    "name": "ipython",
    "version": 3
   },
   "file_extension": ".py",
   "mimetype": "text/x-python",
   "name": "python",
   "nbconvert_exporter": "python",
   "pygments_lexer": "ipython3",
   "version": "3.13.1"
  }
 },
 "nbformat": 4,
 "nbformat_minor": 2
}
