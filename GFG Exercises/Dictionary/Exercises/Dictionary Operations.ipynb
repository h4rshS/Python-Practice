{
 "cells": [
  {
   "cell_type": "markdown",
   "metadata": {},
   "source": [
    "# Dictionary Operations"
   ]
  },
  {
   "cell_type": "markdown",
   "metadata": {},
   "source": [
    "### Given a list of some students in a list and their corresponding marks in another list. The task is to do some operations as described below:\n",
    "a. i key value: Iserts key and value in the dictionary, and print 'Inserted'. <br>\n",
    "b. d key: Delete the entry for a given key and print 'Deleted' if the key to be deleted is present, else print '-1'. <br>\n",
    "c. key: Print marks of a given key in a statement as \"Marks of student name is : marks\"."
   ]
  },
  {
   "cell_type": "code",
   "execution_count": 1,
   "metadata": {},
   "outputs": [],
   "source": [
    "def insert_dict(query: list, dict: dict):\n",
    "    dict[query[1]] = int(query[2])\n",
    "    print(\"Inserted\")\n",
    "\n",
    "def del_dict(query: list, dict: dict):\n",
    "    if query[1] in dict:\n",
    "        del dict[query[1]]\n",
    "        print(\"Deleted\")\n",
    "    else:\n",
    "        print(\"-1\")\n",
    "\n",
    "def print_dict(key: str, dict: dict):\n",
    "    if key in dict:\n",
    "        print(\"Marks of \" + key + \" is \" + str(dict[key]))"
   ]
  },
  {
   "cell_type": "code",
   "execution_count": 2,
   "metadata": {},
   "outputs": [],
   "source": [
    "d = {}"
   ]
  },
  {
   "cell_type": "code",
   "execution_count": 4,
   "metadata": {},
   "outputs": [
    {
     "name": "stdout",
     "output_type": "stream",
     "text": [
      "Inserted\n",
      "Inserted\n"
     ]
    }
   ],
   "source": [
    "insert_dict([\"i\",\"geeks\", 100], d)\n",
    "insert_dict([\"i\", \"for\", 200], d)"
   ]
  },
  {
   "cell_type": "code",
   "execution_count": 6,
   "metadata": {},
   "outputs": [
    {
     "name": "stdout",
     "output_type": "stream",
     "text": [
      "Deleted\n"
     ]
    }
   ],
   "source": [
    "del_dict([\"d\", \"geeks\"], d)"
   ]
  },
  {
   "cell_type": "code",
   "execution_count": 7,
   "metadata": {},
   "outputs": [
    {
     "name": "stdout",
     "output_type": "stream",
     "text": [
      "Marks of for is 200\n"
     ]
    }
   ],
   "source": [
    "print_dict(\"for\", d)"
   ]
  },
  {
   "cell_type": "code",
   "execution_count": 9,
   "metadata": {},
   "outputs": [
    {
     "name": "stdout",
     "output_type": "stream",
     "text": [
      "-1\n"
     ]
    }
   ],
   "source": [
    "del_dict([\"d\",\"geeks\"], d)"
   ]
  }
 ],
 "metadata": {
  "kernelspec": {
   "display_name": "Python 3",
   "language": "python",
   "name": "python3"
  },
  "language_info": {
   "codemirror_mode": {
    "name": "ipython",
    "version": 3
   },
   "file_extension": ".py",
   "mimetype": "text/x-python",
   "name": "python",
   "nbconvert_exporter": "python",
   "pygments_lexer": "ipython3",
   "version": "3.13.1"
  }
 },
 "nbformat": 4,
 "nbformat_minor": 2
}
