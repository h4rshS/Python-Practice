{
 "cells": [
  {
   "cell_type": "markdown",
   "metadata": {},
   "source": [
    "# Symmetrical or Palindrome"
   ]
  },
  {
   "cell_type": "markdown",
   "metadata": {},
   "source": [
    "### Given a string. the task is to check if the string is symmetrical and palindrome or not. \n",
    "\n",
    "A string is said to be symmetrical if both the halves of the string are the same and <br> \n",
    "A string is said to be a palindrome string if one half of the string is the reverse of the other half or if a string appears the same when read forward or backward."
   ]
  },
  {
   "cell_type": "code",
   "execution_count": 6,
   "metadata": {},
   "outputs": [],
   "source": [
    "def palindrome(s: str):\n",
    "    return s == s[::-1]\n",
    "\n",
    "def symmetrical(s: str):\n",
    "    mid = len(s) // 2\n",
    "    \n",
    "    if mid % 2 != 0:\n",
    "        return s[:mid] == s[mid:]\n",
    "    else:\n",
    "        return s[:mid] == s[mid + 1:]"
   ]
  },
  {
   "cell_type": "code",
   "execution_count": 7,
   "metadata": {},
   "outputs": [
    {
     "name": "stdout",
     "output_type": "stream",
     "text": [
      "False\n",
      "True\n"
     ]
    }
   ],
   "source": [
    "print(palindrome(\"khokho\"))\n",
    "print(symmetrical(\"khokho\"))"
   ]
  },
  {
   "cell_type": "code",
   "execution_count": 8,
   "metadata": {},
   "outputs": [
    {
     "name": "stdout",
     "output_type": "stream",
     "text": [
      "True\n",
      "True\n"
     ]
    }
   ],
   "source": [
    "print(palindrome(\"amaama\"))\n",
    "print(symmetrical(\"amaama\"))"
   ]
  }
 ],
 "metadata": {
  "kernelspec": {
   "display_name": "Python 3",
   "language": "python",
   "name": "python3"
  },
  "language_info": {
   "codemirror_mode": {
    "name": "ipython",
    "version": 3
   },
   "file_extension": ".py",
   "mimetype": "text/x-python",
   "name": "python",
   "nbconvert_exporter": "python",
   "pygments_lexer": "ipython3",
   "version": "3.13.1"
  }
 },
 "nbformat": 4,
 "nbformat_minor": 2
}
