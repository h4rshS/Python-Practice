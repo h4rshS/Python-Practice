{
 "cells": [
  {
   "cell_type": "markdown",
   "metadata": {},
   "source": [
    "# String Methods - I"
   ]
  },
  {
   "cell_type": "markdown",
   "metadata": {},
   "source": [
    "### In this question, we'll take a look at inbuilt string methods like title(), swapcase(), find(), strip().\n",
    "You'll be given a string str and x, you'll perform various operations on them."
   ]
  },
  {
   "cell_type": "code",
   "execution_count": 1,
   "metadata": {},
   "outputs": [],
   "source": [
    "def trim(str: str):\n",
    "    return str.strip()   \n",
    "\n",
    "def exists(str: str, x: str):\n",
    "    return str.find(x)      \n",
    "\n",
    "def titleIt(str: str):\n",
    "    return str.title()      \n",
    "\n",
    "def casesSwap(str: str):\n",
    "    return str.swapcase()  "
   ]
  },
  {
   "cell_type": "code",
   "execution_count": 2,
   "metadata": {},
   "outputs": [
    {
     "name": "stdout",
     "output_type": "stream",
     "text": [
      "hello\n",
      "2\n",
      "Hello\n",
      "HELLO\n"
     ]
    }
   ],
   "source": [
    "print(trim('hello'))\n",
    "print(exists('hello','llo'))\n",
    "print(titleIt('hello'))\n",
    "print(casesSwap('hello'))"
   ]
  },
  {
   "cell_type": "code",
   "execution_count": 7,
   "metadata": {},
   "outputs": [
    {
     "name": "stdout",
     "output_type": "stream",
     "text": [
      "python is a language\n",
      "-1\n",
      "Python Is A Language\n",
      "python is a language\n"
     ]
    }
   ],
   "source": [
    "print(trim('      python is a language          '))\n",
    "print(exists('python is a language',' an '))\n",
    "print(titleIt('python is a language'))\n",
    "print(casesSwap('PYTHON IS A LANGUAGE'))"
   ]
  }
 ],
 "metadata": {
  "kernelspec": {
   "display_name": "Python 3",
   "language": "python",
   "name": "python3"
  },
  "language_info": {
   "codemirror_mode": {
    "name": "ipython",
    "version": 3
   },
   "file_extension": ".py",
   "mimetype": "text/x-python",
   "name": "python",
   "nbconvert_exporter": "python",
   "pygments_lexer": "ipython3",
   "version": "3.13.1"
  }
 },
 "nbformat": 4,
 "nbformat_minor": 2
}
