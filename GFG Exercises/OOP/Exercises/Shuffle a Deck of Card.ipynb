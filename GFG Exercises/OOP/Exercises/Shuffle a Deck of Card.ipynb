{
 "cells": [
  {
   "cell_type": "markdown",
   "metadata": {},
   "source": [
    "# Shuffle a Deck of Card"
   ]
  },
  {
   "cell_type": "markdown",
   "metadata": {},
   "source": [
    "## Program to Shuffle a deck of card with OOPS"
   ]
  },
  {
   "cell_type": "code",
   "execution_count": 1,
   "metadata": {},
   "outputs": [],
   "source": [
    "class Card:\n",
    "    \n",
    "    def __init__(self, suit: str, value: str):\n",
    "        self.suit = suit\n",
    "        self.value = value\n",
    "    \n",
    "    def __str__(self):\n",
    "        return self.value + ' of ' + self.suit"
   ]
  },
  {
   "cell_type": "code",
   "execution_count": 2,
   "metadata": {},
   "outputs": [],
   "source": [
    "suits = ['Heart','Diamond','Club','Spade']\n",
    "values = ['A', '2', '3', '4', '5', '6', '7', '8', '9', '10', 'J', 'Q', 'K']"
   ]
  },
  {
   "cell_type": "code",
   "execution_count": 3,
   "metadata": {},
   "outputs": [],
   "source": [
    "from random import shuffle"
   ]
  },
  {
   "cell_type": "code",
   "execution_count": 8,
   "metadata": {},
   "outputs": [],
   "source": [
    "class Deck:\n",
    "    \n",
    "    def __init__(self):\n",
    "        self.deck = []\n",
    "        \n",
    "        for suit in suits:\n",
    "            for value in values:\n",
    "                self.deck.append(Card(suit, value))\n",
    "                \n",
    "    def shuffle_deck(self):\n",
    "        shuffle(self.deck)\n",
    "        return self.deck"
   ]
  },
  {
   "cell_type": "code",
   "execution_count": 10,
   "metadata": {},
   "outputs": [
    {
     "name": "stdout",
     "output_type": "stream",
     "text": [
      "5 of Spade\n",
      "A of Club\n",
      "2 of Club\n",
      "Q of Diamond\n",
      "10 of Diamond\n",
      "K of Heart\n",
      "6 of Spade\n",
      "J of Club\n",
      "9 of Heart\n",
      "5 of Club\n",
      "7 of Spade\n",
      "A of Heart\n",
      "5 of Diamond\n",
      "3 of Diamond\n",
      "6 of Heart\n",
      "A of Diamond\n",
      "8 of Spade\n",
      "10 of Club\n",
      "5 of Heart\n",
      "10 of Heart\n",
      "J of Diamond\n",
      "6 of Diamond\n",
      "4 of Diamond\n",
      "3 of Heart\n",
      "9 of Club\n",
      "10 of Spade\n",
      "2 of Diamond\n",
      "9 of Spade\n",
      "2 of Heart\n",
      "K of Club\n",
      "3 of Spade\n",
      "3 of Club\n",
      "J of Heart\n",
      "7 of Club\n",
      "A of Spade\n",
      "7 of Diamond\n",
      "8 of Club\n",
      "K of Spade\n",
      "Q of Spade\n",
      "7 of Heart\n",
      "Q of Heart\n",
      "2 of Spade\n",
      "6 of Club\n",
      "Q of Club\n",
      "9 of Diamond\n",
      "8 of Diamond\n",
      "J of Spade\n",
      "8 of Heart\n",
      "K of Diamond\n",
      "4 of Heart\n",
      "4 of Club\n",
      "4 of Spade\n"
     ]
    }
   ],
   "source": [
    "for card in Deck().shuffle_deck():\n",
    "    print(card)"
   ]
  }
 ],
 "metadata": {
  "kernelspec": {
   "display_name": "Python 3",
   "language": "python",
   "name": "python3"
  },
  "language_info": {
   "codemirror_mode": {
    "name": "ipython",
    "version": 3
   },
   "file_extension": ".py",
   "mimetype": "text/x-python",
   "name": "python",
   "nbconvert_exporter": "python",
   "pygments_lexer": "ipython3",
   "version": "3.13.1"
  }
 },
 "nbformat": 4,
 "nbformat_minor": 2
}
