{
 "cells": [
  {
   "cell_type": "markdown",
   "metadata": {},
   "source": [
    "# Flashcard"
   ]
  },
  {
   "cell_type": "markdown",
   "metadata": {},
   "source": [
    "### Program to build flashcard using class"
   ]
  },
  {
   "cell_type": "code",
   "execution_count": 1,
   "metadata": {},
   "outputs": [],
   "source": [
    "class Flashcard:\n",
    "    \n",
    "    def __init__(self, word: str, meaning: str):\n",
    "          self.word = word\n",
    "          self.meaning = meaning\n",
    "          \n",
    "    def __str__(self):\n",
    "        return self.word + ' -> ' + self.meaning"
   ]
  },
  {
   "cell_type": "code",
   "execution_count": 2,
   "metadata": {},
   "outputs": [],
   "source": [
    "def print_flash(flash: list[Flashcard]):\n",
    "    for i in flash:\n",
    "        print(i)"
   ]
  },
  {
   "cell_type": "code",
   "execution_count": 3,
   "metadata": {},
   "outputs": [
    {
     "name": "stdout",
     "output_type": "stream",
     "text": [
      "DSA -> Data Structures and Algorithms\n",
      "OOP -> Object Oriented Programming\n",
      "GFG -> Geeks for Geeks\n"
     ]
    }
   ],
   "source": [
    "print_flash([Flashcard('DSA', 'Data Structures and Algorithms'),\n",
    "            Flashcard('OOP', 'Object Oriented Programming'),\n",
    "            Flashcard('GFG', 'Geeks for Geeks')])"
   ]
  },
  {
   "cell_type": "code",
   "execution_count": 4,
   "metadata": {},
   "outputs": [],
   "source": [
    "import random"
   ]
  },
  {
   "cell_type": "code",
   "execution_count": 5,
   "metadata": {},
   "outputs": [],
   "source": [
    "class Flashcard:\n",
    "    \n",
    "    def __init__(self):\n",
    "        self.fruits = {'apple':'red',\n",
    "                'orange':'orange',\n",
    "                'watermelon':'green',\n",
    "                'banana':'yellow'}\n",
    "    \n",
    "    def quiz(self, user_color: str):\n",
    "        (fruit, color) = random.choice(list(self.fruits.items()))\n",
    "        \n",
    "        if user_color.lower() == color:\n",
    "            print(\"Correct Answer\")\n",
    "        else:\n",
    "            print(\"Wrong Answer\")"
   ]
  },
  {
   "cell_type": "code",
   "execution_count": 6,
   "metadata": {},
   "outputs": [
    {
     "name": "stdout",
     "output_type": "stream",
     "text": [
      "Correct Answer\n"
     ]
    }
   ],
   "source": [
    "Flashcard().quiz('green')"
   ]
  }
 ],
 "metadata": {
  "kernelspec": {
   "display_name": "Python 3",
   "language": "python",
   "name": "python3"
  },
  "language_info": {
   "codemirror_mode": {
    "name": "ipython",
    "version": 3
   },
   "file_extension": ".py",
   "mimetype": "text/x-python",
   "name": "python",
   "nbconvert_exporter": "python",
   "pygments_lexer": "ipython3",
   "version": "3.13.1"
  }
 },
 "nbformat": 4,
 "nbformat_minor": 2
}
