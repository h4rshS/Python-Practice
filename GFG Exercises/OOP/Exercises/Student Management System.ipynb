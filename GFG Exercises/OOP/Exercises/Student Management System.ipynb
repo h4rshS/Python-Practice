{
 "cells": [
  {
   "cell_type": "markdown",
   "metadata": {},
   "source": [
    "# Student Management System"
   ]
  },
  {
   "cell_type": "markdown",
   "metadata": {},
   "source": [
    "### Write a program to build a simple Student Management System which can perform the following operations:\n",
    "\n",
    "Accept <br>\n",
    "Display <br>\n",
    "Search <br>\n",
    "Delete <br>\n",
    "Update"
   ]
  },
  {
   "cell_type": "code",
   "execution_count": 4,
   "metadata": {},
   "outputs": [],
   "source": [
    "class Student:\n",
    "    \n",
    "    def __init__(self, name: str, rollno: int, marks1: int, marks2: int):\n",
    "        self.name = name\n",
    "        self.rollno = rollno\n",
    "        self.marks1 = marks1\n",
    "        self.marks2 = marks2"
   ]
  },
  {
   "cell_type": "code",
   "execution_count": 5,
   "metadata": {},
   "outputs": [],
   "source": [
    "class StudentManagementSystem:\n",
    "    \n",
    "    def __init__(self):\n",
    "        self.students= {}\n",
    "        \n",
    "    def accept(self, name: str, rollno: int, marks1: int, marks2: int):\n",
    "        self.students[rollno] = Student(name, rollno, marks1, marks2)\n",
    "        print(\"Student Accepted\")\n",
    "        \n",
    "    def display(self, rollno: int):\n",
    "        if rollno in self.students:\n",
    "            print('name', self.students[rollno].name)\n",
    "            print('rollno', self.students[rollno].rollno)\n",
    "            print('marks1', self.students[rollno].marks1)\n",
    "            print('marks2', self.students[rollno].marks2)\n",
    "        else:\n",
    "            print('No Student Found')\n",
    "            \n",
    "    def search(self, rollno: int):\n",
    "        if rollno in self.students:\n",
    "            print(\"Student Found\")\n",
    "        else:\n",
    "            print(\"No Student Found\")\n",
    "            \n",
    "    def delete(self, rollno: int):\n",
    "        if rollno in self.students:\n",
    "            del self.students[rollno]\n",
    "            print(\"Student Deleted\")\n",
    "        else:\n",
    "            print(\"No Student Found\")\n",
    "            \n",
    "    def update(self, name: str, rollno: int, marks1: int, marks2: int):\n",
    "        if rollno in self.students:\n",
    "            self.students[rollno] = Student(name, rollno, marks1, marks2)\n",
    "            print(\"Student Updated\")\n",
    "        else:\n",
    "            print(\"No Student Found\")\n",
    "        "
   ]
  },
  {
   "cell_type": "code",
   "execution_count": 6,
   "metadata": {},
   "outputs": [],
   "source": [
    "sms = StudentManagementSystem()"
   ]
  },
  {
   "cell_type": "code",
   "execution_count": 7,
   "metadata": {},
   "outputs": [
    {
     "name": "stdout",
     "output_type": "stream",
     "text": [
      "Student Accepted\n",
      "Student Accepted\n",
      "Student Accepted\n"
     ]
    }
   ],
   "source": [
    "sms.accept(\"A\", 1, 100, 100)\n",
    "sms.accept(\"B\", 2, 90, 90)\n",
    "sms.accept(\"C\", 3, 80, 80)"
   ]
  },
  {
   "cell_type": "code",
   "execution_count": 8,
   "metadata": {},
   "outputs": [
    {
     "name": "stdout",
     "output_type": "stream",
     "text": [
      "name B\n",
      "rollno 2\n",
      "marks1 90\n",
      "marks2 90\n"
     ]
    }
   ],
   "source": [
    "sms.display(2)"
   ]
  },
  {
   "cell_type": "code",
   "execution_count": 9,
   "metadata": {},
   "outputs": [
    {
     "name": "stdout",
     "output_type": "stream",
     "text": [
      "No Student Found\n"
     ]
    }
   ],
   "source": [
    "sms.search(5)"
   ]
  },
  {
   "cell_type": "code",
   "execution_count": 10,
   "metadata": {},
   "outputs": [
    {
     "name": "stdout",
     "output_type": "stream",
     "text": [
      "Student Deleted\n"
     ]
    }
   ],
   "source": [
    "sms.delete(1)"
   ]
  },
  {
   "cell_type": "code",
   "execution_count": 12,
   "metadata": {},
   "outputs": [
    {
     "name": "stdout",
     "output_type": "stream",
     "text": [
      "Student Updated\n"
     ]
    }
   ],
   "source": [
    "sms.update(\"D\", 3, 95, 85)"
   ]
  },
  {
   "cell_type": "code",
   "execution_count": 13,
   "metadata": {},
   "outputs": [
    {
     "name": "stdout",
     "output_type": "stream",
     "text": [
      "name D\n",
      "rollno 3\n",
      "marks1 95\n",
      "marks2 85\n"
     ]
    }
   ],
   "source": [
    "sms.display(3)"
   ]
  }
 ],
 "metadata": {
  "kernelspec": {
   "display_name": "Python 3",
   "language": "python",
   "name": "python3"
  },
  "language_info": {
   "codemirror_mode": {
    "name": "ipython",
    "version": 3
   },
   "file_extension": ".py",
   "mimetype": "text/x-python",
   "name": "python",
   "nbconvert_exporter": "python",
   "pygments_lexer": "ipython3",
   "version": "3.13.1"
  }
 },
 "nbformat": 4,
 "nbformat_minor": 2
}
