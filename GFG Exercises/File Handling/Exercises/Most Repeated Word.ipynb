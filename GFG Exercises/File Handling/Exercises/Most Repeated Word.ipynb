{
 "cells": [
  {
   "cell_type": "markdown",
   "metadata": {},
   "source": [
    "# Most Repeated Word"
   ]
  },
  {
   "cell_type": "markdown",
   "metadata": {},
   "source": [
    "### Program to Find the most repeated word in a text file"
   ]
  },
  {
   "cell_type": "code",
   "execution_count": 1,
   "metadata": {},
   "outputs": [],
   "source": [
    "def repeated_word(file_name: str):\n",
    "    words = []\n",
    "    max_frequency = 0\n",
    "    frequent_word = \"\"\n",
    "    \n",
    "    with open(file_name,'r') as f:\n",
    "        for line in f:\n",
    "            word_list = line.lower().replace(',','').replace('.','').split(\" \")\n",
    "            \n",
    "            words.extend(word_list)\n",
    "            \n",
    "    for i in range(len(words)):\n",
    "        count = 1\n",
    "        \n",
    "        for j in range(i + 1, len(words)):\n",
    "            if words[i] == words[j]:\n",
    "                count += 1\n",
    "                \n",
    "        if count > max_frequency:\n",
    "            max_frequency = count\n",
    "            frequent_word = words[i]\n",
    "            \n",
    "    return frequent_word "
   ]
  },
  {
   "cell_type": "code",
   "execution_count": 2,
   "metadata": {},
   "outputs": [
    {
     "data": {
      "text/plain": [
       "'file\\n'"
      ]
     },
     "execution_count": 2,
     "metadata": {},
     "output_type": "execute_result"
    }
   ],
   "source": [
    "repeated_word('Input.txt')"
   ]
  },
  {
   "cell_type": "code",
   "execution_count": 5,
   "metadata": {},
   "outputs": [],
   "source": [
    "from collections import Counter"
   ]
  },
  {
   "cell_type": "code",
   "execution_count": 10,
   "metadata": {},
   "outputs": [],
   "source": [
    "def repeated_word(file_name: str):\n",
    "    words = []\n",
    "    max_frequncy = 0\n",
    "    frequent_word = \"\"\n",
    "    \n",
    "    with open(file_name,'r') as f:\n",
    "        for line in f:\n",
    "            word_list = line.lower().replace(',','').replace('.','').split(\" \")\n",
    "            \n",
    "            words.extend(word_list)\n",
    "            \n",
    "    for (word, cnt) in dict(Counter(words)).items():\n",
    "        if cnt > max_frequncy:\n",
    "            max_frequncy = cnt\n",
    "            frequent_word = word\n",
    "            \n",
    "    return frequent_word"
   ]
  },
  {
   "cell_type": "code",
   "execution_count": 11,
   "metadata": {},
   "outputs": [
    {
     "data": {
      "text/plain": [
       "'file\\n'"
      ]
     },
     "execution_count": 11,
     "metadata": {},
     "output_type": "execute_result"
    }
   ],
   "source": [
    "repeated_word('Input.txt')"
   ]
  }
 ],
 "metadata": {
  "kernelspec": {
   "display_name": "Python 3",
   "language": "python",
   "name": "python3"
  },
  "language_info": {
   "codemirror_mode": {
    "name": "ipython",
    "version": 3
   },
   "file_extension": ".py",
   "mimetype": "text/x-python",
   "name": "python",
   "nbconvert_exporter": "python",
   "pygments_lexer": "ipython3",
   "version": "3.13.1"
  }
 },
 "nbformat": 4,
 "nbformat_minor": 2
}
