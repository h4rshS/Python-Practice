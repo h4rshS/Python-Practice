{
 "cells": [
  {
   "cell_type": "markdown",
   "metadata": {},
   "source": [
    "# Read Specific Lines"
   ]
  },
  {
   "cell_type": "markdown",
   "metadata": {},
   "source": [
    "### Program to read specific lines from a File"
   ]
  },
  {
   "cell_type": "code",
   "execution_count": 3,
   "metadata": {},
   "outputs": [],
   "source": [
    "def read_lines(file_name: str):\n",
    "    read = open(file_name,'r')\n",
    "    \n",
    "    lines = read.readlines()\n",
    "    \n",
    "    read.close()\n",
    "    \n",
    "    return lines"
   ]
  },
  {
   "cell_type": "code",
   "execution_count": 4,
   "metadata": {},
   "outputs": [
    {
     "data": {
      "text/plain": [
       "['This is line 1.\\n',\n",
       " 'This is line 2.\\n',\n",
       " 'This is line 3.\\n',\n",
       " 'This is line 4.\\n',\n",
       " 'This is line 5.\\n',\n",
       " 'This is line 6.\\n',\n",
       " 'This is line 7.\\n',\n",
       " 'This is line 8.\\n',\n",
       " 'This is line 9.\\n',\n",
       " 'This is line 10.\\n',\n",
       " 'This is line 11.\\n',\n",
       " 'This is line 12.\\n',\n",
       " 'This is line 13.\\n',\n",
       " 'This is line 14.\\n',\n",
       " 'This is line 15.']"
      ]
     },
     "execution_count": 4,
     "metadata": {},
     "output_type": "execute_result"
    }
   ],
   "source": [
    "read_lines('Read.txt')"
   ]
  },
  {
   "cell_type": "code",
   "execution_count": 5,
   "metadata": {},
   "outputs": [],
   "source": [
    "import linecache"
   ]
  },
  {
   "cell_type": "code",
   "execution_count": 6,
   "metadata": {},
   "outputs": [],
   "source": [
    "def read_lines(file_name: str):\n",
    "    return linecache.getline(file_name, 5)"
   ]
  },
  {
   "cell_type": "code",
   "execution_count": 7,
   "metadata": {},
   "outputs": [
    {
     "data": {
      "text/plain": [
       "'This is line 5.\\n'"
      ]
     },
     "execution_count": 7,
     "metadata": {},
     "output_type": "execute_result"
    }
   ],
   "source": [
    "read_lines('Read.txt')"
   ]
  },
  {
   "cell_type": "code",
   "execution_count": 10,
   "metadata": {},
   "outputs": [],
   "source": [
    "def read_lines(file_name: str, lines: list):\n",
    "    read = open(file_name,'r')\n",
    "    \n",
    "    for (idx, line) in enumerate(read):\n",
    "        if idx + 1 in lines:\n",
    "            print(line)"
   ]
  },
  {
   "cell_type": "code",
   "execution_count": 11,
   "metadata": {},
   "outputs": [
    {
     "name": "stdout",
     "output_type": "stream",
     "text": [
      "This is line 4.\n",
      "\n",
      "This is line 8.\n",
      "\n",
      "This is line 15.\n"
     ]
    }
   ],
   "source": [
    "read_lines('Read.txt', [4, 8, 15, 21])"
   ]
  }
 ],
 "metadata": {
  "kernelspec": {
   "display_name": "Python 3",
   "language": "python",
   "name": "python3"
  },
  "language_info": {
   "codemirror_mode": {
    "name": "ipython",
    "version": 3
   },
   "file_extension": ".py",
   "mimetype": "text/x-python",
   "name": "python",
   "nbconvert_exporter": "python",
   "pygments_lexer": "ipython3",
   "version": "3.13.1"
  }
 },
 "nbformat": 4,
 "nbformat_minor": 2
}
