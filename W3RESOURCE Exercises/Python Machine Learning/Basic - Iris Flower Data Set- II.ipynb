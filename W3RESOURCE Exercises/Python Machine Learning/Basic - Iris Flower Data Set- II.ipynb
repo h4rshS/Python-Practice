{
 "cells": [
  {
   "cell_type": "markdown",
   "metadata": {},
   "source": [
    "## Write a Python program to access first four cells from a given Dataframe using the index and column labels. Call iris.csv to create the Dataframe."
   ]
  },
  {
   "cell_type": "code",
   "execution_count": 1,
   "metadata": {},
   "outputs": [],
   "source": [
    "import pandas as pd"
   ]
  },
  {
   "cell_type": "code",
   "execution_count": null,
   "metadata": {},
   "outputs": [],
   "source": [
    "def access_cells():\n",
    "    df = pd.read_csv(\"iris.csv\")\n",
    "    \n",
    "    # return df.head(4)\n",
    "    \n",
    "    df = df.drop('Id', axis=1)\n",
    "    \n",
    "    # return df.head(4)\n",
    "    \n",
    "    return df.iloc[:, [1, 2, 3, 4]].values"
   ]
  }
 ],
 "metadata": {
  "kernelspec": {
   "display_name": "Python 3",
   "language": "python",
   "name": "python3"
  },
  "language_info": {
   "codemirror_mode": {
    "name": "ipython",
    "version": 3
   },
   "file_extension": ".py",
   "mimetype": "text/x-python",
   "name": "python",
   "nbconvert_exporter": "python",
   "pygments_lexer": "ipython3",
   "version": "3.13.1"
  }
 },
 "nbformat": 4,
 "nbformat_minor": 2
}
