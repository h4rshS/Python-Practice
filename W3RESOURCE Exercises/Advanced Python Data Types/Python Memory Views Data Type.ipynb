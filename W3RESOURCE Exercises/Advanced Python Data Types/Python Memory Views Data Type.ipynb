{
 "cells": [
  {
   "cell_type": "markdown",
   "metadata": {},
   "source": [
    "## Write a Python program that creates a memory view from a list of integers and print the hex values of each element."
   ]
  },
  {
   "cell_type": "code",
   "execution_count": 8,
   "metadata": {},
   "outputs": [],
   "source": [
    "def print_hex(l: list[int]):\n",
    "    memory_view = memoryview(bytearray(l))\n",
    "    \n",
    "    for item in memory_view:\n",
    "        print(hex(item))"
   ]
  },
  {
   "cell_type": "code",
   "execution_count": 9,
   "metadata": {},
   "outputs": [
    {
     "name": "stdout",
     "output_type": "stream",
     "text": [
      "0x8\n",
      "0x10\n",
      "0x2a\n",
      "0x5c\n",
      "0x80\n"
     ]
    }
   ],
   "source": [
    "print_hex([8, 16, 42, 92, 128])"
   ]
  },
  {
   "cell_type": "code",
   "execution_count": 11,
   "metadata": {},
   "outputs": [
    {
     "name": "stdout",
     "output_type": "stream",
     "text": [
      "0xe7\n",
      "0x35\n",
      "0x88\n",
      "0xf2\n",
      "0x34\n",
      "0x49\n",
      "0x17\n",
      "0x5f\n"
     ]
    }
   ],
   "source": [
    "print_hex([231, 53, 136, 242, 52, 73, 23, 95])"
   ]
  }
 ],
 "metadata": {
  "kernelspec": {
   "display_name": "Python 3",
   "language": "python",
   "name": "python3"
  },
  "language_info": {
   "codemirror_mode": {
    "name": "ipython",
    "version": 3
   },
   "file_extension": ".py",
   "mimetype": "text/x-python",
   "name": "python",
   "nbconvert_exporter": "python",
   "pygments_lexer": "ipython3",
   "version": "3.13.1"
  }
 },
 "nbformat": 4,
 "nbformat_minor": 2
}
