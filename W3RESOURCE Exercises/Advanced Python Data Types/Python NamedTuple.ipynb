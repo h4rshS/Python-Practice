{
 "cells": [
  {
   "cell_type": "markdown",
   "metadata": {},
   "source": [
    "## Write a Python program that defines a NamedTuple named \"Car\" with fields 'make', 'model', 'year', and 'engine' (a NamedTuple representing engine details). Create an instance of the \"Car\" NamedTuple and print its attributes."
   ]
  },
  {
   "cell_type": "code",
   "execution_count": 1,
   "metadata": {},
   "outputs": [],
   "source": [
    "from collections import namedtuple"
   ]
  },
  {
   "cell_type": "code",
   "execution_count": 2,
   "metadata": {},
   "outputs": [],
   "source": [
    "def named_tuples():\n",
    "    Car = namedtuple('Car', ['make','model','year','engine'])\n",
    "    Engine = namedtuple('Engine', ['type','cylinders'])\n",
    "    \n",
    "    engine = Engine(type='four-stroke', cylinders=4)\n",
    "    car = Car(make='Honda', model='City', year=2024, engine=engine)\n",
    "    \n",
    "    return car.make, car.model, car.year, car.engine.type, car.engine.cylinders"
   ]
  },
  {
   "cell_type": "code",
   "execution_count": 3,
   "metadata": {},
   "outputs": [
    {
     "data": {
      "text/plain": [
       "('Honda', 'City', 2024, 'four-stroke', 4)"
      ]
     },
     "execution_count": 3,
     "metadata": {},
     "output_type": "execute_result"
    }
   ],
   "source": [
    "named_tuples()"
   ]
  }
 ],
 "metadata": {
  "kernelspec": {
   "display_name": "Python 3",
   "language": "python",
   "name": "python3"
  },
  "language_info": {
   "codemirror_mode": {
    "name": "ipython",
    "version": 3
   },
   "file_extension": ".py",
   "mimetype": "text/x-python",
   "name": "python",
   "nbconvert_exporter": "python",
   "pygments_lexer": "ipython3",
   "version": "3.13.1"
  }
 },
 "nbformat": 4,
 "nbformat_minor": 2
}
