{
 "cells": [
  {
   "cell_type": "markdown",
   "metadata": {},
   "source": [
    "## Write a Python program that makes a request to a server that sends a compressed response. Manually decompresses the content using the urllib3 function."
   ]
  },
  {
   "cell_type": "code",
   "execution_count": 1,
   "metadata": {},
   "outputs": [],
   "source": [
    "import urllib3\n",
    "import gzip\n",
    "from io import BytesIO"
   ]
  },
  {
   "cell_type": "code",
   "execution_count": 6,
   "metadata": {},
   "outputs": [],
   "source": [
    "def decompress_response(url: str):\n",
    "    http = urllib3.PoolManager()\n",
    "    \n",
    "    try:\n",
    "        response = http.request('GET', url)\n",
    "        \n",
    "        if 'gzip' in response.headers.get('content-encoding',''):\n",
    "            compressed_data = BytesIO(response.data)\n",
    "            decompressed_data = gzip.GzipFile(fileobj=compressed_data).read()\n",
    "            \n",
    "            return decompressed_data.decode('utf-8')\n",
    "    except:\n",
    "        print(\"Error\")"
   ]
  },
  {
   "cell_type": "code",
   "execution_count": 7,
   "metadata": {},
   "outputs": [],
   "source": [
    "decompress_response('https://example.com/compressed-data')"
   ]
  }
 ],
 "metadata": {
  "kernelspec": {
   "display_name": "Python 3",
   "language": "python",
   "name": "python3"
  },
  "language_info": {
   "codemirror_mode": {
    "name": "ipython",
    "version": 3
   },
   "file_extension": ".py",
   "mimetype": "text/x-python",
   "name": "python",
   "nbconvert_exporter": "python",
   "pygments_lexer": "ipython3",
   "version": "3.13.1"
  }
 },
 "nbformat": 4,
 "nbformat_minor": 2
}
