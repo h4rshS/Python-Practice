{
 "cells": [
  {
   "cell_type": "markdown",
   "metadata": {},
   "source": [
    "## Write a Python function \"generate_complex_function\" that takes a function name, a list of parameter names, and a body as strings, and returns a dynamically generated function."
   ]
  },
  {
   "cell_type": "code",
   "execution_count": 10,
   "metadata": {},
   "outputs": [],
   "source": [
    "def generate_complex_function(name: str, params: list, body: str):\n",
    "    params_str = ', '.join(params)\n",
    "    indented_body = body.replace('\\n', '\\n    ')\n",
    "    \n",
    "    func = f\"def {name}({params_str}): \\n    {indented_body}\"\n",
    "    \n",
    "    exec(func)\n",
    "    \n",
    "    return locals()['name']"
   ]
  },
  {
   "cell_type": "code",
   "execution_count": 2,
   "metadata": {},
   "outputs": [],
   "source": [
    "name = 'complex_function'\n",
    "params = ['x','y']\n",
    "body = \"\"\"\n",
    "if x > y:\n",
    "    return x - y\n",
    "else:\n",
    "    return y - x\n",
    "\"\"\""
   ]
  },
  {
   "cell_type": "code",
   "execution_count": 11,
   "metadata": {},
   "outputs": [
    {
     "data": {
      "text/plain": [
       "'complex_function'"
      ]
     },
     "execution_count": 11,
     "metadata": {},
     "output_type": "execute_result"
    }
   ],
   "source": [
    "generate_complex_function(name, params, body)"
   ]
  }
 ],
 "metadata": {
  "kernelspec": {
   "display_name": "Python 3",
   "language": "python",
   "name": "python3"
  },
  "language_info": {
   "codemirror_mode": {
    "name": "ipython",
    "version": 3
   },
   "file_extension": ".py",
   "mimetype": "text/x-python",
   "name": "python",
   "nbconvert_exporter": "python",
   "pygments_lexer": "ipython3",
   "version": "3.13.1"
  }
 },
 "nbformat": 4,
 "nbformat_minor": 2
}
