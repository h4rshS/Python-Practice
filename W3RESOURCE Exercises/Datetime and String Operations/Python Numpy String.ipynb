{
 "cells": [
  {
   "cell_type": "markdown",
   "metadata": {},
   "source": [
    "## Write a NumPy program to split a given text into lines and split the single line into array values."
   ]
  },
  {
   "cell_type": "code",
   "execution_count": 1,
   "metadata": {},
   "outputs": [],
   "source": [
    "import numpy as np"
   ]
  },
  {
   "cell_type": "code",
   "execution_count": 9,
   "metadata": {},
   "outputs": [],
   "source": [
    "def split_lines_values():\n",
    "    student = \"\"\"01\tV\tDebby Pramod\n",
    "02\tV\tArtemiy Ellie\n",
    "03\tV\tBaptist Kamal\n",
    "04\tV\tLavanya Davide\n",
    "05\tV\tFulton Antwan\n",
    "06\tV\tEuanthe Sandeep\n",
    "07\tV\tEndzela Sanda\n",
    "08\tV\tVictoire Waman\n",
    "09\tV\tBriar Nur\n",
    "10\tV\tRose Lykos\"\"\"\n",
    "\n",
    "    lines = student.splitlines()\n",
    "    lines = [line.split('\\t') for line in lines]\n",
    "    \n",
    "    return np.array(lines)"
   ]
  },
  {
   "cell_type": "code",
   "execution_count": 10,
   "metadata": {},
   "outputs": [
    {
     "data": {
      "text/plain": [
       "array([['01', 'V', 'Debby Pramod'],\n",
       "       ['02', 'V', 'Artemiy Ellie'],\n",
       "       ['03', 'V', 'Baptist Kamal'],\n",
       "       ['04', 'V', 'Lavanya Davide'],\n",
       "       ['05', 'V', 'Fulton Antwan'],\n",
       "       ['06', 'V', 'Euanthe Sandeep'],\n",
       "       ['07', 'V', 'Endzela Sanda'],\n",
       "       ['08', 'V', 'Victoire Waman'],\n",
       "       ['09', 'V', 'Briar Nur'],\n",
       "       ['10', 'V', 'Rose Lykos']], dtype='<U15')"
      ]
     },
     "execution_count": 10,
     "metadata": {},
     "output_type": "execute_result"
    }
   ],
   "source": [
    "split_lines_values()"
   ]
  }
 ],
 "metadata": {
  "kernelspec": {
   "display_name": "Python 3",
   "language": "python",
   "name": "python3"
  },
  "language_info": {
   "codemirror_mode": {
    "name": "ipython",
    "version": 3
   },
   "file_extension": ".py",
   "mimetype": "text/x-python",
   "name": "python",
   "nbconvert_exporter": "python",
   "pygments_lexer": "ipython3",
   "version": "3.13.1"
  }
 },
 "nbformat": 4,
 "nbformat_minor": 2
}
