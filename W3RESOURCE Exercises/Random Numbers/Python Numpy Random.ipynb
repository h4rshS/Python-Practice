{
 "cells": [
  {
   "cell_type": "markdown",
   "metadata": {},
   "source": [
    "## Write a NumPy program to create a three-dimension array with shape (300,400,5) and set to a variable. Fill the array elements with values using unsigned integer (0 to 255)."
   ]
  },
  {
   "cell_type": "code",
   "execution_count": 1,
   "metadata": {},
   "outputs": [],
   "source": [
    "import numpy as np"
   ]
  },
  {
   "cell_type": "code",
   "execution_count": 2,
   "metadata": {},
   "outputs": [],
   "source": [
    "def fill_3d_array():\n",
    "    return np.random.randint(low=0, high=256, size=(300, 400, 5), dtype=np.uint8)"
   ]
  },
  {
   "cell_type": "code",
   "execution_count": 5,
   "metadata": {},
   "outputs": [
    {
     "data": {
      "text/plain": [
       "array([[[151, 172, 205, 153,  56],\n",
       "        [209, 117, 152,   4, 151],\n",
       "        [182, 166, 179,  77,  77],\n",
       "        ...,\n",
       "        [156, 149, 159, 157, 165],\n",
       "        [200, 232, 188, 143, 224],\n",
       "        [  1, 183, 222, 153,   7]],\n",
       "\n",
       "       [[  8, 237, 218, 123,  77],\n",
       "        [158, 128, 247,  79, 182],\n",
       "        [135, 177, 206,  83,  63],\n",
       "        ...,\n",
       "        [ 52, 206, 211, 186,  96],\n",
       "        [203,  68,  20,   6, 114],\n",
       "        [ 44, 173, 114, 240,  89]],\n",
       "\n",
       "       [[107, 208, 111,  25, 116],\n",
       "        [213,  88,  28,  82,  20],\n",
       "        [ 15, 144, 131,  41,  34],\n",
       "        ...,\n",
       "        [204,  79, 112,  39, 163],\n",
       "        [ 82, 204, 210, 127,  21],\n",
       "        [172, 237, 170,  46, 140]],\n",
       "\n",
       "       ...,\n",
       "\n",
       "       [[ 88, 209,  59, 252, 230],\n",
       "        [166,   1,  64, 210, 111],\n",
       "        [  9,  27, 148, 188, 204],\n",
       "        ...,\n",
       "        [ 98,  63, 228,  80, 188],\n",
       "        [ 31, 219,  38,  97,  46],\n",
       "        [ 17, 120,   6,  53,  85]],\n",
       "\n",
       "       [[ 86,  88, 187, 254,  83],\n",
       "        [200, 250, 125, 170, 137],\n",
       "        [ 28,  67,  47,  10,  84],\n",
       "        ...,\n",
       "        [163,  77,  46, 161,  56],\n",
       "        [207, 231,  60,  19,  78],\n",
       "        [142,  25, 173, 167, 145]],\n",
       "\n",
       "       [[ 39, 150, 229, 223, 217],\n",
       "        [228, 135,  91, 205,  22],\n",
       "        [ 29, 196,   1, 179, 181],\n",
       "        ...,\n",
       "        [203, 191, 138, 198, 187],\n",
       "        [137, 184, 167,  38, 229],\n",
       "        [118, 219, 117, 250, 186]]], shape=(300, 400, 5), dtype=uint8)"
      ]
     },
     "execution_count": 5,
     "metadata": {},
     "output_type": "execute_result"
    }
   ],
   "source": [
    "fill_3d_array()"
   ]
  }
 ],
 "metadata": {
  "kernelspec": {
   "display_name": "Python 3",
   "language": "python",
   "name": "python3"
  },
  "language_info": {
   "codemirror_mode": {
    "name": "ipython",
    "version": 3
   },
   "file_extension": ".py",
   "mimetype": "text/x-python",
   "name": "python",
   "nbconvert_exporter": "python",
   "pygments_lexer": "ipython3",
   "version": "3.13.1"
  }
 },
 "nbformat": 4,
 "nbformat_minor": 2
}
