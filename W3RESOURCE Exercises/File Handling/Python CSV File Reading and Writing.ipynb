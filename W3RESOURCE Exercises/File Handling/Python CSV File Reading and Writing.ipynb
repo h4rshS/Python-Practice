{
 "cells": [
  {
   "cell_type": "markdown",
   "metadata": {},
   "source": [
    "## Write a Python program to write a Python dictionary to a csv file. After writing the CSV file read the CSV file and display the content."
   ]
  },
  {
   "cell_type": "code",
   "execution_count": 2,
   "metadata": {},
   "outputs": [],
   "source": [
    "import csv"
   ]
  },
  {
   "cell_type": "code",
   "execution_count": 14,
   "metadata": {},
   "outputs": [],
   "source": [
    "def write_dict(d: dict):\n",
    "    with open(\"Dict.csv\",\"w\", encoding=\"utf-8\") as csvfile:\n",
    "        writer = csv.DictWriter(csvfile, fieldnames=list(d.keys()))\n",
    "        writer.writeheader()\n",
    "        \n",
    "        rows = len(list(d.values())[0])\n",
    "        \n",
    "        for i in range(rows):\n",
    "            row = {}\n",
    "            for key in d:\n",
    "                row[key] = d[key][i]\n",
    "                \n",
    "            writer.writerow(row)"
   ]
  },
  {
   "cell_type": "code",
   "execution_count": 15,
   "metadata": {},
   "outputs": [],
   "source": [
    "write_dict({'id': ['1','2','3'],\n",
    "    'Column1': [33, 25, 56],\n",
    "    'Column2': [35, 30, 30],\n",
    "    'Column3': [21, 40, 55],\n",
    "    'Column4': [71, 25, 55],\n",
    "    'Column5': [10, 10, 40]})"
   ]
  },
  {
   "cell_type": "code",
   "execution_count": 16,
   "metadata": {},
   "outputs": [],
   "source": [
    "def read_dict():\n",
    "    with open(\"Dict.csv\",\"r\", encoding=\"utf-8\") as csvfile:\n",
    "        reader = csv.DictReader(csvfile)\n",
    "        \n",
    "        for row in reader:\n",
    "            print(row)"
   ]
  },
  {
   "cell_type": "code",
   "execution_count": 17,
   "metadata": {},
   "outputs": [
    {
     "name": "stdout",
     "output_type": "stream",
     "text": [
      "{'id': '1', 'Column1': '33', 'Column2': '35', 'Column3': '21', 'Column4': '71', 'Column5': '10'}\n",
      "{'id': '2', 'Column1': '25', 'Column2': '30', 'Column3': '40', 'Column4': '25', 'Column5': '10'}\n",
      "{'id': '3', 'Column1': '56', 'Column2': '30', 'Column3': '55', 'Column4': '55', 'Column5': '40'}\n"
     ]
    }
   ],
   "source": [
    "read_dict()"
   ]
  }
 ],
 "metadata": {
  "kernelspec": {
   "display_name": "Python 3",
   "language": "python",
   "name": "python3"
  },
  "language_info": {
   "codemirror_mode": {
    "name": "ipython",
    "version": 3
   },
   "file_extension": ".py",
   "mimetype": "text/x-python",
   "name": "python",
   "nbconvert_exporter": "python",
   "pygments_lexer": "ipython3",
   "version": "3.13.1"
  }
 },
 "nbformat": 4,
 "nbformat_minor": 2
}
