{
 "cells": [
  {
   "cell_type": "markdown",
   "metadata": {},
   "source": [
    "## Write a Python program to create a file where all letters of English alphabet are listed by specified number of letters on each line."
   ]
  },
  {
   "cell_type": "code",
   "execution_count": 7,
   "metadata": {},
   "outputs": [],
   "source": [
    "def list_alphabets(n: int):\n",
    "    with open(\"Alphabets.txt\",'w') as alphabets:\n",
    "        alpha = 65\n",
    "        while alpha < 65 + 26:\n",
    "            line = []\n",
    "            \n",
    "            for j in range(n):\n",
    "                if alpha < 65 + 26:\n",
    "                    line.append(chr(alpha))\n",
    "                    alpha += 1\n",
    "                else:\n",
    "                    break\n",
    "                \n",
    "            alphabets.write(''.join(line) + '\\n')"
   ]
  },
  {
   "cell_type": "code",
   "execution_count": 10,
   "metadata": {},
   "outputs": [],
   "source": [
    "list_alphabets(3)"
   ]
  },
  {
   "cell_type": "code",
   "execution_count": 11,
   "metadata": {},
   "outputs": [],
   "source": [
    "list_alphabets(5)"
   ]
  },
  {
   "cell_type": "code",
   "execution_count": 14,
   "metadata": {},
   "outputs": [],
   "source": [
    "import string"
   ]
  },
  {
   "cell_type": "code",
   "execution_count": 17,
   "metadata": {},
   "outputs": [],
   "source": [
    "def list_alphabets(n: int):\n",
    "    with open(\"Alphabets.txt\",\"w\") as alphabets:\n",
    "        letters = string.ascii_uppercase\n",
    "        lines = [letters[i : i + n] + '\\n' for i in range(0, len(letters), n)]\n",
    "        alphabets.writelines(lines)"
   ]
  },
  {
   "cell_type": "code",
   "execution_count": 18,
   "metadata": {},
   "outputs": [],
   "source": [
    "list_alphabets(2)"
   ]
  },
  {
   "cell_type": "code",
   "execution_count": 19,
   "metadata": {},
   "outputs": [],
   "source": [
    "list_alphabets(7)"
   ]
  }
 ],
 "metadata": {
  "kernelspec": {
   "display_name": "Python 3",
   "language": "python",
   "name": "python3"
  },
  "language_info": {
   "codemirror_mode": {
    "name": "ipython",
    "version": 3
   },
   "file_extension": ".py",
   "mimetype": "text/x-python",
   "name": "python",
   "nbconvert_exporter": "python",
   "pygments_lexer": "ipython3",
   "version": "3.13.1"
  }
 },
 "nbformat": 4,
 "nbformat_minor": 2
}
