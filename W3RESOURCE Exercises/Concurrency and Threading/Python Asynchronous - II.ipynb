{
 "cells": [
  {
   "cell_type": "markdown",
   "metadata": {},
   "source": [
    "## Write a Python program that uses asyncio queues to simulate a producer-consumer scenario with multiple producers and a single consumer."
   ]
  },
  {
   "cell_type": "code",
   "execution_count": 1,
   "metadata": {},
   "outputs": [],
   "source": [
    "import asyncio\n",
    "import random"
   ]
  },
  {
   "cell_type": "code",
   "execution_count": 2,
   "metadata": {},
   "outputs": [],
   "source": [
    "async def producer(queue: asyncio.Queue, id: int):\n",
    "    for i in range(3):\n",
    "        item = f\"Item : {id} - {i}\"\n",
    "        await queue.put(item)\n",
    "        print(f\"Producer {id} produced {item}\")\n",
    "        await asyncio.sleep(random.uniform(0.1, 0.5))\n",
    "        \n",
    "async def consumer(queue: asyncio.Queue):\n",
    "    while True:\n",
    "        item = await queue.get()\n",
    "        \n",
    "        if item is None:\n",
    "            break\n",
    "            \n",
    "        print(f\"Consumer consumed {item}\")\n",
    "        queue.task_done()"
   ]
  },
  {
   "cell_type": "code",
   "execution_count": 3,
   "metadata": {},
   "outputs": [],
   "source": [
    "async def main():\n",
    "    queue = asyncio.Queue()\n",
    "    \n",
    "    producers = [asyncio.create_task(producer(queue, i)) for i in range(3)]\n",
    "    consumer_task = asyncio.create_task(consumer(queue))\n",
    "    \n",
    "    await asyncio.gather(*producers)\n",
    "    await queue.join()\n",
    "    await queue.put(None)\n",
    "    await consumer_task"
   ]
  },
  {
   "cell_type": "code",
   "execution_count": 5,
   "metadata": {},
   "outputs": [
    {
     "data": {
      "text/plain": [
       "<coroutine object main at 0x000002270B9A5CF0>"
      ]
     },
     "execution_count": 5,
     "metadata": {},
     "output_type": "execute_result"
    }
   ],
   "source": [
    "asyncio.run(main())"
   ]
  }
 ],
 "metadata": {
  "kernelspec": {
   "display_name": "Python 3",
   "language": "python",
   "name": "python3"
  },
  "language_info": {
   "codemirror_mode": {
    "name": "ipython",
    "version": 3
   },
   "file_extension": ".py",
   "mimetype": "text/x-python",
   "name": "python",
   "nbconvert_exporter": "python",
   "pygments_lexer": "ipython3",
   "version": "3.13.1"
  }
 },
 "nbformat": 4,
 "nbformat_minor": 2
}
