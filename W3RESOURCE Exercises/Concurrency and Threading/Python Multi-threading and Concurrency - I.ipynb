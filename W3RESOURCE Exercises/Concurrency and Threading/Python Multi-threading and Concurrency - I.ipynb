{
 "cells": [
  {
   "cell_type": "markdown",
   "metadata": {},
   "source": [
    "## Write a Python program to implement a multi-threaded quicksort algorithm."
   ]
  },
  {
   "cell_type": "code",
   "execution_count": 1,
   "metadata": {},
   "outputs": [],
   "source": [
    "import threading"
   ]
  },
  {
   "cell_type": "code",
   "execution_count": 2,
   "metadata": {},
   "outputs": [],
   "source": [
    "def partition(arr: list[int], low: int, high: int):\n",
    "    i, j = low, high\n",
    "    pivot = arr[low]\n",
    "    \n",
    "    while i < j:\n",
    "        while i <= high and arr[i] <= pivot:\n",
    "            i += 1\n",
    "        while j >= low and arr[j] > pivot:\n",
    "            j -= 1\n",
    "        \n",
    "        if i < j:\n",
    "            arr[i], arr[j] = arr[j], arr[i]\n",
    "            \n",
    "    arr[low], arr[j] = arr[j], arr[low]\n",
    "    \n",
    "    return j"
   ]
  },
  {
   "cell_type": "code",
   "execution_count": 3,
   "metadata": {},
   "outputs": [],
   "source": [
    "def quick_sort(arr: list[int], low: int, high: int):\n",
    "    if low >= high:\n",
    "        return\n",
    "    \n",
    "    pivot = partition(arr, low, high)\n",
    "    thread_left = threading.Thread(target=quick_sort, args=(arr, low, pivot - 1))\n",
    "    thread_right = threading.Thread(target=quick_sort, args=(arr, pivot + 1, high))\n",
    "    \n",
    "    thread_left.start()\n",
    "    thread_right.start()\n",
    "    \n",
    "    thread_left.join()\n",
    "    thread_right.join()"
   ]
  },
  {
   "cell_type": "code",
   "execution_count": 4,
   "metadata": {},
   "outputs": [],
   "source": [
    "arr = [4, 5, 8, 3, 0, 5, 3, 9, 4, 3]"
   ]
  },
  {
   "cell_type": "code",
   "execution_count": 5,
   "metadata": {},
   "outputs": [],
   "source": [
    "quick_sort(arr, 0, 9)"
   ]
  },
  {
   "cell_type": "code",
   "execution_count": 6,
   "metadata": {},
   "outputs": [
    {
     "data": {
      "text/plain": [
       "[0, 3, 3, 3, 4, 4, 5, 5, 8, 9]"
      ]
     },
     "execution_count": 6,
     "metadata": {},
     "output_type": "execute_result"
    }
   ],
   "source": [
    "arr"
   ]
  }
 ],
 "metadata": {
  "kernelspec": {
   "display_name": "Python 3",
   "language": "python",
   "name": "python3"
  },
  "language_info": {
   "codemirror_mode": {
    "name": "ipython",
    "version": 3
   },
   "file_extension": ".py",
   "mimetype": "text/x-python",
   "name": "python",
   "nbconvert_exporter": "python",
   "pygments_lexer": "ipython3",
   "version": "3.13.1"
  }
 },
 "nbformat": 4,
 "nbformat_minor": 2
}
