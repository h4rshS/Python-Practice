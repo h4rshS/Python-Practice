{
 "cells": [
  {
   "cell_type": "markdown",
   "metadata": {},
   "source": [
    "##  Create a Python project to perform some simple statistics on a list of values."
   ]
  },
  {
   "cell_type": "code",
   "execution_count": 11,
   "metadata": {},
   "outputs": [],
   "source": [
    "import collections"
   ]
  },
  {
   "cell_type": "code",
   "execution_count": 19,
   "metadata": {},
   "outputs": [],
   "source": [
    "class Stats:\n",
    "    \n",
    "    def sum(self, l: list):\n",
    "        return sum(l)\n",
    "    \n",
    "    def length(self, l: list):\n",
    "        return len(l)\n",
    "    \n",
    "    def count(self, l: list, item: int):\n",
    "        return l.count(item)\n",
    "    \n",
    "    def max(self, l: list):\n",
    "        return max(l)\n",
    "\n",
    "    def min(self, l: list):\n",
    "        return min(l)\n",
    "    \n",
    "    def range(self, l: list):\n",
    "        return self.max(l) - self.min(l)\n",
    "    \n",
    "    def sort(self, l: list):\n",
    "        return sorted(l)\n",
    "    \n",
    "    def average(self, l: list):\n",
    "        return self.sum(l) / self.length(l)\n",
    "    \n",
    "    def mean_deviation(self, l: list):\n",
    "        mean = self.average(l)\n",
    "        mean_dev = 0\n",
    "        \n",
    "        for item in l:\n",
    "            mean_dev += abs(mean - item)\n",
    "        \n",
    "        return mean_dev / self.length(l)\n",
    "    \n",
    "    def median(self, l: list):\n",
    "        l = self.sort(l)\n",
    "        length = self.length(l)\n",
    "        mid = length // 2\n",
    "        \n",
    "        if length % 2 == 0:\n",
    "            return (l[mid] + l[mid + 1]) / 2\n",
    "        else:\n",
    "            return l[mid]\n",
    "        \n",
    "    def mode(self, l: list):\n",
    "        counter = collections.Counter(l)\n",
    "        return counter.most_common(1)[0][0]\n",
    "    \n",
    "    def variance(self, l: list):\n",
    "        mean = self.average(l)\n",
    "        var = 0\n",
    "        \n",
    "        for item in l:\n",
    "            var += (mean - item) ** 2\n",
    "            \n",
    "        return var // self.length(l)\n",
    "    \n",
    "    def standard_deviation(self, l: list):\n",
    "        return self.variance(l) ** 0.5"
   ]
  },
  {
   "cell_type": "code",
   "execution_count": 20,
   "metadata": {},
   "outputs": [],
   "source": [
    "def perform_statistics(l: list[int]):\n",
    "    stats = Stats()\n",
    "    \n",
    "    print(\"Average :\", stats.average(l))\n",
    "    print(\"Median :\", stats.median(l))\n",
    "    print(\"Mode :\", stats.mode(l))\n",
    "    print(\"Standard Deviation :\", stats.standard_deviation(l))\n",
    "    print(\"Variance :\", stats.variance(l))\n",
    "    print(\"Mean Deviation :\", stats.mean_deviation(l))\n",
    "    print(\"Minimum :\", stats.min(l))\n",
    "    print(\"Maximum :\", stats.max(l))\n",
    "    print(\"Count :\", stats.count(l, 6))\n",
    "    print(\"Range :\", stats.range(l))\n",
    "    print(\"Length :\", stats.length(l))\n",
    "    print(\"Sum :\", stats.sum(l))\n",
    "    print(\"Sorted Data :\", stats.sort(l))"
   ]
  },
  {
   "cell_type": "code",
   "execution_count": 21,
   "metadata": {},
   "outputs": [
    {
     "name": "stdout",
     "output_type": "stream",
     "text": [
      "Average : 9.5\n",
      "Median : 9.5\n",
      "Mode : 6\n",
      "Standard Deviation : 4.0\n",
      "Variance : 16.0\n",
      "Mean Deviation : 3.375\n",
      "Minimum : 5\n",
      "Maximum : 17\n",
      "Count : 2\n",
      "Range : 12\n",
      "Length : 8\n",
      "Sum : 76\n",
      "Sorted Data : [5, 6, 6, 8, 9, 10, 15, 17]\n"
     ]
    }
   ],
   "source": [
    "perform_statistics([6, 6, 10, 15, 9, 8, 17, 5])"
   ]
  }
 ],
 "metadata": {
  "kernelspec": {
   "display_name": "Python 3",
   "language": "python",
   "name": "python3"
  },
  "language_info": {
   "codemirror_mode": {
    "name": "ipython",
    "version": 3
   },
   "file_extension": ".py",
   "mimetype": "text/x-python",
   "name": "python",
   "nbconvert_exporter": "python",
   "pygments_lexer": "ipython3",
   "version": "3.13.1"
  }
 },
 "nbformat": 4,
 "nbformat_minor": 2
}
