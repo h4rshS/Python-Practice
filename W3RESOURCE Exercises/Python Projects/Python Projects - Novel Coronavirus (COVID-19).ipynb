{
 "cells": [
  {
   "cell_type": "markdown",
   "metadata": {},
   "source": [
    "##  Write a Python program to visualize Worldwide Confirmed Novel Coronavirus (COVID-19) cases over time."
   ]
  },
  {
   "cell_type": "code",
   "execution_count": 1,
   "metadata": {},
   "outputs": [],
   "source": [
    "import pandas as pd\n",
    "import plotly.express as px\n",
    "import plotly.io as pio"
   ]
  },
  {
   "cell_type": "code",
   "execution_count": 9,
   "metadata": {},
   "outputs": [],
   "source": [
    "def visualize(path: str):\n",
    "    pio.templates.default = \"plotly_dark\"\n",
    "    \n",
    "    covid_data = pd.read_csv(path)\n",
    "    grouped = (covid_data.groupby('Last Update')['Last Update','Confirmed','Deaths']).sum().reset_index()\n",
    "    \n",
    "    fig = px.line(grouped, x=\"Last Update\", y=\"Confrimed\", title=\"Worldwide Confirmed Novel Coronavirus(COVID-19) Cases Over Time\")\n",
    "    fig.show()"
   ]
  },
  {
   "cell_type": "code",
   "execution_count": null,
   "metadata": {},
   "outputs": [],
   "source": [
    "visualize('https://raw.githubusercontent.com/CSSEGISandData/COVID-19/master/csse_covid_19_data/csse_covid_19_daily_reports/03-19-2020.csv')"
   ]
  }
 ],
 "metadata": {
  "kernelspec": {
   "display_name": "Python 3",
   "language": "python",
   "name": "python3"
  },
  "language_info": {
   "codemirror_mode": {
    "name": "ipython",
    "version": 3
   },
   "file_extension": ".py",
   "mimetype": "text/x-python",
   "name": "python",
   "nbconvert_exporter": "python",
   "pygments_lexer": "ipython3",
   "version": "3.13.1"
  }
 },
 "nbformat": 4,
 "nbformat_minor": 2
}
