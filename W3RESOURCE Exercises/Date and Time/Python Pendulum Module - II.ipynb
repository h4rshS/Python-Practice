{
 "cells": [
  {
   "cell_type": "markdown",
   "metadata": {},
   "source": [
    "# Countdown Timer"
   ]
  },
  {
   "cell_type": "markdown",
   "metadata": {},
   "source": [
    "## Write a Python program that creates a countdown timer that prints the remaining time in seconds every second until reaching zero using Pendulum module."
   ]
  },
  {
   "cell_type": "code",
   "execution_count": 1,
   "metadata": {},
   "outputs": [],
   "source": [
    "import pendulum\n",
    "import time"
   ]
  },
  {
   "cell_type": "code",
   "execution_count": null,
   "metadata": {},
   "outputs": [],
   "source": [
    "def countdown(end_datetime_str: str):\n",
    "    end_datetime = pendulum.parse(end_datetime_str)\n",
    "    \n",
    "    current_datetime = pendulum.now()\n",
    "    \n",
    "    remaining_datetime = end_datetime.diff(current_datetime)\n",
    "    \n",
    "    while(remaining_datetime.total_seconds() > 0):\n",
    "        print(remaining_datetime.total_seconds(), \"sec remaining\")\n",
    "        \n",
    "        time.sleep(1)\n",
    "        \n",
    "        current_datetime = pendulum.now()\n",
    "        remaining_datetime = end_datetime.diff(current_datetime)\n",
    "        \n",
    "    print(\"Countdown Reached\")"
   ]
  },
  {
   "cell_type": "code",
   "execution_count": null,
   "metadata": {},
   "outputs": [],
   "source": [
    "countdown(\"2025-01-10 13:35:00\")"
   ]
  }
 ],
 "metadata": {
  "kernelspec": {
   "display_name": "Python 3",
   "language": "python",
   "name": "python3"
  },
  "language_info": {
   "codemirror_mode": {
    "name": "ipython",
    "version": 3
   },
   "file_extension": ".py",
   "mimetype": "text/x-python",
   "name": "python",
   "nbconvert_exporter": "python",
   "pygments_lexer": "ipython3",
   "version": "3.13.1"
  }
 },
 "nbformat": 4,
 "nbformat_minor": 2
}
