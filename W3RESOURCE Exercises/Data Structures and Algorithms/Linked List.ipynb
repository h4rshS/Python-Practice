{
 "cells": [
  {
   "cell_type": "markdown",
   "metadata": {},
   "source": [
    "## Write a Python program to delete a specific item from a given doubly linked list."
   ]
  },
  {
   "cell_type": "code",
   "execution_count": 1,
   "metadata": {},
   "outputs": [],
   "source": [
    "class Node:\n",
    "    \n",
    "    def __init__(self, data: int):\n",
    "        self.data = data\n",
    "        self.next = None\n",
    "        self.prev = None"
   ]
  },
  {
   "cell_type": "code",
   "execution_count": 26,
   "metadata": {},
   "outputs": [],
   "source": [
    "class DoublyLinkedList:\n",
    "    \n",
    "    def __init__(self):\n",
    "        self.head = None\n",
    "        self.tail = None\n",
    "        self.count = 0\n",
    "        \n",
    "    def append(self, value):\n",
    "        node = Node(value)\n",
    "        \n",
    "        if self.head is None:\n",
    "            self.head = node\n",
    "            self.tail = self.head\n",
    "        else:\n",
    "            node.prev = self.tail\n",
    "            self.tail.next = node\n",
    "            self.tail = node\n",
    "        \n",
    "        self.count += 1\n",
    "        \n",
    "    def iter(self):\n",
    "        curr = self.head\n",
    "        \n",
    "        while curr:\n",
    "            value = curr.data\n",
    "            curr = curr.next\n",
    "            yield value\n",
    "        \n",
    "    def print_forward(self):\n",
    "        for val in self.iter():\n",
    "            print(val)\n",
    "            \n",
    "    def search_item(self, val):\n",
    "        for data in self.iter():\n",
    "            if data == val:\n",
    "                return True\n",
    "        \n",
    "        return False\n",
    "    \n",
    "    def delete(self, val):\n",
    "        curr = self.head\n",
    "        \n",
    "        if curr:\n",
    "            if curr.data == val:\n",
    "                self.head = curr.next\n",
    "                self.head.prev = None\n",
    "                self.count -= 1\n",
    "            elif self.tail.data == val:\n",
    "                self.tail = self.tail.prev\n",
    "                self.tail.next = None\n",
    "                self.count -= 1\n",
    "            else:\n",
    "                while curr:\n",
    "                    if curr.data == val:\n",
    "                        curr.prev.next = curr.next\n",
    "                        curr.next.prev = curr.prev\n",
    "                        self.count -= 1\n",
    "                        break\n",
    "                        \n",
    "                    curr = curr.next"
   ]
  },
  {
   "cell_type": "code",
   "execution_count": 27,
   "metadata": {},
   "outputs": [],
   "source": [
    "doublyLinkedList = DoublyLinkedList()"
   ]
  },
  {
   "cell_type": "code",
   "execution_count": 28,
   "metadata": {},
   "outputs": [],
   "source": [
    "doublyLinkedList.append('PHP')\n",
    "doublyLinkedList.append('Python')\n",
    "doublyLinkedList.append('C#')\n",
    "doublyLinkedList.append('C++')\n",
    "doublyLinkedList.append('Java')\n",
    "doublyLinkedList.append('SQL')"
   ]
  },
  {
   "cell_type": "code",
   "execution_count": 29,
   "metadata": {},
   "outputs": [
    {
     "name": "stdout",
     "output_type": "stream",
     "text": [
      "PHP\n",
      "Python\n",
      "C#\n",
      "C++\n",
      "Java\n",
      "SQL\n"
     ]
    }
   ],
   "source": [
    "doublyLinkedList.print_forward()"
   ]
  },
  {
   "cell_type": "code",
   "execution_count": 30,
   "metadata": {},
   "outputs": [],
   "source": [
    "doublyLinkedList.delete(\"Java\")\n",
    "doublyLinkedList.delete(\"Python\")"
   ]
  },
  {
   "cell_type": "code",
   "execution_count": 31,
   "metadata": {},
   "outputs": [
    {
     "data": {
      "text/plain": [
       "False"
      ]
     },
     "execution_count": 31,
     "metadata": {},
     "output_type": "execute_result"
    }
   ],
   "source": [
    "doublyLinkedList.search_item(\"Python\")"
   ]
  },
  {
   "cell_type": "code",
   "execution_count": 32,
   "metadata": {},
   "outputs": [
    {
     "name": "stdout",
     "output_type": "stream",
     "text": [
      "PHP\n",
      "C#\n",
      "C++\n",
      "SQL\n"
     ]
    }
   ],
   "source": [
    "doublyLinkedList.print_forward()"
   ]
  }
 ],
 "metadata": {
  "kernelspec": {
   "display_name": "Python 3",
   "language": "python",
   "name": "python3"
  },
  "language_info": {
   "codemirror_mode": {
    "name": "ipython",
    "version": 3
   },
   "file_extension": ".py",
   "mimetype": "text/x-python",
   "name": "python",
   "nbconvert_exporter": "python",
   "pygments_lexer": "ipython3",
   "version": "3.13.1"
  }
 },
 "nbformat": 4,
 "nbformat_minor": 2
}
