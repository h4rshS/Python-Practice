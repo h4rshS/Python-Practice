{
 "cells": [
  {
   "cell_type": "markdown",
   "metadata": {},
   "source": [
    "## Write a Python program to sort unsorted numbers using Merge-insertion sort."
   ]
  },
  {
   "cell_type": "code",
   "execution_count": 4,
   "metadata": {},
   "outputs": [],
   "source": [
    "def merge_insertion_sort(arr: list[int]):\n",
    "    def binary_search_insertion(sorted_list, item):\n",
    "        left = 0\n",
    "        right = len(sorted_list) - 1\n",
    "        \n",
    "        while left <= right:\n",
    "            middle = (left + right) // 2\n",
    "            if left == right:\n",
    "                if sorted_list[middle] < item:\n",
    "                    left = middle + 1\n",
    "                break\n",
    "            elif sorted_list[middle] < item:\n",
    "                left = middle + 1\n",
    "            else:\n",
    "                right = middle - 1\n",
    "        sorted_list.insert(left, item)\n",
    "        \n",
    "        return sorted_list\n",
    "    \n",
    "    def sortlist_2d(list_2d):\n",
    "        \n",
    "        def merge(left, right):\n",
    "            result = []\n",
    "            \n",
    "            while left and right:\n",
    "                if left[0][0] < right[0][0]:\n",
    "                    result.append(left.pop(0))\n",
    "                else:\n",
    "                    result.append(right.pop(0))\n",
    "                    \n",
    "            return result + left + right\n",
    "\n",
    "        length = len(list_2d)\n",
    "        \n",
    "        if length <= 1:\n",
    "            return list_2d\n",
    "        \n",
    "        middle = length // 2\n",
    "        \n",
    "        return merge(sortlist_2d(list_2d[:middle]), sortlist_2d(list_2d[middle:]))\n",
    "    \n",
    "    if len(arr) <= 1:\n",
    "        return arr\n",
    "    \n",
    "    two_paired_list = []\n",
    "    has_last_odd_item = False\n",
    "    \n",
    "    for i in range(0, len(arr), 2):\n",
    "        if i == len(arr) - 1:\n",
    "            has_last_odd_item = True\n",
    "        else:\n",
    "            if arr[i] < arr[i + 1]:\n",
    "                two_paired_list.append([arr[i], arr[i + 1]])\n",
    "            else:\n",
    "                two_paired_list.append([arr[i + 1], arr[i]])\n",
    "                \n",
    "    sorted_list_2d = sortlist_2d(two_paired_list)\n",
    "    \n",
    "    result = [i[0] for i in sorted_list_2d]\n",
    "    \n",
    "    result.append(sorted_list_2d[-1][1])\n",
    "    \n",
    "    if has_last_odd_item:\n",
    "        pivot = arr[-1]\n",
    "        result = binary_search_insertion(result, pivot)\n",
    "        \n",
    "    is_last_odd_item_inserted_before_this_index = False\n",
    "    \n",
    "    for i in range(len(sorted_list_2d) - 1):\n",
    "        \n",
    "        if result[i] == arr[-i]:\n",
    "            is_last_odd_item_inserted_before_this_index = True\n",
    "            \n",
    "        pivot = sorted_list_2d[i][1]\n",
    "        \n",
    "        if is_last_odd_item_inserted_before_this_index:\n",
    "            result = result[: i + 2] + binary_search_insertion(result[i + 2 :], pivot)\n",
    "        else:\n",
    "            result = result[: i + 1] + binary_search_insertion(result[i + 1 :], pivot)\n",
    "\n",
    "    return result"
   ]
  },
  {
   "cell_type": "code",
   "execution_count": 5,
   "metadata": {},
   "outputs": [
    {
     "data": {
      "text/plain": [
       "[1, 2, 3, 4, 5]"
      ]
     },
     "execution_count": 5,
     "metadata": {},
     "output_type": "execute_result"
    }
   ],
   "source": [
    "merge_insertion_sort([4, 3, 5, 1, 2])"
   ]
  },
  {
   "cell_type": "code",
   "execution_count": 6,
   "metadata": {},
   "outputs": [
    {
     "data": {
      "text/plain": [
       "[-18, -4, 0, 3, 5, 5, 7, 9, 10, 46, 92, 178]"
      ]
     },
     "execution_count": 6,
     "metadata": {},
     "output_type": "execute_result"
    }
   ],
   "source": [
    "merge_insertion_sort([5, 9, 10, 3, -4, 5, 178, 92, 46, -18, 0, 7])"
   ]
  },
  {
   "cell_type": "code",
   "execution_count": 7,
   "metadata": {},
   "outputs": [
    {
     "data": {
      "text/plain": [
       "[-1.1, -1, 0, 0.1, 1, 1.1]"
      ]
     },
     "execution_count": 7,
     "metadata": {},
     "output_type": "execute_result"
    }
   ],
   "source": [
    "merge_insertion_sort([1.1, 1, 0, -1, -1.1, .1])"
   ]
  },
  {
   "cell_type": "code",
   "execution_count": 8,
   "metadata": {},
   "outputs": [
    {
     "data": {
      "text/plain": [
       "['a', 'b', 'c', 'x', 'y', 'z']"
      ]
     },
     "execution_count": 8,
     "metadata": {},
     "output_type": "execute_result"
    }
   ],
   "source": [
    "merge_insertion_sort(['z','a','y','b','x','c'])"
   ]
  }
 ],
 "metadata": {
  "kernelspec": {
   "display_name": "Python 3",
   "language": "python",
   "name": "python3"
  },
  "language_info": {
   "codemirror_mode": {
    "name": "ipython",
    "version": 3
   },
   "file_extension": ".py",
   "mimetype": "text/x-python",
   "name": "python",
   "nbconvert_exporter": "python",
   "pygments_lexer": "ipython3",
   "version": "3.13.1"
  }
 },
 "nbformat": 4,
 "nbformat_minor": 2
}
