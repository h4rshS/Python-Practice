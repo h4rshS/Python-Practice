{
 "cells": [
  {
   "cell_type": "markdown",
   "metadata": {},
   "source": [
    "## There are two non-empty linked lists where every node contains non-negative single digit. Write a Python program to reverse and add the numbers of the two linked lists."
   ]
  },
  {
   "cell_type": "code",
   "execution_count": 1,
   "metadata": {},
   "outputs": [],
   "source": [
    "class Node:\n",
    "    \n",
    "    def __init__(self, data: int):\n",
    "        self.data = data\n",
    "        self.next = None"
   ]
  },
  {
   "cell_type": "code",
   "execution_count": 2,
   "metadata": {},
   "outputs": [],
   "source": [
    "class LinkedList:\n",
    "    \n",
    "    def __init__(self):\n",
    "        self.head = None\n",
    "        self.tail = None\n",
    "        self.count = 0\n",
    "        \n",
    "    def append(self, data: int):\n",
    "        node = Node(data)\n",
    "        \n",
    "        if self.tail:\n",
    "            self.tail.next = node\n",
    "            self.tail = node\n",
    "        else:\n",
    "            self.head = node\n",
    "            self.tail = self.head\n",
    "        \n",
    "        self.count += 1\n",
    "        \n",
    "    def iterate(self):\n",
    "        curr = self.head\n",
    "        \n",
    "        while curr:\n",
    "            val = curr.data\n",
    "            curr = curr.next\n",
    "            yield val"
   ]
  },
  {
   "cell_type": "code",
   "execution_count": 16,
   "metadata": {},
   "outputs": [],
   "source": [
    "def add_lists(list1: Node, list2: Node):\n",
    "    str1, str2 = '',''\n",
    "    \n",
    "    while list1:\n",
    "        str1 += str(list1.data)\n",
    "        list1 = list1.next\n",
    "        \n",
    "    while list2:\n",
    "        str2 += str(list2.data)\n",
    "        list2 = list2.next\n",
    "        \n",
    "    list1_val = int(str1[::-1])\n",
    "    list2_val = int(str2[::-1])\n",
    "    \n",
    "    return list(map(int, str(list1_val + list2_val)[::-1]))"
   ]
  },
  {
   "cell_type": "code",
   "execution_count": 13,
   "metadata": {},
   "outputs": [],
   "source": [
    "list1 = LinkedList()\n",
    "list1.append(5)\n",
    "list1.append(4)\n",
    "list1.append(3)\n",
    "list1.append(1)\n",
    "list1.append(2)"
   ]
  },
  {
   "cell_type": "code",
   "execution_count": 14,
   "metadata": {},
   "outputs": [],
   "source": [
    "list2 = LinkedList()\n",
    "list2.append(4)\n",
    "list2.append(2)\n",
    "list2.append(1)"
   ]
  },
  {
   "cell_type": "code",
   "execution_count": 17,
   "metadata": {},
   "outputs": [
    {
     "data": {
      "text/plain": [
       "[9, 6, 4, 1, 2]"
      ]
     },
     "execution_count": 17,
     "metadata": {},
     "output_type": "execute_result"
    }
   ],
   "source": [
    "add_lists(list1.head, list2.head)"
   ]
  }
 ],
 "metadata": {
  "kernelspec": {
   "display_name": "Python 3",
   "language": "python",
   "name": "python3"
  },
  "language_info": {
   "codemirror_mode": {
    "name": "ipython",
    "version": 3
   },
   "file_extension": ".py",
   "mimetype": "text/x-python",
   "name": "python",
   "nbconvert_exporter": "python",
   "pygments_lexer": "ipython3",
   "version": "3.13.1"
  }
 },
 "nbformat": 4,
 "nbformat_minor": 2
}
