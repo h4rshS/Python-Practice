{
 "cells": [
  {
   "cell_type": "markdown",
   "metadata": {},
   "source": [
    "## Write a Python program to create a library for working with finite automata and regular languages."
   ]
  },
  {
   "cell_type": "code",
   "execution_count": 1,
   "metadata": {},
   "outputs": [],
   "source": [
    "from collections import defaultdict"
   ]
  },
  {
   "cell_type": "code",
   "execution_count": 2,
   "metadata": {},
   "outputs": [],
   "source": [
    "class State:\n",
    "    \n",
    "    def __init__(self, name: str, is_final: bool = False):\n",
    "        self.name = name\n",
    "        self.is_final = is_final"
   ]
  },
  {
   "cell_type": "code",
   "execution_count": 3,
   "metadata": {},
   "outputs": [],
   "source": [
    "class Transition:\n",
    "    \n",
    "    def __init__(self, from_state: State, to_state: State, symbol: chr):\n",
    "        self.from_state = from_state\n",
    "        self.to_state = to_state\n",
    "        self.symbol = symbol"
   ]
  },
  {
   "cell_type": "code",
   "execution_count": 16,
   "metadata": {},
   "outputs": [],
   "source": [
    "class FiniteAutomata:\n",
    "    \n",
    "    def __init__(self, states: list, alphabet: set, transitions: list, start_state: State, final_states: list):\n",
    "        self.states = {state.name : state for state in states}\n",
    "        self.alphabet = alphabet\n",
    "        self.transitions = defaultdict(list)\n",
    "        \n",
    "        for t in transitions:\n",
    "            self.transitions[t.from_state.name].append((t.symbol, t.to_state.name))\n",
    "            \n",
    "        self.start_state = start_state.name\n",
    "        self.final_states = {state.name for state in final_states}\n",
    "        \n",
    "    def is_accepting(self, input_string: str):\n",
    "        curr_state = self.start_state\n",
    "        \n",
    "        for symbol in input_string:\n",
    "            if symbol not in self.alphabet:\n",
    "                return False\n",
    "            \n",
    "            found = False\n",
    "            for (transition_symbol, next_state) in self.transitions[curr_state]:\n",
    "                if transition_symbol == symbol:\n",
    "                    found = True\n",
    "                    curr_state = next_state\n",
    "                    break\n",
    "                \n",
    "            if not found:\n",
    "                return False\n",
    "            \n",
    "        return curr_state in self.final_states"
   ]
  },
  {
   "cell_type": "code",
   "execution_count": 17,
   "metadata": {},
   "outputs": [],
   "source": [
    "class DFA(FiniteAutomata):\n",
    "    \n",
    "    def __init__(self, states: list, alphabet: set, transitions: list, start_state: State, final_states: list):\n",
    "        super().__init__(states, alphabet, transitions, start_state, final_states)"
   ]
  },
  {
   "cell_type": "code",
   "execution_count": 18,
   "metadata": {},
   "outputs": [],
   "source": [
    "class NFA(FiniteAutomata):\n",
    "    \n",
    "    def __init__(self, states: list, alphabet: set, transitions: list, start_state: State, final_states: list):\n",
    "        super().__init__(states, alphabet, transitions, start_state, final_states)\n",
    "        \n",
    "    def is_accepting(self, input_string: str):\n",
    "        curr_states = {self.start_state}\n",
    "        \n",
    "        for symbol in input_string:\n",
    "            if symbol not in self.alphabet:\n",
    "                return False\n",
    "            \n",
    "            next_states = set()\n",
    "            \n",
    "            for state in curr_states:\n",
    "                for (transition_symbol, next_state) in self.transitions[state]:\n",
    "                    if transition_symbol == symbol:\n",
    "                        next_states.add(next_state)\n",
    "                        \n",
    "            curr_states = next_states\n",
    "            \n",
    "            if not curr_states:\n",
    "                return False\n",
    "        \n",
    "        return any(state in self.final_states for state in curr_states)             "
   ]
  },
  {
   "cell_type": "code",
   "execution_count": 19,
   "metadata": {},
   "outputs": [],
   "source": [
    "def main():\n",
    "    \n",
    "    # DFA Implementation\n",
    "    S0 = State(\"S0\", False)\n",
    "    S1 = State(\"S1\", True)\n",
    "    \n",
    "    alphabet = {'0','1'}\n",
    "    \n",
    "    transitions = [\n",
    "        Transition(S0, S0, '1'),\n",
    "        Transition(S0, S1, '0'),\n",
    "        Transition(S1, S0, '1'),\n",
    "        Transition(S1, S1, '0')\n",
    "    ]\n",
    "    \n",
    "    dfa = DFA(states=[S0, S1], alphabet=alphabet, transitions=transitions, start_state=S0, final_states=[S1])\n",
    "    \n",
    "    print(dfa.is_accepting('0'))\n",
    "    print(dfa.is_accepting('1'))\n",
    "    print(dfa.is_accepting('01'))\n",
    "    print(dfa.is_accepting('11'))\n",
    "    \n",
    "    \n",
    "    # NFA Implementation\n",
    "    transitions = [\n",
    "        Transition(S0, S0, '1'),\n",
    "        Transition(S0, S1, '0'),\n",
    "        Transition(S1, S1, '0'),\n",
    "        Transition(S1, S1, '1')\n",
    "    ]\n",
    "    \n",
    "    nfa = NFA(states=[S0, S1], alphabet=alphabet, transitions=transitions, start_state=S0, final_states=[S1])\n",
    "    \n",
    "    print(nfa.is_accepting('0'))\n",
    "    print(nfa.is_accepting('1'))\n",
    "    print(nfa.is_accepting('01'))\n",
    "    print(nfa.is_accepting('11'))"
   ]
  },
  {
   "cell_type": "code",
   "execution_count": 20,
   "metadata": {},
   "outputs": [
    {
     "name": "stdout",
     "output_type": "stream",
     "text": [
      "True\n",
      "False\n",
      "False\n",
      "False\n",
      "True\n",
      "False\n",
      "True\n",
      "False\n"
     ]
    }
   ],
   "source": [
    "main()"
   ]
  }
 ],
 "metadata": {
  "kernelspec": {
   "display_name": "Python 3",
   "language": "python",
   "name": "python3"
  },
  "language_info": {
   "codemirror_mode": {
    "name": "ipython",
    "version": 3
   },
   "file_extension": ".py",
   "mimetype": "text/x-python",
   "name": "python",
   "nbconvert_exporter": "python",
   "pygments_lexer": "ipython3",
   "version": "3.13.1"
  }
 },
 "nbformat": 4,
 "nbformat_minor": 2
}
