{
 "cells": [
  {
   "cell_type": "markdown",
   "metadata": {},
   "source": [
    "## Write a Python program to implement a system for tracking and analyzing software metrics."
   ]
  },
  {
   "cell_type": "code",
   "execution_count": 1,
   "metadata": {},
   "outputs": [],
   "source": [
    "import statistics"
   ]
  },
  {
   "cell_type": "code",
   "execution_count": 2,
   "metadata": {},
   "outputs": [],
   "source": [
    "class SoftwareMetrics:\n",
    "    \n",
    "    def __init__(self):\n",
    "        self.metrics = {}\n",
    "        \n",
    "    def add_metric(self, metric_name: str, value: float):\n",
    "        if metric_name not in self.metrics:\n",
    "            self.metrics[metric_name] = []\n",
    "        \n",
    "        self.metrics[metric_name].append(value)\n",
    "        \n",
    "    def calculate_average(self, metric_name: str):\n",
    "        if metric_name in self.metrics:\n",
    "            return statistics.mean(self.metrics[metric_name])\n",
    "        else:\n",
    "            return None\n",
    "        \n",
    "    def find_min_max(self, metric_name: str):\n",
    "        if metric_name in self.metrics:\n",
    "            return (min(self.metrics[metric_name]), max(self.metrics[metric_name]))\n",
    "        else:\n",
    "            return (None, None)\n",
    "        \n",
    "    def generate_report(self):\n",
    "        report = []\n",
    "        \n",
    "        for (metric_name, values) in self.metrics.items():\n",
    "            average = self.calculate_average(metric_name)\n",
    "            (min_val, max_val) = self.find_min_max(metric_name)\n",
    "            \n",
    "            report.append({\n",
    "                'metric_name': metric_name,\n",
    "                'average': average,\n",
    "                'min': min_val,\n",
    "                'max': max_val\n",
    "            })\n",
    "            \n",
    "        return report"
   ]
  },
  {
   "cell_type": "code",
   "execution_count": 3,
   "metadata": {},
   "outputs": [],
   "source": [
    "def main():\n",
    "    metrics = SoftwareMetrics()\n",
    "    \n",
    "    while True:\n",
    "        print(\"\\nSoftware Metrics Tracking System\")\n",
    "        print(\"1. Add Metric\")\n",
    "        print(\"2. Generate Report\")\n",
    "        print(\"3. Exit\")\n",
    "        \n",
    "        choice = input(\"Enter Your Choice:\")\n",
    "        \n",
    "        if choice == '1':   \n",
    "            metric_name = input(\"Enter Metric Name:\")\n",
    "            \n",
    "            try:\n",
    "                value = float(input(\"Enter Metric Value:\"))\n",
    "                metrics.add_metric(metric_name, value)\n",
    "                print(f\"Added Value {value} to Metric {metric_name}.\")\n",
    "            except ValueError:\n",
    "                print(\"Invalid Value, Please Enter a Numeric Value\")\n",
    "                \n",
    "        elif choice == '2':\n",
    "            report = metrics.generate_report()\n",
    "            \n",
    "            for metric in report:\n",
    "                print(f\"\\nMetric : {metric['metric_name']}\")\n",
    "                print(f\"Average : {metric['average']}\")\n",
    "                print(f\"Min : {metric['min']}\")\n",
    "                print(f\"Max : {metric['max']}\")\n",
    "            \n",
    "        elif choice == '3':\n",
    "            print(\"Exiting the System\")\n",
    "            break\n",
    "        else:\n",
    "            print(\"Invalid Input, Please Try Again!\")"
   ]
  },
  {
   "cell_type": "code",
   "execution_count": 4,
   "metadata": {},
   "outputs": [
    {
     "name": "stdout",
     "output_type": "stream",
     "text": [
      "\n",
      " Software Metrics Tracking System\n",
      "1. Add Metric\n",
      "2. Generate Report\n",
      "3. Exit\n",
      "Added Value 65.0 to Metric CPU_Usage.\n",
      "\n",
      " Software Metrics Tracking System\n",
      "1. Add Metric\n",
      "2. Generate Report\n",
      "3. Exit\n",
      "Added Value 60.0 to Metric CPU_Usage.\n",
      "\n",
      " Software Metrics Tracking System\n",
      "1. Add Metric\n",
      "2. Generate Report\n",
      "3. Exit\n",
      "Added Value 70.0 to Metric Memory_Usage.\n",
      "\n",
      " Software Metrics Tracking System\n",
      "1. Add Metric\n",
      "2. Generate Report\n",
      "3. Exit\n",
      "Added Value 73.0 to Metric Memory_Usage.\n",
      "\n",
      " Software Metrics Tracking System\n",
      "1. Add Metric\n",
      "2. Generate Report\n",
      "3. Exit\n",
      "\n",
      "Metric : CPU_Usage\n",
      "Average : 62.5\n",
      "Min : 60.0\n",
      "Max : 65.0\n",
      "\n",
      "Metric : Memory_Usage\n",
      "Average : 71.5\n",
      "Min : 70.0\n",
      "Max : 73.0\n",
      "\n",
      " Software Metrics Tracking System\n",
      "1. Add Metric\n",
      "2. Generate Report\n",
      "3. Exit\n",
      "Exiting the System\n"
     ]
    }
   ],
   "source": [
    "main()"
   ]
  }
 ],
 "metadata": {
  "kernelspec": {
   "display_name": "Python 3",
   "language": "python",
   "name": "python3"
  },
  "language_info": {
   "codemirror_mode": {
    "name": "ipython",
    "version": 3
   },
   "file_extension": ".py",
   "mimetype": "text/x-python",
   "name": "python",
   "nbconvert_exporter": "python",
   "pygments_lexer": "ipython3",
   "version": "3.13.1"
  }
 },
 "nbformat": 4,
 "nbformat_minor": 2
}
