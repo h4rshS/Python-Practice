{
 "cells": [
  {
   "cell_type": "markdown",
   "metadata": {},
   "source": [
    "## Write a Python program to create a class representing a bank. Include methods for managing customer accounts and transactions."
   ]
  },
  {
   "cell_type": "code",
   "execution_count": 1,
   "metadata": {},
   "outputs": [],
   "source": [
    "class Bank:\n",
    "    \n",
    "    def __init__(self):\n",
    "        self.customers = {}\n",
    "        \n",
    "    def create_account(self, account_number, balance=0):\n",
    "        if account_number in self.customers:\n",
    "            print('Customer already has an account')\n",
    "        else:\n",
    "            self.customers[account_number] = balance\n",
    "            print('Account Created Successfully')\n",
    "            \n",
    "    def deposit(self, account_number, amount):\n",
    "        if account_number in self.customers:\n",
    "            self.customers[account_number] += amount\n",
    "            print('Deposit Successfull')\n",
    "        else:\n",
    "            print('Account does not exist')\n",
    "            \n",
    "    def withdraw(self, account_number, amount):\n",
    "        if account_number in self.customers:\n",
    "            if self.customers[account_number] >= amount:\n",
    "                self.customers[account_number] -= amount\n",
    "                print('Withdrawal Successfull')\n",
    "            else:\n",
    "                print('Insufficient Balance')\n",
    "        else:\n",
    "            print('Account does not exist')\n",
    "            \n",
    "    def check_balance(self, account_number):\n",
    "        if account_number in self.customers:\n",
    "            print(f'Account Balance for the Account Number : {account_number} is {self.customers[account_number]}')\n",
    "        else:\n",
    "            print('Account does not exist')"
   ]
  },
  {
   "cell_type": "code",
   "execution_count": 3,
   "metadata": {},
   "outputs": [
    {
     "name": "stdout",
     "output_type": "stream",
     "text": [
      "Account Created Successfully\n",
      "Account Created Successfully\n"
     ]
    }
   ],
   "source": [
    "bank = Bank()\n",
    "\n",
    "bank.create_account(\"SB-123\", 1000)\n",
    "bank.create_account(\"SB-124\", 1500)"
   ]
  },
  {
   "cell_type": "code",
   "execution_count": 4,
   "metadata": {},
   "outputs": [
    {
     "name": "stdout",
     "output_type": "stream",
     "text": [
      "Account Balance for the Account Number : SB-123 is 1000\n",
      "Account Balance for the Account Number : SB-124 is 1500\n"
     ]
    }
   ],
   "source": [
    "bank.check_balance(\"SB-123\")\n",
    "bank.check_balance(\"SB-124\")"
   ]
  },
  {
   "cell_type": "code",
   "execution_count": 5,
   "metadata": {},
   "outputs": [
    {
     "name": "stdout",
     "output_type": "stream",
     "text": [
      "Deposit Successfull\n"
     ]
    }
   ],
   "source": [
    "bank.deposit(\"SB-123\", 600)"
   ]
  },
  {
   "cell_type": "code",
   "execution_count": 6,
   "metadata": {},
   "outputs": [
    {
     "name": "stdout",
     "output_type": "stream",
     "text": [
      "Withdrawal Successfull\n"
     ]
    }
   ],
   "source": [
    "bank.withdraw(\"SB-124\", 350)"
   ]
  },
  {
   "cell_type": "code",
   "execution_count": 7,
   "metadata": {},
   "outputs": [
    {
     "name": "stdout",
     "output_type": "stream",
     "text": [
      "Insufficient Balance\n"
     ]
    }
   ],
   "source": [
    "bank.withdraw(\"SB-124\", 1200)"
   ]
  },
  {
   "cell_type": "code",
   "execution_count": 8,
   "metadata": {},
   "outputs": [
    {
     "name": "stdout",
     "output_type": "stream",
     "text": [
      "Account does not exist\n"
     ]
    }
   ],
   "source": [
    "bank.check_balance(\"SB-134\")"
   ]
  }
 ],
 "metadata": {
  "kernelspec": {
   "display_name": "Python 3",
   "language": "python",
   "name": "python3"
  },
  "language_info": {
   "codemirror_mode": {
    "name": "ipython",
    "version": 3
   },
   "file_extension": ".py",
   "mimetype": "text/x-python",
   "name": "python",
   "nbconvert_exporter": "python",
   "pygments_lexer": "ipython3",
   "version": "3.13.1"
  }
 },
 "nbformat": 4,
 "nbformat_minor": 2
}
