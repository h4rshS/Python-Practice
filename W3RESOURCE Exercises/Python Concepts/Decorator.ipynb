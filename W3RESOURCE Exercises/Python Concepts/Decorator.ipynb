{
 "cells": [
  {
   "cell_type": "markdown",
   "metadata": {},
   "source": [
    "## Write a Python program that implements a decorator to provide caching with expiration time for a function."
   ]
  },
  {
   "cell_type": "code",
   "execution_count": 1,
   "metadata": {},
   "outputs": [],
   "source": [
    "import time"
   ]
  },
  {
   "cell_type": "code",
   "execution_count": 14,
   "metadata": {},
   "outputs": [],
   "source": [
    "def cache_with_expiry(expiration_time):\n",
    "    \n",
    "    def decorator(func):\n",
    "        cache = {}\n",
    "        \n",
    "        def wrap(*args, **kwargs): \n",
    "            key = (*args, *kwargs.items())\n",
    "            \n",
    "            if key in cache:\n",
    "                (value, timestamp) = cache[key]\n",
    "                \n",
    "                if time.time() - timestamp < expiration_time:\n",
    "                    print('Retrieving result from cache')\n",
    "                    return value\n",
    "                \n",
    "            result = func(*args, **kwargs)\n",
    "            cache[key] = (result, time.time())\n",
    "            return result\n",
    "        \n",
    "        return wrap\n",
    "        \n",
    "    return decorator"
   ]
  },
  {
   "cell_type": "code",
   "execution_count": 15,
   "metadata": {},
   "outputs": [],
   "source": [
    "@cache_with_expiry(expiration_time=5)\n",
    "def multiply(x: int, y: int):\n",
    "    print('Calculating product of two numbers')\n",
    "    return x * y"
   ]
  },
  {
   "cell_type": "code",
   "execution_count": 16,
   "metadata": {},
   "outputs": [
    {
     "name": "stdout",
     "output_type": "stream",
     "text": [
      "Calculating product of two numbers\n",
      "115\n",
      "Retrieving result from cache\n",
      "115\n",
      "Calculating product of two numbers\n",
      "115\n"
     ]
    }
   ],
   "source": [
    "print(multiply(23, 5))\n",
    "print(multiply(23, 5))\n",
    "\n",
    "time.sleep(5)\n",
    "\n",
    "print(multiply(23, 5))"
   ]
  }
 ],
 "metadata": {
  "kernelspec": {
   "display_name": "Python 3",
   "language": "python",
   "name": "python3"
  },
  "language_info": {
   "codemirror_mode": {
    "name": "ipython",
    "version": 3
   },
   "file_extension": ".py",
   "mimetype": "text/x-python",
   "name": "python",
   "nbconvert_exporter": "python",
   "pygments_lexer": "ipython3",
   "version": "3.13.1"
  }
 },
 "nbformat": 4,
 "nbformat_minor": 2
}
