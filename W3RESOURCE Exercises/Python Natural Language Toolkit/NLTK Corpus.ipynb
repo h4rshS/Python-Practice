{
 "cells": [
  {
   "cell_type": "markdown",
   "metadata": {},
   "source": [
    "##  Write a Python NLTK program to extract the last letter of all the labeled names and create a new array with the last letter of each name and the associated label."
   ]
  },
  {
   "cell_type": "code",
   "execution_count": 1,
   "metadata": {},
   "outputs": [],
   "source": [
    "from nltk.corpus import names"
   ]
  },
  {
   "cell_type": "code",
   "execution_count": 6,
   "metadata": {},
   "outputs": [],
   "source": [
    "def create_labeled_array(males: list, females: list):\n",
    "    labeled_males = [(str(name), 'male') for name in males]\n",
    "    labeled_females = [(str(name), 'female') for name in females]\n",
    "    \n",
    "    all_labeled_names = labeled_males + labeled_females\n",
    "    \n",
    "    return [(name[-1], gender) for (name, gender) in all_labeled_names]"
   ]
  },
  {
   "cell_type": "code",
   "execution_count": 7,
   "metadata": {},
   "outputs": [
    {
     "data": {
      "text/plain": [
       "[('r', 'male'),\n",
       " ('n', 'male'),\n",
       " ('y', 'male'),\n",
       " ('e', 'male'),\n",
       " ('t', 'male'),\n",
       " ('t', 'male'),\n",
       " ('y', 'male'),\n",
       " ('l', 'male'),\n",
       " ('l', 'female'),\n",
       " ('m', 'female'),\n",
       " ('h', 'female'),\n",
       " ('e', 'female'),\n",
       " ('l', 'female'),\n",
       " ('d', 'female'),\n",
       " ('r', 'female')]"
      ]
     },
     "execution_count": 7,
     "metadata": {},
     "output_type": "execute_result"
    }
   ],
   "source": [
    "create_labeled_array(['Aamir','Aaron','Abbey','Abbie','Abbot','Abbott','Abby','Abdel'], ['Abdul','Abdulkarim','Abdullah','Abe','Abel','Abelard','Abner'])"
   ]
  }
 ],
 "metadata": {
  "kernelspec": {
   "display_name": "Python 3",
   "language": "python",
   "name": "python3"
  },
  "language_info": {
   "codemirror_mode": {
    "name": "ipython",
    "version": 3
   },
   "file_extension": ".py",
   "mimetype": "text/x-python",
   "name": "python",
   "nbconvert_exporter": "python",
   "pygments_lexer": "ipython3",
   "version": "3.13.1"
  }
 },
 "nbformat": 4,
 "nbformat_minor": 2
}
