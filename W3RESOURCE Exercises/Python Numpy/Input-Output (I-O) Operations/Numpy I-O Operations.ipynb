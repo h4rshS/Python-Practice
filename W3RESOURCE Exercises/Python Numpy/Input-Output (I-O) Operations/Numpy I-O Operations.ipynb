{
 "cells": [
  {
   "cell_type": "markdown",
   "metadata": {},
   "source": [
    "## Write a NumPy array to a CSV file with a custom delimiter and then read it back into a NumPy array using the same delimiter."
   ]
  },
  {
   "cell_type": "code",
   "execution_count": 1,
   "metadata": {},
   "outputs": [],
   "source": [
    "import numpy as np"
   ]
  },
  {
   "cell_type": "code",
   "execution_count": 2,
   "metadata": {},
   "outputs": [],
   "source": [
    "def read_write_arr_to_csv():\n",
    "    arr = np.array([[1, 2, 3], [4, 5, 6], [7, 8, 9]])\n",
    "    \n",
    "    file_name = 'Array_Data.csv'\n",
    "    \n",
    "    np.savetxt(file_name, arr, delimiter=';', fmt='%d')\n",
    "    \n",
    "    loaded_arr = np.loadtxt(file_name, delimiter=';')\n",
    "    \n",
    "    return loaded_arr"
   ]
  },
  {
   "cell_type": "code",
   "execution_count": 3,
   "metadata": {},
   "outputs": [
    {
     "data": {
      "text/plain": [
       "array([[1., 2., 3.],\n",
       "       [4., 5., 6.],\n",
       "       [7., 8., 9.]])"
      ]
     },
     "execution_count": 3,
     "metadata": {},
     "output_type": "execute_result"
    }
   ],
   "source": [
    "read_write_arr_to_csv()"
   ]
  }
 ],
 "metadata": {
  "kernelspec": {
   "display_name": "Python 3",
   "language": "python",
   "name": "python3"
  },
  "language_info": {
   "codemirror_mode": {
    "name": "ipython",
    "version": 3
   },
   "file_extension": ".py",
   "mimetype": "text/x-python",
   "name": "python",
   "nbconvert_exporter": "python",
   "pygments_lexer": "ipython3",
   "version": "3.13.1"
  }
 },
 "nbformat": 4,
 "nbformat_minor": 2
}
