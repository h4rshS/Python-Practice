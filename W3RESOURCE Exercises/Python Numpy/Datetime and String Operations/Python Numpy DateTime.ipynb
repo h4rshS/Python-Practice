{
 "cells": [
  {
   "cell_type": "markdown",
   "metadata": {},
   "source": [
    "## Write a NumPy program to convert numpy datetime64 to Timestamp."
   ]
  },
  {
   "cell_type": "code",
   "execution_count": 1,
   "metadata": {},
   "outputs": [],
   "source": [
    "import numpy as np\n",
    "from datetime import datetime"
   ]
  },
  {
   "cell_type": "code",
   "execution_count": 5,
   "metadata": {},
   "outputs": [],
   "source": [
    "def datetime64_to_timestamp():\n",
    "    curr_datetime = datetime.utcnow()\n",
    "    \n",
    "    dt64 = np.datetime64(curr_datetime)\n",
    "    \n",
    "    return (dt64 - np.datetime64('1970-01-01T00:00:00Z')) / np.timedelta64(1,'s')\n",
    "\n",
    "    # datetime.utcfromtimestamp(ts)"
   ]
  },
  {
   "cell_type": "code",
   "execution_count": 6,
   "metadata": {},
   "outputs": [
    {
     "name": "stderr",
     "output_type": "stream",
     "text": [
      "C:\\Users\\HarshSakhwala\\AppData\\Local\\Temp\\ipykernel_2884\\1080268788.py:2: DeprecationWarning: datetime.datetime.utcnow() is deprecated and scheduled for removal in a future version. Use timezone-aware objects to represent datetimes in UTC: datetime.datetime.now(datetime.UTC).\n",
      "  curr_datetime = datetime.utcnow()\n",
      "C:\\Users\\HarshSakhwala\\AppData\\Local\\Temp\\ipykernel_2884\\1080268788.py:6: UserWarning: no explicit representation of timezones available for np.datetime64\n",
      "  return (dt64 - np.datetime64('1970-01-01T00:00:00Z')) / np.timedelta64(1,'s')\n"
     ]
    },
    {
     "data": {
      "text/plain": [
       "np.float64(1736763905.504467)"
      ]
     },
     "execution_count": 6,
     "metadata": {},
     "output_type": "execute_result"
    }
   ],
   "source": [
    "datetime64_to_timestamp()"
   ]
  }
 ],
 "metadata": {
  "kernelspec": {
   "display_name": "Python 3",
   "language": "python",
   "name": "python3"
  },
  "language_info": {
   "codemirror_mode": {
    "name": "ipython",
    "version": 3
   },
   "file_extension": ".py",
   "mimetype": "text/x-python",
   "name": "python",
   "nbconvert_exporter": "python",
   "pygments_lexer": "ipython3",
   "version": "3.13.1"
  }
 },
 "nbformat": 4,
 "nbformat_minor": 2
}
