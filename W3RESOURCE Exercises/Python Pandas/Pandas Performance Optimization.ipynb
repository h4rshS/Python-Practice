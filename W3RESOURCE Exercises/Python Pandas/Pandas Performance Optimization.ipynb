{
 "cells": [
  {
   "cell_type": "markdown",
   "metadata": {},
   "source": [
    "## Write a Pandas program to optimize the performance of reading a large Excel file into a DataFrame by specifying data types and using the \"usecols\" parameter."
   ]
  },
  {
   "cell_type": "code",
   "execution_count": 1,
   "metadata": {},
   "outputs": [],
   "source": [
    "import pandas as pd"
   ]
  },
  {
   "cell_type": "code",
   "execution_count": 2,
   "metadata": {},
   "outputs": [],
   "source": [
    "def read_excel():\n",
    "    file_name = 'large_excel_file.xlsx'\n",
    "    \n",
    "    dtype = {\n",
    "        'Column1': 'int64',\n",
    "        'Column2': 'float64',\n",
    "        'Column3': 'object',\n",
    "        }\n",
    "    \n",
    "    usecols = ['Column1','Column2','Column3']\n",
    "    \n",
    "    df = pd.read_excel(file_name, dtype=dtype, usecols=usecols)\n",
    "    \n",
    "    return df.head()"
   ]
  },
  {
   "cell_type": "code",
   "execution_count": null,
   "metadata": {},
   "outputs": [],
   "source": [
    "read_excel()"
   ]
  },
  {
   "attachments": {
    "image.png": {
     "image/png": "[encoded data removed]"
    }
   },
   "cell_type": "markdown",
   "metadata": {},
   "source": [
    "![image.png](attachment:image.png)"
   ]
  }
 ],
 "metadata": {
  "kernelspec": {
   "display_name": "Python 3",
   "language": "python",
   "name": "python3"
  },
  "language_info": {
   "codemirror_mode": {
    "name": "ipython",
    "version": 3
   },
   "file_extension": ".py",
   "mimetype": "text/x-python",
   "name": "python",
   "nbconvert_exporter": "python",
   "pygments_lexer": "ipython3",
   "version": "3.13.1"
  }
 },
 "nbformat": 4,
 "nbformat_minor": 2
}
