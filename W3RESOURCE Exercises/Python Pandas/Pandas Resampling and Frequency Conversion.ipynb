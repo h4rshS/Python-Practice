{
 "cells": [
  {
   "cell_type": "markdown",
   "metadata": {},
   "source": [
    "## Write a Pandas program to calculate percentage change in Resampled data."
   ]
  },
  {
   "cell_type": "code",
   "execution_count": 1,
   "metadata": {},
   "outputs": [],
   "source": [
    "import pandas as pd\n",
    "import numpy as np"
   ]
  },
  {
   "cell_type": "code",
   "execution_count": 4,
   "metadata": {},
   "outputs": [],
   "source": [
    "def calculate_change():\n",
    "    date_range = pd.date_range(start='2021-01-01', end='2021-01-10', freq='D')\n",
    "    ts = pd.Series(np.random.randn(len(date_range)), index=date_range)\n",
    "    \n",
    "    resampled_ts = ts.resample('D').mean()\n",
    "    \n",
    "    return resampled_ts.pct_change()"
   ]
  },
  {
   "cell_type": "code",
   "execution_count": 5,
   "metadata": {},
   "outputs": [
    {
     "data": {
      "text/plain": [
       "2021-01-01         NaN\n",
       "2021-01-02   -2.940989\n",
       "2021-01-03   -1.218185\n",
       "2021-01-04    3.435117\n",
       "2021-01-05    0.048920\n",
       "2021-01-06   -4.384478\n",
       "2021-01-07   -0.701941\n",
       "2021-01-08   -0.758771\n",
       "2021-01-09   -2.251813\n",
       "2021-01-10   -7.155788\n",
       "Freq: D, dtype: float64"
      ]
     },
     "execution_count": 5,
     "metadata": {},
     "output_type": "execute_result"
    }
   ],
   "source": [
    "calculate_change()"
   ]
  }
 ],
 "metadata": {
  "kernelspec": {
   "display_name": "Python 3",
   "language": "python",
   "name": "python3"
  },
  "language_info": {
   "codemirror_mode": {
    "name": "ipython",
    "version": 3
   },
   "file_extension": ".py",
   "mimetype": "text/x-python",
   "name": "python",
   "nbconvert_exporter": "python",
   "pygments_lexer": "ipython3",
   "version": "3.13.1"
  }
 },
 "nbformat": 4,
 "nbformat_minor": 2
}
