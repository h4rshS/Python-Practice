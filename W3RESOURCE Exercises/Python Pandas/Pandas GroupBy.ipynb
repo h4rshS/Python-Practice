{
 "cells": [
  {
   "cell_type": "markdown",
   "metadata": {},
   "source": [
    "##  Write a Pandas program to split the following dataset using group by on 'salesman_id' and find the first order date for each group."
   ]
  },
  {
   "cell_type": "code",
   "execution_count": 1,
   "metadata": {},
   "outputs": [],
   "source": [
    "import pandas as pd"
   ]
  },
  {
   "cell_type": "code",
   "execution_count": 2,
   "metadata": {},
   "outputs": [],
   "source": [
    "def find_first_date():\n",
    "    pd.set_option('display.max_rows', None)\n",
    "    \n",
    "    df = pd.DataFrame({\n",
    "    'ord_no': [70001,70009,70002,70004,70007,70005,70008,70010,70003,70012,70011,70013],\n",
    "    'purch_amt': [150.5,270.65,65.26,110.5,948.5,2400.6,5760,1983.43,2480.4,250.45, 75.29,3045.6],\n",
    "    'ord_date': ['2012-10-05','2012-09-10','2012-10-05','2012-08-17','2012-09-10','2012-07-27','2012-09-10','2012-10-10','2012-10-10','2012-06-27','2012-08-17','2012-04-25'],\n",
    "    'customer_id': [3005,3001,3002,3009,3005,3007,3002,3004,3009,3008,3003,3002],\n",
    "    'salesman_id': [5002,5005,5001,5003,5002,5001,5001,5004,5003,5002,5004,5001]\n",
    "    })\n",
    "    \n",
    "    return df.groupby('salesman_id')['ord_date'].min()"
   ]
  },
  {
   "cell_type": "code",
   "execution_count": 3,
   "metadata": {},
   "outputs": [
    {
     "data": {
      "text/plain": [
       "salesman_id\n",
       "5001    2012-04-25\n",
       "5002    2012-06-27\n",
       "5003    2012-08-17\n",
       "5004    2012-08-17\n",
       "5005    2012-09-10\n",
       "Name: ord_date, dtype: object"
      ]
     },
     "execution_count": 3,
     "metadata": {},
     "output_type": "execute_result"
    }
   ],
   "source": [
    "find_first_date()"
   ]
  }
 ],
 "metadata": {
  "kernelspec": {
   "display_name": "Python 3",
   "language": "python",
   "name": "python3"
  },
  "language_info": {
   "codemirror_mode": {
    "name": "ipython",
    "version": 3
   },
   "file_extension": ".py",
   "mimetype": "text/x-python",
   "name": "python",
   "nbconvert_exporter": "python",
   "pygments_lexer": "ipython3",
   "version": "3.13.1"
  }
 },
 "nbformat": 4,
 "nbformat_minor": 2
}
