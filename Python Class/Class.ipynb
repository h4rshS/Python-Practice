{
 "cells": [
  {
   "cell_type": "markdown",
   "metadata": {},
   "source": [
    "## Write a Python class Inventory with attributes like item_id, item_name, stock_count, and price, and methods like add_item, update_item, and check_item_details.\n",
    "Use a dictionary to store the item details, where the key is the item_id and the value is a dictionary containing the item_name, stock_count, and price."
   ]
  },
  {
   "cell_type": "code",
   "execution_count": 1,
   "metadata": {},
   "outputs": [],
   "source": [
    "class Inventory:\n",
    "    \n",
    "    def __init__(self):\n",
    "        self.inventory = {}\n",
    "        \n",
    "    def add_item(self, item_id, item_name, stock_count, price):\n",
    "        self.inventory[item_id] = {'item_name': item_name,\n",
    "                                'stock_count': stock_count,\n",
    "                                'price': price\n",
    "                                }\n",
    "        \n",
    "    def update_item(self, item_id, stock_count, price):\n",
    "        if item_id in self.inventory:\n",
    "            self.inventory[item_id]['stock_count'] = stock_count\n",
    "            self.inventory[item_id]['price'] = price\n",
    "        else:\n",
    "            print('Sorry! Item Not found')\n",
    "            \n",
    "    def check_item_details(self, item_id):\n",
    "        if item_id in self.inventory:\n",
    "            print(self.inventory[item_id])\n",
    "        else:\n",
    "            print('Sorry! Item not found')"
   ]
  },
  {
   "cell_type": "code",
   "execution_count": 2,
   "metadata": {},
   "outputs": [],
   "source": [
    "inventory = Inventory()\n",
    "\n",
    "inventory.add_item(\"I001\", \"Laptop\", 100, 500.00)\n",
    "inventory.add_item(\"I002\", \"Mobile\", 110, 450.00)\n",
    "inventory.add_item(\"I003\", \"Desktop\", 120, 500.00)\n",
    "inventory.add_item(\"I004\", \"Tablet\", 90, 550.00)"
   ]
  },
  {
   "cell_type": "code",
   "execution_count": 3,
   "metadata": {},
   "outputs": [
    {
     "name": "stdout",
     "output_type": "stream",
     "text": [
      "{'item_name': 'Laptop', 'stock_count': 100, 'price': 500.0}\n",
      "{'item_name': 'Mobile', 'stock_count': 110, 'price': 450.0}\n",
      "{'item_name': 'Desktop', 'stock_count': 120, 'price': 500.0}\n",
      "{'item_name': 'Tablet', 'stock_count': 90, 'price': 550.0}\n"
     ]
    }
   ],
   "source": [
    "inventory.check_item_details(\"I001\")\n",
    "inventory.check_item_details(\"I002\")\n",
    "inventory.check_item_details(\"I003\")\n",
    "inventory.check_item_details(\"I004\")"
   ]
  },
  {
   "cell_type": "code",
   "execution_count": 4,
   "metadata": {},
   "outputs": [
    {
     "name": "stdout",
     "output_type": "stream",
     "text": [
      "{'item_name': 'Laptop', 'stock_count': 100, 'price': 505.0}\n"
     ]
    }
   ],
   "source": [
    "inventory.update_item(\"I001\", 100, 505.00)\n",
    "inventory.check_item_details(\"I001\")"
   ]
  },
  {
   "cell_type": "code",
   "execution_count": 5,
   "metadata": {},
   "outputs": [
    {
     "name": "stdout",
     "output_type": "stream",
     "text": [
      "{'item_name': 'Desktop', 'stock_count': 115, 'price': 500.0}\n"
     ]
    }
   ],
   "source": [
    "inventory.update_item(\"I003\", 115, 500.00)\n",
    "inventory.check_item_details(\"I003\")"
   ]
  }
 ],
 "metadata": {
  "kernelspec": {
   "display_name": "Python 3",
   "language": "python",
   "name": "python3"
  },
  "language_info": {
   "codemirror_mode": {
    "name": "ipython",
    "version": 3
   },
   "file_extension": ".py",
   "mimetype": "text/x-python",
   "name": "python",
   "nbconvert_exporter": "python",
   "pygments_lexer": "ipython3",
   "version": "3.13.1"
  }
 },
 "nbformat": 4,
 "nbformat_minor": 2
}
