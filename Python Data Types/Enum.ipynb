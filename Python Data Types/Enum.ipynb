{
 "cells": [
  {
   "cell_type": "markdown",
   "metadata": {},
   "source": [
    "## Write a Python program to get unique enumeration values."
   ]
  },
  {
   "cell_type": "code",
   "execution_count": 1,
   "metadata": {},
   "outputs": [],
   "source": [
    "from enum import Enum"
   ]
  },
  {
   "cell_type": "code",
   "execution_count": 2,
   "metadata": {},
   "outputs": [],
   "source": [
    "def unique_enums():\n",
    "    class Countries(Enum):\n",
    "        Afghanistan = 93\n",
    "        Albania = 355\n",
    "        Algeria = 213\n",
    "        Andorra = 376\n",
    "        Angola = 244\n",
    "        India = 355\n",
    "        USA = 213\n",
    "        \n",
    "    for country in Countries:\n",
    "        print(f'{country.name} = {country.value}')"
   ]
  },
  {
   "cell_type": "code",
   "execution_count": 3,
   "metadata": {},
   "outputs": [
    {
     "name": "stdout",
     "output_type": "stream",
     "text": [
      "Afghanistan = 93\n",
      "Albania = 355\n",
      "Algeria = 213\n",
      "Andorra = 376\n",
      "Angola = 244\n"
     ]
    }
   ],
   "source": [
    "unique_enums()"
   ]
  }
 ],
 "metadata": {
  "kernelspec": {
   "display_name": "Python 3",
   "language": "python",
   "name": "python3"
  },
  "language_info": {
   "codemirror_mode": {
    "name": "ipython",
    "version": 3
   },
   "file_extension": ".py",
   "mimetype": "text/x-python",
   "name": "python",
   "nbconvert_exporter": "python",
   "pygments_lexer": "ipython3",
   "version": "3.13.1"
  }
 },
 "nbformat": 4,
 "nbformat_minor": 2
}
