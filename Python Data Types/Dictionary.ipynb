{
 "cells": [
  {
   "cell_type": "markdown",
   "metadata": {},
   "source": [
    "## Write a Python program to find the key of the maximum value in a dictionary."
   ]
  },
  {
   "cell_type": "code",
   "execution_count": 8,
   "metadata": {},
   "outputs": [],
   "source": [
    "import sys"
   ]
  },
  {
   "cell_type": "code",
   "execution_count": 19,
   "metadata": {},
   "outputs": [],
   "source": [
    "def find_max(d: dict):\n",
    "    maxi = ('key', -1)\n",
    "    mini = ('key', sys.maxsize)\n",
    "    \n",
    "    for (k, v) in d.items():\n",
    "        \n",
    "        if v > maxi[1]:\n",
    "            maxi = (k, v)\n",
    "        \n",
    "        if v < mini[1]:\n",
    "            mini = (k, v)\n",
    "        \n",
    "    return(maxi[0], mini[0])"
   ]
  },
  {
   "cell_type": "code",
   "execution_count": 3,
   "metadata": {},
   "outputs": [],
   "source": [
    "def find_max(d: dict):\n",
    "    return (max(d, key=d.get), min(d, key=d.get))"
   ]
  },
  {
   "cell_type": "code",
   "execution_count": 20,
   "metadata": {},
   "outputs": [
    {
     "data": {
      "text/plain": [
       "('Roxanne', 'Theodore')"
      ]
     },
     "execution_count": 20,
     "metadata": {},
     "output_type": "execute_result"
    }
   ],
   "source": [
    "find_max({\n",
    "    'Theodore': 19,\n",
    "    'Roxanne': 22,\n",
    "    'Mathew': 21,\n",
    "    'Betty': 20\n",
    "})"
   ]
  }
 ],
 "metadata": {
  "kernelspec": {
   "display_name": "Python 3",
   "language": "python",
   "name": "python3"
  },
  "language_info": {
   "codemirror_mode": {
    "name": "ipython",
    "version": 3
   },
   "file_extension": ".py",
   "mimetype": "text/x-python",
   "name": "python",
   "nbconvert_exporter": "python",
   "pygments_lexer": "ipython3",
   "version": "3.13.1"
  }
 },
 "nbformat": 4,
 "nbformat_minor": 2
}
